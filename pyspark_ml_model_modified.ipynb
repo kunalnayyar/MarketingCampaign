{
  "nbformat": 4,
  "nbformat_minor": 0,
  "metadata": {
    "colab": {
      "provenance": []
    },
    "kernelspec": {
      "display_name": "Python 3",
      "language": "python",
      "name": "python3"
    },
    "language_info": {
      "codemirror_mode": {
        "name": "ipython",
        "version": 3
      },
      "file_extension": ".py",
      "mimetype": "text/x-python",
      "name": "python",
      "nbconvert_exporter": "python",
      "pygments_lexer": "ipython3",
      "version": "3.5.2"
    }
  },
  "cells": [
    {
      "cell_type": "code",
      "metadata": {
        "id": "yX5lFx_C8wZN",
        "colab": {
          "base_uri": "https://localhost:8080/"
        },
        "outputId": "99919259-879a-4acb-85f2-4927066c6b91"
      },
      "source": [
        "!sudo apt-get install openjdk-8-jdk-headless -qq > /dev/null"
      ],
      "execution_count": null,
      "outputs": [
        {
          "output_type": "stream",
          "name": "stdout",
          "text": [
            "debconf: unable to initialize frontend: Dialog\n",
            "debconf: (No usable dialog-like program is installed, so the dialog based frontend cannot be used. at /usr/share/perl5/Debconf/FrontEnd/Dialog.pm line 76, <> line 2.)\n",
            "debconf: falling back to frontend: Readline\n",
            "debconf: unable to initialize frontend: Readline\n",
            "debconf: (This frontend requires a controlling tty.)\n",
            "debconf: falling back to frontend: Teletype\n",
            "dpkg-preconfigure: unable to re-open stdin: \n"
          ]
        }
      ]
    },
    {
      "cell_type": "code",
      "metadata": {
        "id": "OLQvkGj29HsY"
      },
      "source": [
        "!wget -q https://archive.apache.org/dist/spark/spark-3.2.0/spark-3.2.0-bin-hadoop3.2.tgz"
      ],
      "execution_count": null,
      "outputs": []
    },
    {
      "cell_type": "code",
      "metadata": {
        "id": "OXIu2pyK98QD"
      },
      "source": [
        "!tar xf spark-3.2.0-bin-hadoop3.2.tgz"
      ],
      "execution_count": null,
      "outputs": []
    },
    {
      "cell_type": "code",
      "metadata": {
        "id": "wBEruRJUA95r"
      },
      "source": [
        "import os\n",
        "os.environ[\"JAVA_HOME\"] = \"/usr/lib/jvm/java-8-openjdk-amd64\"\n",
        "os.environ[\"SPARK_HOME\"] = \"/content/spark-3.2.0-bin-hadoop3.2\""
      ],
      "execution_count": null,
      "outputs": []
    },
    {
      "cell_type": "code",
      "metadata": {
        "colab": {
          "base_uri": "https://localhost:8080/"
        },
        "id": "MmIrZbb--Lsl",
        "outputId": "51698bf2-38cb-4c3f-92fe-08c5960aaece"
      },
      "source": [
        "ls"
      ],
      "execution_count": null,
      "outputs": [
        {
          "output_type": "stream",
          "name": "stdout",
          "text": [
            "\u001b[0m\u001b[01;34msample_data\u001b[0m/  \u001b[01;34mspark-3.2.0-bin-hadoop3.2\u001b[0m/  spark-3.2.0-bin-hadoop3.2.tgz\n"
          ]
        }
      ]
    },
    {
      "cell_type": "code",
      "metadata": {
        "colab": {
          "base_uri": "https://localhost:8080/"
        },
        "id": "EkbOJaMhkRdS",
        "outputId": "2a04984f-ec80-4108-987e-12b90711b386"
      },
      "source": [
        "from google.colab import drive\n",
        "drive.mount('/content/drive')"
      ],
      "execution_count": null,
      "outputs": [
        {
          "output_type": "stream",
          "name": "stdout",
          "text": [
            "Mounted at /content/drive\n"
          ]
        }
      ]
    },
    {
      "cell_type": "code",
      "metadata": {
        "colab": {
          "base_uri": "https://localhost:8080/"
        },
        "id": "xN7sFk11khOE",
        "outputId": "7fabc6f6-280e-4dbe-fe3d-c943f6a67416"
      },
      "source": [
        "ls /content/drive/MyDrive/marketing_data/"
      ],
      "execution_count": null,
      "outputs": [
        {
          "output_type": "stream",
          "name": "stdout",
          "text": [
            " City_Master.csv                     Customer_social_economic_data_p1.csv\n",
            "'Customer_and_bank details_p1.csv'   Region_code_master.csv\n",
            " Customer_campaign_details_p1.csv    State_Master.csv\n",
            " Customer_Postal_Code_details.csv    \u001b[0m\u001b[01;34mtransformed_files\u001b[0m/\n",
            " Customer_Response_data_p1.csv\n"
          ]
        }
      ]
    },
    {
      "cell_type": "code",
      "metadata": {
        "colab": {
          "base_uri": "https://localhost:8080/"
        },
        "id": "zKlr-n3ilbMi",
        "outputId": "e454f978-5394-4ba6-fc22-47070d61fc2a"
      },
      "source": [
        "!pip install findspark\n",
        "!pip install pyspark"
      ],
      "execution_count": null,
      "outputs": [
        {
          "output_type": "stream",
          "name": "stdout",
          "text": [
            "Looking in indexes: https://pypi.org/simple, https://us-python.pkg.dev/colab-wheels/public/simple/\n",
            "Collecting findspark\n",
            "  Downloading findspark-2.0.1-py2.py3-none-any.whl (4.4 kB)\n",
            "Installing collected packages: findspark\n",
            "Successfully installed findspark-2.0.1\n",
            "Looking in indexes: https://pypi.org/simple, https://us-python.pkg.dev/colab-wheels/public/simple/\n",
            "Collecting pyspark\n",
            "  Downloading pyspark-3.3.0.tar.gz (281.3 MB)\n",
            "\u001b[K     |████████████████████████████████| 281.3 MB 44 kB/s \n",
            "\u001b[?25hCollecting py4j==0.10.9.5\n",
            "  Downloading py4j-0.10.9.5-py2.py3-none-any.whl (199 kB)\n",
            "\u001b[K     |████████████████████████████████| 199 kB 47.4 MB/s \n",
            "\u001b[?25hBuilding wheels for collected packages: pyspark\n",
            "  Building wheel for pyspark (setup.py) ... \u001b[?25l\u001b[?25hdone\n",
            "  Created wheel for pyspark: filename=pyspark-3.3.0-py2.py3-none-any.whl size=281764026 sha256=f644411b0e38b51d1a8d7992cbb4473ced00c26dda4df9dea417c2aed5783048\n",
            "  Stored in directory: /root/.cache/pip/wheels/7a/8e/1b/f73a52650d2e5f337708d9f6a1750d451a7349a867f928b885\n",
            "Successfully built pyspark\n",
            "Installing collected packages: py4j, pyspark\n",
            "Successfully installed py4j-0.10.9.5 pyspark-3.3.0\n"
          ]
        }
      ]
    },
    {
      "cell_type": "code",
      "metadata": {
        "id": "k6Kv1hHRt2Wr"
      },
      "source": [
        "import pyspark\n",
        "import numpy as np"
      ],
      "execution_count": null,
      "outputs": []
    },
    {
      "cell_type": "code",
      "metadata": {
        "id": "UVJiLH8uBVvU",
        "colab": {
          "base_uri": "https://localhost:8080/",
          "height": 519
        },
        "outputId": "3f4b47ed-2175-4916-bae1-879fcdbd1c8d"
      },
      "source": [
        "import findspark\n",
        "findspark.init()\n",
        "from pyspark.sql import SparkSession\n",
        "spark = SparkSession.builder.master(\"local[*]\").getOrCreate()\n"
      ],
      "execution_count": null,
      "outputs": [
        {
          "output_type": "error",
          "ename": "Py4JError",
          "evalue": "ignored",
          "traceback": [
            "\u001b[0;31m---------------------------------------------------------------------------\u001b[0m",
            "\u001b[0;31mPy4JError\u001b[0m                                 Traceback (most recent call last)",
            "\u001b[0;32m<ipython-input-9-3e51e97f758b>\u001b[0m in \u001b[0;36m<module>\u001b[0;34m\u001b[0m\n\u001b[1;32m      2\u001b[0m \u001b[0mfindspark\u001b[0m\u001b[0;34m.\u001b[0m\u001b[0minit\u001b[0m\u001b[0;34m(\u001b[0m\u001b[0;34m)\u001b[0m\u001b[0;34m\u001b[0m\u001b[0;34m\u001b[0m\u001b[0m\n\u001b[1;32m      3\u001b[0m \u001b[0;32mfrom\u001b[0m \u001b[0mpyspark\u001b[0m\u001b[0;34m.\u001b[0m\u001b[0msql\u001b[0m \u001b[0;32mimport\u001b[0m \u001b[0mSparkSession\u001b[0m\u001b[0;34m\u001b[0m\u001b[0;34m\u001b[0m\u001b[0m\n\u001b[0;32m----> 4\u001b[0;31m \u001b[0mspark\u001b[0m \u001b[0;34m=\u001b[0m \u001b[0mSparkSession\u001b[0m\u001b[0;34m.\u001b[0m\u001b[0mbuilder\u001b[0m\u001b[0;34m.\u001b[0m\u001b[0mmaster\u001b[0m\u001b[0;34m(\u001b[0m\u001b[0;34m\"local[*]\"\u001b[0m\u001b[0;34m)\u001b[0m\u001b[0;34m.\u001b[0m\u001b[0mgetOrCreate\u001b[0m\u001b[0;34m(\u001b[0m\u001b[0;34m)\u001b[0m\u001b[0;34m\u001b[0m\u001b[0;34m\u001b[0m\u001b[0m\n\u001b[0m",
            "\u001b[0;32m/usr/local/lib/python3.7/dist-packages/pyspark/sql/session.py\u001b[0m in \u001b[0;36mgetOrCreate\u001b[0;34m(self)\u001b[0m\n\u001b[1;32m    270\u001b[0m                     \u001b[0;31m# Do not update `SparkConf` for existing `SparkContext`, as it's shared\u001b[0m\u001b[0;34m\u001b[0m\u001b[0;34m\u001b[0m\u001b[0;34m\u001b[0m\u001b[0m\n\u001b[1;32m    271\u001b[0m                     \u001b[0;31m# by all sessions.\u001b[0m\u001b[0;34m\u001b[0m\u001b[0;34m\u001b[0m\u001b[0;34m\u001b[0m\u001b[0m\n\u001b[0;32m--> 272\u001b[0;31m                     \u001b[0msession\u001b[0m \u001b[0;34m=\u001b[0m \u001b[0mSparkSession\u001b[0m\u001b[0;34m(\u001b[0m\u001b[0msc\u001b[0m\u001b[0;34m,\u001b[0m \u001b[0moptions\u001b[0m\u001b[0;34m=\u001b[0m\u001b[0mself\u001b[0m\u001b[0;34m.\u001b[0m\u001b[0m_options\u001b[0m\u001b[0;34m)\u001b[0m\u001b[0;34m\u001b[0m\u001b[0;34m\u001b[0m\u001b[0m\n\u001b[0m\u001b[1;32m    273\u001b[0m                 \u001b[0;32melse\u001b[0m\u001b[0;34m:\u001b[0m\u001b[0;34m\u001b[0m\u001b[0;34m\u001b[0m\u001b[0m\n\u001b[1;32m    274\u001b[0m                     getattr(\n",
            "\u001b[0;32m/usr/local/lib/python3.7/dist-packages/pyspark/sql/session.py\u001b[0m in \u001b[0;36m__init__\u001b[0;34m(self, sparkContext, jsparkSession, options)\u001b[0m\n\u001b[1;32m    305\u001b[0m                 )\n\u001b[1;32m    306\u001b[0m             \u001b[0;32melse\u001b[0m\u001b[0;34m:\u001b[0m\u001b[0;34m\u001b[0m\u001b[0;34m\u001b[0m\u001b[0m\n\u001b[0;32m--> 307\u001b[0;31m                 \u001b[0mjsparkSession\u001b[0m \u001b[0;34m=\u001b[0m \u001b[0mself\u001b[0m\u001b[0;34m.\u001b[0m\u001b[0m_jvm\u001b[0m\u001b[0;34m.\u001b[0m\u001b[0mSparkSession\u001b[0m\u001b[0;34m(\u001b[0m\u001b[0mself\u001b[0m\u001b[0;34m.\u001b[0m\u001b[0m_jsc\u001b[0m\u001b[0;34m.\u001b[0m\u001b[0msc\u001b[0m\u001b[0;34m(\u001b[0m\u001b[0;34m)\u001b[0m\u001b[0;34m,\u001b[0m \u001b[0moptions\u001b[0m\u001b[0;34m)\u001b[0m\u001b[0;34m\u001b[0m\u001b[0;34m\u001b[0m\u001b[0m\n\u001b[0m\u001b[1;32m    308\u001b[0m         \u001b[0;32melse\u001b[0m\u001b[0;34m:\u001b[0m\u001b[0;34m\u001b[0m\u001b[0;34m\u001b[0m\u001b[0m\n\u001b[1;32m    309\u001b[0m             getattr(getattr(self._jvm, \"SparkSession$\"), \"MODULE$\").applyModifiableSettings(\n",
            "\u001b[0;32m/usr/local/lib/python3.7/dist-packages/py4j/java_gateway.py\u001b[0m in \u001b[0;36m__call__\u001b[0;34m(self, *args)\u001b[0m\n\u001b[1;32m   1584\u001b[0m         \u001b[0manswer\u001b[0m \u001b[0;34m=\u001b[0m \u001b[0mself\u001b[0m\u001b[0;34m.\u001b[0m\u001b[0m_gateway_client\u001b[0m\u001b[0;34m.\u001b[0m\u001b[0msend_command\u001b[0m\u001b[0;34m(\u001b[0m\u001b[0mcommand\u001b[0m\u001b[0;34m)\u001b[0m\u001b[0;34m\u001b[0m\u001b[0;34m\u001b[0m\u001b[0m\n\u001b[1;32m   1585\u001b[0m         return_value = get_return_value(\n\u001b[0;32m-> 1586\u001b[0;31m             answer, self._gateway_client, None, self._fqn)\n\u001b[0m\u001b[1;32m   1587\u001b[0m \u001b[0;34m\u001b[0m\u001b[0m\n\u001b[1;32m   1588\u001b[0m         \u001b[0;32mfor\u001b[0m \u001b[0mtemp_arg\u001b[0m \u001b[0;32min\u001b[0m \u001b[0mtemp_args\u001b[0m\u001b[0;34m:\u001b[0m\u001b[0;34m\u001b[0m\u001b[0;34m\u001b[0m\u001b[0m\n",
            "\u001b[0;32m/usr/local/lib/python3.7/dist-packages/py4j/protocol.py\u001b[0m in \u001b[0;36mget_return_value\u001b[0;34m(answer, gateway_client, target_id, name)\u001b[0m\n\u001b[1;32m    330\u001b[0m                 raise Py4JError(\n\u001b[1;32m    331\u001b[0m                     \u001b[0;34m\"An error occurred while calling {0}{1}{2}. Trace:\\n{3}\\n\"\u001b[0m\u001b[0;34m.\u001b[0m\u001b[0;34m\u001b[0m\u001b[0;34m\u001b[0m\u001b[0m\n\u001b[0;32m--> 332\u001b[0;31m                     format(target_id, \".\", name, value))\n\u001b[0m\u001b[1;32m    333\u001b[0m         \u001b[0;32melse\u001b[0m\u001b[0;34m:\u001b[0m\u001b[0;34m\u001b[0m\u001b[0;34m\u001b[0m\u001b[0m\n\u001b[1;32m    334\u001b[0m             raise Py4JError(\n",
            "\u001b[0;31mPy4JError\u001b[0m: An error occurred while calling None.org.apache.spark.sql.SparkSession. Trace:\npy4j.Py4JException: Constructor org.apache.spark.sql.SparkSession([class org.apache.spark.SparkContext, class java.util.HashMap]) does not exist\n\tat py4j.reflection.ReflectionEngine.getConstructor(ReflectionEngine.java:179)\n\tat py4j.reflection.ReflectionEngine.getConstructor(ReflectionEngine.java:196)\n\tat py4j.Gateway.invoke(Gateway.java:237)\n\tat py4j.commands.ConstructorCommand.invokeConstructor(ConstructorCommand.java:80)\n\tat py4j.commands.ConstructorCommand.execute(ConstructorCommand.java:69)\n\tat py4j.ClientServerConnection.waitForCommands(ClientServerConnection.java:182)\n\tat py4j.ClientServerConnection.run(ClientServerConnection.java:106)\n\tat java.lang.Thread.run(Thread.java:750)\n\n"
          ]
        }
      ]
    },
    {
      "cell_type": "code",
      "metadata": {
        "colab": {
          "base_uri": "https://localhost:8080/",
          "height": 519
        },
        "outputId": "dceeb554-1c89-407b-8b6e-0f82abc75c6d",
        "id": "VEVZOgPtY0kk"
      },
      "source": [
        "import findspark\n",
        "findspark.init()\n",
        "from pyspark.sql import SparkSession\n",
        "spark = SparkSession.builder.getOrCreate()"
      ],
      "execution_count": null,
      "outputs": [
        {
          "output_type": "error",
          "ename": "Py4JError",
          "evalue": "ignored",
          "traceback": [
            "\u001b[0;31m---------------------------------------------------------------------------\u001b[0m",
            "\u001b[0;31mPy4JError\u001b[0m                                 Traceback (most recent call last)",
            "\u001b[0;32m<ipython-input-11-514852b35a2e>\u001b[0m in \u001b[0;36m<module>\u001b[0;34m\u001b[0m\n\u001b[1;32m      2\u001b[0m \u001b[0mfindspark\u001b[0m\u001b[0;34m.\u001b[0m\u001b[0minit\u001b[0m\u001b[0;34m(\u001b[0m\u001b[0;34m)\u001b[0m\u001b[0;34m\u001b[0m\u001b[0;34m\u001b[0m\u001b[0m\n\u001b[1;32m      3\u001b[0m \u001b[0;32mfrom\u001b[0m \u001b[0mpyspark\u001b[0m\u001b[0;34m.\u001b[0m\u001b[0msql\u001b[0m \u001b[0;32mimport\u001b[0m \u001b[0mSparkSession\u001b[0m\u001b[0;34m\u001b[0m\u001b[0;34m\u001b[0m\u001b[0m\n\u001b[0;32m----> 4\u001b[0;31m \u001b[0mspark\u001b[0m \u001b[0;34m=\u001b[0m \u001b[0mSparkSession\u001b[0m\u001b[0;34m.\u001b[0m\u001b[0mbuilder\u001b[0m\u001b[0;34m.\u001b[0m\u001b[0mgetOrCreate\u001b[0m\u001b[0;34m(\u001b[0m\u001b[0;34m)\u001b[0m\u001b[0;34m\u001b[0m\u001b[0;34m\u001b[0m\u001b[0m\n\u001b[0m",
            "\u001b[0;32m/usr/local/lib/python3.7/dist-packages/pyspark/sql/session.py\u001b[0m in \u001b[0;36mgetOrCreate\u001b[0;34m(self)\u001b[0m\n\u001b[1;32m    270\u001b[0m                     \u001b[0;31m# Do not update `SparkConf` for existing `SparkContext`, as it's shared\u001b[0m\u001b[0;34m\u001b[0m\u001b[0;34m\u001b[0m\u001b[0;34m\u001b[0m\u001b[0m\n\u001b[1;32m    271\u001b[0m                     \u001b[0;31m# by all sessions.\u001b[0m\u001b[0;34m\u001b[0m\u001b[0;34m\u001b[0m\u001b[0;34m\u001b[0m\u001b[0m\n\u001b[0;32m--> 272\u001b[0;31m                     \u001b[0msession\u001b[0m \u001b[0;34m=\u001b[0m \u001b[0mSparkSession\u001b[0m\u001b[0;34m(\u001b[0m\u001b[0msc\u001b[0m\u001b[0;34m,\u001b[0m \u001b[0moptions\u001b[0m\u001b[0;34m=\u001b[0m\u001b[0mself\u001b[0m\u001b[0;34m.\u001b[0m\u001b[0m_options\u001b[0m\u001b[0;34m)\u001b[0m\u001b[0;34m\u001b[0m\u001b[0;34m\u001b[0m\u001b[0m\n\u001b[0m\u001b[1;32m    273\u001b[0m                 \u001b[0;32melse\u001b[0m\u001b[0;34m:\u001b[0m\u001b[0;34m\u001b[0m\u001b[0;34m\u001b[0m\u001b[0m\n\u001b[1;32m    274\u001b[0m                     getattr(\n",
            "\u001b[0;32m/usr/local/lib/python3.7/dist-packages/pyspark/sql/session.py\u001b[0m in \u001b[0;36m__init__\u001b[0;34m(self, sparkContext, jsparkSession, options)\u001b[0m\n\u001b[1;32m    305\u001b[0m                 )\n\u001b[1;32m    306\u001b[0m             \u001b[0;32melse\u001b[0m\u001b[0;34m:\u001b[0m\u001b[0;34m\u001b[0m\u001b[0;34m\u001b[0m\u001b[0m\n\u001b[0;32m--> 307\u001b[0;31m                 \u001b[0mjsparkSession\u001b[0m \u001b[0;34m=\u001b[0m \u001b[0mself\u001b[0m\u001b[0;34m.\u001b[0m\u001b[0m_jvm\u001b[0m\u001b[0;34m.\u001b[0m\u001b[0mSparkSession\u001b[0m\u001b[0;34m(\u001b[0m\u001b[0mself\u001b[0m\u001b[0;34m.\u001b[0m\u001b[0m_jsc\u001b[0m\u001b[0;34m.\u001b[0m\u001b[0msc\u001b[0m\u001b[0;34m(\u001b[0m\u001b[0;34m)\u001b[0m\u001b[0;34m,\u001b[0m \u001b[0moptions\u001b[0m\u001b[0;34m)\u001b[0m\u001b[0;34m\u001b[0m\u001b[0;34m\u001b[0m\u001b[0m\n\u001b[0m\u001b[1;32m    308\u001b[0m         \u001b[0;32melse\u001b[0m\u001b[0;34m:\u001b[0m\u001b[0;34m\u001b[0m\u001b[0;34m\u001b[0m\u001b[0m\n\u001b[1;32m    309\u001b[0m             getattr(getattr(self._jvm, \"SparkSession$\"), \"MODULE$\").applyModifiableSettings(\n",
            "\u001b[0;32m/usr/local/lib/python3.7/dist-packages/py4j/java_gateway.py\u001b[0m in \u001b[0;36m__call__\u001b[0;34m(self, *args)\u001b[0m\n\u001b[1;32m   1584\u001b[0m         \u001b[0manswer\u001b[0m \u001b[0;34m=\u001b[0m \u001b[0mself\u001b[0m\u001b[0;34m.\u001b[0m\u001b[0m_gateway_client\u001b[0m\u001b[0;34m.\u001b[0m\u001b[0msend_command\u001b[0m\u001b[0;34m(\u001b[0m\u001b[0mcommand\u001b[0m\u001b[0;34m)\u001b[0m\u001b[0;34m\u001b[0m\u001b[0;34m\u001b[0m\u001b[0m\n\u001b[1;32m   1585\u001b[0m         return_value = get_return_value(\n\u001b[0;32m-> 1586\u001b[0;31m             answer, self._gateway_client, None, self._fqn)\n\u001b[0m\u001b[1;32m   1587\u001b[0m \u001b[0;34m\u001b[0m\u001b[0m\n\u001b[1;32m   1588\u001b[0m         \u001b[0;32mfor\u001b[0m \u001b[0mtemp_arg\u001b[0m \u001b[0;32min\u001b[0m \u001b[0mtemp_args\u001b[0m\u001b[0;34m:\u001b[0m\u001b[0;34m\u001b[0m\u001b[0;34m\u001b[0m\u001b[0m\n",
            "\u001b[0;32m/usr/local/lib/python3.7/dist-packages/py4j/protocol.py\u001b[0m in \u001b[0;36mget_return_value\u001b[0;34m(answer, gateway_client, target_id, name)\u001b[0m\n\u001b[1;32m    330\u001b[0m                 raise Py4JError(\n\u001b[1;32m    331\u001b[0m                     \u001b[0;34m\"An error occurred while calling {0}{1}{2}. Trace:\\n{3}\\n\"\u001b[0m\u001b[0;34m.\u001b[0m\u001b[0;34m\u001b[0m\u001b[0;34m\u001b[0m\u001b[0m\n\u001b[0;32m--> 332\u001b[0;31m                     format(target_id, \".\", name, value))\n\u001b[0m\u001b[1;32m    333\u001b[0m         \u001b[0;32melse\u001b[0m\u001b[0;34m:\u001b[0m\u001b[0;34m\u001b[0m\u001b[0;34m\u001b[0m\u001b[0m\n\u001b[1;32m    334\u001b[0m             raise Py4JError(\n",
            "\u001b[0;31mPy4JError\u001b[0m: An error occurred while calling None.org.apache.spark.sql.SparkSession. Trace:\npy4j.Py4JException: Constructor org.apache.spark.sql.SparkSession([class org.apache.spark.SparkContext, class java.util.HashMap]) does not exist\n\tat py4j.reflection.ReflectionEngine.getConstructor(ReflectionEngine.java:179)\n\tat py4j.reflection.ReflectionEngine.getConstructor(ReflectionEngine.java:196)\n\tat py4j.Gateway.invoke(Gateway.java:237)\n\tat py4j.commands.ConstructorCommand.invokeConstructor(ConstructorCommand.java:80)\n\tat py4j.commands.ConstructorCommand.execute(ConstructorCommand.java:69)\n\tat py4j.ClientServerConnection.waitForCommands(ClientServerConnection.java:182)\n\tat py4j.ClientServerConnection.run(ClientServerConnection.java:106)\n\tat java.lang.Thread.run(Thread.java:750)\n\n"
          ]
        }
      ]
    },
    {
      "cell_type": "code",
      "metadata": {
        "colab": {
          "base_uri": "https://localhost:8080/",
          "height": 165
        },
        "id": "UUE-I1e_BW2H",
        "outputId": "ea10e929-30aa-4416-d84f-b3d66df3b3ff"
      },
      "source": [
        "spark"
      ],
      "execution_count": null,
      "outputs": [
        {
          "output_type": "error",
          "ename": "NameError",
          "evalue": "ignored",
          "traceback": [
            "\u001b[0;31m---------------------------------------------------------------------------\u001b[0m",
            "\u001b[0;31mNameError\u001b[0m                                 Traceback (most recent call last)",
            "\u001b[0;32m<ipython-input-10-84901cd22f32>\u001b[0m in \u001b[0;36m<module>\u001b[0;34m\u001b[0m\n\u001b[0;32m----> 1\u001b[0;31m \u001b[0mspark\u001b[0m\u001b[0;34m\u001b[0m\u001b[0;34m\u001b[0m\u001b[0m\n\u001b[0m",
            "\u001b[0;31mNameError\u001b[0m: name 'spark' is not defined"
          ]
        }
      ]
    },
    {
      "cell_type": "code",
      "metadata": {
        "colab": {
          "base_uri": "https://localhost:8080/"
        },
        "id": "VF4fcuvtHmwN",
        "outputId": "cab9fed1-3e3c-4912-e569-c3463d888a6a"
      },
      "source": [
        "spark.sql(\"show tables;\").show() #HIVE query"
      ],
      "execution_count": null,
      "outputs": [
        {
          "output_type": "stream",
          "name": "stdout",
          "text": [
            "+---------+---------+-----------+\n",
            "|namespace|tableName|isTemporary|\n",
            "+---------+---------+-----------+\n",
            "+---------+---------+-----------+\n",
            "\n"
          ]
        }
      ]
    },
    {
      "cell_type": "code",
      "metadata": {
        "id": "rnFf46B8-WG_"
      },
      "source": [
        "from pyspark.sql import Row\n",
        "from pyspark.sql.types import *\n",
        "\n",
        "bankdf_schema = StructType([\n",
        "    StructField(\"Customer_id\", IntegerType(), False),\n",
        "    StructField(\"age\", IntegerType(), True),\n",
        "    StructField(\"job\", StringType(), True),\n",
        "    StructField(\"marital\", StringType(), True),\n",
        "    StructField(\"education\", StringType(), True),\n",
        "    StructField(\"default\", StringType(), True),\n",
        "    StructField(\"housing\", StringType(), True),\n",
        "    StructField(\"loan\", StringType(), True)])\n",
        "\n",
        "campaigndf_schema = StructType([\n",
        "    StructField(\"Customer_id\", IntegerType(), False),\n",
        "    StructField(\"contact\", StringType(), True),\n",
        "    StructField(\"month\", StringType(), True),#check\n",
        "    StructField(\"day_of_week\", StringType(), True),\n",
        "    StructField(\"duration\", IntegerType(), True),\n",
        "    StructField(\"campaign\", IntegerType(), True),\n",
        "    StructField(\"pdays\", IntegerType(), True),\n",
        "    StructField(\"previous\", IntegerType(), True),\n",
        "    StructField(\"poutcome\", StringType(), True)])\n",
        "\n",
        "economicdf_schema = StructType([\n",
        "    StructField(\"Customer_id\", IntegerType(), False),\n",
        "    StructField(\"emp_var_rate\", FloatType(), False),\n",
        "    StructField(\"cons_price_idx\", FloatType(), False),\n",
        "    StructField(\"cons_conf_idx\", FloatType(), False),\n",
        "    StructField(\"euribor3m\", FloatType(), False),\n",
        "    StructField(\"nr_employed\", FloatType(), False)])\n",
        "\n",
        "responsedf_schema = StructType([\n",
        "    StructField(\"Customer_id\", IntegerType(), False),\n",
        "    StructField(\"y\", StringType(), True)])"
      ],
      "execution_count": null,
      "outputs": []
    },
    {
      "cell_type": "code",
      "metadata": {
        "id": "PSG63rm3E03w"
      },
      "source": [
        "bankdf = spark.read.option(\"delimiter\", \",\").option(\"header\", True).schema(bankdf_schema).csv(\"/content/drive/MyDrive/marketing_data/Customer_and_bank details_p1.csv\")\n",
        "campaigndf = spark.read.option(\"delimiter\", \",\").option(\"header\", True).schema(campaigndf_schema).csv(\"/content/drive/MyDrive/marketing_data/Customer_campaign_details_p1.csv\")\n",
        "economicdf = spark.read.option(\"delimiter\", \",\").option(\"header\", True).schema(economicdf_schema).csv(\"/content/drive/MyDrive/marketing_data/Customer_social_economic_data_p1.csv\")\n",
        "responsedf = spark.read.option(\"delimiter\", \",\").option(\"header\", True).schema(responsedf_schema).csv(\"/content/drive/MyDrive/marketing_data/Customer_Response_data_p1.csv\")\n"
      ],
      "execution_count": null,
      "outputs": []
    },
    {
      "cell_type": "code",
      "metadata": {
        "colab": {
          "base_uri": "https://localhost:8080/"
        },
        "id": "lwRMlW-gEcbV",
        "outputId": "dda525c0-7af2-4d11-e759-97aedf7eea47"
      },
      "source": [
        "bankdf.show()"
      ],
      "execution_count": null,
      "outputs": [
        {
          "output_type": "stream",
          "name": "stdout",
          "text": [
            "+-----------+---+-----------+--------+-------------------+-------+-------+----+\n",
            "|Customer_id|age|        job| marital|          education|default|housing|loan|\n",
            "+-----------+---+-----------+--------+-------------------+-------+-------+----+\n",
            "|          1| 56|   services| married|        high.school|     no|     no| yes|\n",
            "|          2| 45|   services| married|           basic.9y|unknown|     no|  no|\n",
            "|          3| 59|     admin.| married|professional.course|     no|     no|  no|\n",
            "|          4| 41|blue-collar| married|            unknown|unknown|     no|  no|\n",
            "|          5| 24| technician|  single|professional.course|     no|    yes|  no|\n",
            "|          6| 25|   services|  single|        high.school|     no|    yes|  no|\n",
            "|          7| 41|blue-collar| married|            unknown|unknown|     no|  no|\n",
            "|          8| 25|   services|  single|        high.school|     no|    yes|  no|\n",
            "|          9| 29|blue-collar|  single|        high.school|     no|     no| yes|\n",
            "|         10| 57|  housemaid|divorced|           basic.4y|     no|    yes|  no|\n",
            "|         11| 35|blue-collar| married|           basic.6y|     no|    yes|  no|\n",
            "|         12| 54|    retired| married|           basic.9y|unknown|    yes| yes|\n",
            "|         13| 35|blue-collar| married|           basic.6y|     no|    yes|  no|\n",
            "|         14| 46|blue-collar| married|           basic.6y|unknown|    yes| yes|\n",
            "|         15| 50|blue-collar| married|           basic.9y|     no|    yes| yes|\n",
            "|         16| 39| management|  single|           basic.9y|unknown|     no|  no|\n",
            "|         17| 55|blue-collar| married|           basic.4y|unknown|    yes|  no|\n",
            "|         18| 55|    retired|  single|        high.school|     no|    yes|  no|\n",
            "|         19| 41| technician|  single|        high.school|     no|    yes|  no|\n",
            "|         20| 37|     admin.| married|        high.school|     no|    yes|  no|\n",
            "+-----------+---+-----------+--------+-------------------+-------+-------+----+\n",
            "only showing top 20 rows\n",
            "\n"
          ]
        }
      ]
    },
    {
      "cell_type": "code",
      "metadata": {
        "colab": {
          "base_uri": "https://localhost:8080/"
        },
        "id": "pSOw1fAzkMQ_",
        "outputId": "2e70a643-bef5-42b5-944e-9fa89a9072e7"
      },
      "source": [
        "campaigndf.show()"
      ],
      "execution_count": null,
      "outputs": [
        {
          "output_type": "stream",
          "name": "stdout",
          "text": [
            "+-----------+---------+-----+-----------+--------+--------+-----+--------+-----------+\n",
            "|Customer_id|  contact|month|day_of_week|duration|campaign|pdays|previous|   poutcome|\n",
            "+-----------+---------+-----+-----------+--------+--------+-----+--------+-----------+\n",
            "|          1|telephone|  may|        mon|     307|       1|  999|       0|nonexistent|\n",
            "|          2|telephone|  may|        mon|     198|       1|  999|       0|nonexistent|\n",
            "|          3|telephone|  may|        mon|     139|       1|  999|       0|nonexistent|\n",
            "|          4|telephone|  may|        mon|     217|       1|  999|       0|nonexistent|\n",
            "|          5|telephone|  may|        mon|     380|       1|  999|       0|nonexistent|\n",
            "|          6|telephone|  may|        mon|      50|       1|  999|       0|nonexistent|\n",
            "|          7|telephone|  may|        mon|      55|       1|  999|       0|nonexistent|\n",
            "|          8|telephone|  may|        mon|     222|       1|  999|       0|nonexistent|\n",
            "|          9|telephone|  may|        mon|     137|       1|  999|       0|nonexistent|\n",
            "|         10|telephone|  may|        mon|     293|       1|  999|       0|nonexistent|\n",
            "|         11|telephone|  may|        mon|     146|       1|  999|       0|nonexistent|\n",
            "|         12|telephone|  may|        mon|     174|       1|  999|       0|nonexistent|\n",
            "|         13|telephone|  may|        mon|     312|       1|  999|       0|nonexistent|\n",
            "|         14|telephone|  may|        mon|     440|       1|  999|       0|nonexistent|\n",
            "|         15|telephone|  may|        mon|     353|       1|  999|       0|nonexistent|\n",
            "|         16|telephone|  may|        mon|     195|       1|  999|       0|nonexistent|\n",
            "|         17|telephone|  may|        mon|     262|       1|  999|       0|nonexistent|\n",
            "|         18|telephone|  may|        mon|     342|       1|  999|       0|nonexistent|\n",
            "|         19|telephone|  may|        mon|     181|       1|  999|       0|nonexistent|\n",
            "|         20|telephone|  may|        mon|     172|       1|  999|       0|nonexistent|\n",
            "+-----------+---------+-----+-----------+--------+--------+-----+--------+-----------+\n",
            "only showing top 20 rows\n",
            "\n"
          ]
        }
      ]
    },
    {
      "cell_type": "code",
      "metadata": {
        "colab": {
          "base_uri": "https://localhost:8080/"
        },
        "id": "TcBps9jblaxy",
        "outputId": "e13308fc-f645-4ca8-da7b-81fd482660ca"
      },
      "source": [
        "economicdf.show()"
      ],
      "execution_count": null,
      "outputs": [
        {
          "output_type": "stream",
          "name": "stdout",
          "text": [
            "+-----------+------------+--------------+-------------+---------+-----------+\n",
            "|Customer_id|emp_var_rate|cons_price_idx|cons_conf_idx|euribor3m|nr_employed|\n",
            "+-----------+------------+--------------+-------------+---------+-----------+\n",
            "|          1|         1.1|        93.994|        -36.4|    4.857|     5191.0|\n",
            "|          2|         1.1|        93.994|        -36.4|    4.857|     5191.0|\n",
            "|          3|         1.1|        93.994|        -36.4|    4.857|     5191.0|\n",
            "|          4|         1.1|        93.994|        -36.4|    4.857|     5191.0|\n",
            "|          5|         1.1|        93.994|        -36.4|    4.857|     5191.0|\n",
            "|          6|         1.1|        93.994|        -36.4|    4.857|     5191.0|\n",
            "|          7|         1.1|        93.994|        -36.4|    4.857|     5191.0|\n",
            "|          8|         1.1|        93.994|        -36.4|    4.857|     5191.0|\n",
            "|          9|         1.1|        93.994|        -36.4|    4.857|     5191.0|\n",
            "|         10|         1.1|        93.994|        -36.4|    4.857|     5191.0|\n",
            "|         11|         1.1|        93.994|        -36.4|    4.857|     5191.0|\n",
            "|         12|         1.1|        93.994|        -36.4|    4.857|     5191.0|\n",
            "|         13|         1.1|        93.994|        -36.4|    4.857|     5191.0|\n",
            "|         14|         1.1|        93.994|        -36.4|    4.857|     5191.0|\n",
            "|         15|         1.1|        93.994|        -36.4|    4.857|     5191.0|\n",
            "|         16|         1.1|        93.994|        -36.4|    4.857|     5191.0|\n",
            "|         17|         1.1|        93.994|        -36.4|    4.857|     5191.0|\n",
            "|         18|         1.1|        93.994|        -36.4|    4.857|     5191.0|\n",
            "|         19|         1.1|        93.994|        -36.4|    4.857|     5191.0|\n",
            "|         20|         1.1|        93.994|        -36.4|    4.857|     5191.0|\n",
            "+-----------+------------+--------------+-------------+---------+-----------+\n",
            "only showing top 20 rows\n",
            "\n"
          ]
        }
      ]
    },
    {
      "cell_type": "code",
      "metadata": {
        "colab": {
          "base_uri": "https://localhost:8080/"
        },
        "id": "MF2zufStlecf",
        "outputId": "bbe52cdf-f360-4470-e92a-92267f062815"
      },
      "source": [
        "responsedf.show()"
      ],
      "execution_count": null,
      "outputs": [
        {
          "output_type": "stream",
          "name": "stdout",
          "text": [
            "+-----------+---+\n",
            "|Customer_id|  y|\n",
            "+-----------+---+\n",
            "|          1| no|\n",
            "|          2| no|\n",
            "|          3| no|\n",
            "|          4| no|\n",
            "|          5| no|\n",
            "|          6| no|\n",
            "|          7| no|\n",
            "|          8| no|\n",
            "|          9| no|\n",
            "|         10| no|\n",
            "|         11| no|\n",
            "|         12| no|\n",
            "|         13| no|\n",
            "|         14| no|\n",
            "|         15| no|\n",
            "|         16| no|\n",
            "|         17| no|\n",
            "|         18| no|\n",
            "|         19| no|\n",
            "|         20| no|\n",
            "+-----------+---+\n",
            "only showing top 20 rows\n",
            "\n"
          ]
        }
      ]
    },
    {
      "cell_type": "code",
      "metadata": {
        "colab": {
          "base_uri": "https://localhost:8080/"
        },
        "id": "RMxMWZ8llhp4",
        "outputId": "220e4c18-f838-4f0a-c54b-76c7c50fbec9"
      },
      "source": [
        "df = bankdf.join(campaigndf,['Customer_id']).where(bankdf['Customer_id'] == campaigndf['Customer_id']).join(economicdf,['Customer_id']).where(bankdf['Customer_id'] == economicdf['Customer_id']).join(responsedf,['Customer_id']).where(bankdf['Customer_id'] == responsedf['Customer_id'])\n",
        "df.show()"
      ],
      "execution_count": null,
      "outputs": [
        {
          "output_type": "stream",
          "name": "stdout",
          "text": [
            "+-----------+---+-----------+--------+-------------------+-------+-------+----+---------+-----+-----------+--------+--------+-----+--------+-----------+------------+--------------+-------------+---------+-----------+---+\n",
            "|Customer_id|age|        job| marital|          education|default|housing|loan|  contact|month|day_of_week|duration|campaign|pdays|previous|   poutcome|emp_var_rate|cons_price_idx|cons_conf_idx|euribor3m|nr_employed|  y|\n",
            "+-----------+---+-----------+--------+-------------------+-------+-------+----+---------+-----+-----------+--------+--------+-----+--------+-----------+------------+--------------+-------------+---------+-----------+---+\n",
            "|          1| 56|   services| married|        high.school|     no|     no| yes|telephone|  may|        mon|     307|       1|  999|       0|nonexistent|         1.1|        93.994|        -36.4|    4.857|     5191.0| no|\n",
            "|          2| 45|   services| married|           basic.9y|unknown|     no|  no|telephone|  may|        mon|     198|       1|  999|       0|nonexistent|         1.1|        93.994|        -36.4|    4.857|     5191.0| no|\n",
            "|          3| 59|     admin.| married|professional.course|     no|     no|  no|telephone|  may|        mon|     139|       1|  999|       0|nonexistent|         1.1|        93.994|        -36.4|    4.857|     5191.0| no|\n",
            "|          4| 41|blue-collar| married|            unknown|unknown|     no|  no|telephone|  may|        mon|     217|       1|  999|       0|nonexistent|         1.1|        93.994|        -36.4|    4.857|     5191.0| no|\n",
            "|          5| 24| technician|  single|professional.course|     no|    yes|  no|telephone|  may|        mon|     380|       1|  999|       0|nonexistent|         1.1|        93.994|        -36.4|    4.857|     5191.0| no|\n",
            "|          6| 25|   services|  single|        high.school|     no|    yes|  no|telephone|  may|        mon|      50|       1|  999|       0|nonexistent|         1.1|        93.994|        -36.4|    4.857|     5191.0| no|\n",
            "|          7| 41|blue-collar| married|            unknown|unknown|     no|  no|telephone|  may|        mon|      55|       1|  999|       0|nonexistent|         1.1|        93.994|        -36.4|    4.857|     5191.0| no|\n",
            "|          8| 25|   services|  single|        high.school|     no|    yes|  no|telephone|  may|        mon|     222|       1|  999|       0|nonexistent|         1.1|        93.994|        -36.4|    4.857|     5191.0| no|\n",
            "|          9| 29|blue-collar|  single|        high.school|     no|     no| yes|telephone|  may|        mon|     137|       1|  999|       0|nonexistent|         1.1|        93.994|        -36.4|    4.857|     5191.0| no|\n",
            "|         10| 57|  housemaid|divorced|           basic.4y|     no|    yes|  no|telephone|  may|        mon|     293|       1|  999|       0|nonexistent|         1.1|        93.994|        -36.4|    4.857|     5191.0| no|\n",
            "|         11| 35|blue-collar| married|           basic.6y|     no|    yes|  no|telephone|  may|        mon|     146|       1|  999|       0|nonexistent|         1.1|        93.994|        -36.4|    4.857|     5191.0| no|\n",
            "|         12| 54|    retired| married|           basic.9y|unknown|    yes| yes|telephone|  may|        mon|     174|       1|  999|       0|nonexistent|         1.1|        93.994|        -36.4|    4.857|     5191.0| no|\n",
            "|         13| 35|blue-collar| married|           basic.6y|     no|    yes|  no|telephone|  may|        mon|     312|       1|  999|       0|nonexistent|         1.1|        93.994|        -36.4|    4.857|     5191.0| no|\n",
            "|         14| 46|blue-collar| married|           basic.6y|unknown|    yes| yes|telephone|  may|        mon|     440|       1|  999|       0|nonexistent|         1.1|        93.994|        -36.4|    4.857|     5191.0| no|\n",
            "|         15| 50|blue-collar| married|           basic.9y|     no|    yes| yes|telephone|  may|        mon|     353|       1|  999|       0|nonexistent|         1.1|        93.994|        -36.4|    4.857|     5191.0| no|\n",
            "|         16| 39| management|  single|           basic.9y|unknown|     no|  no|telephone|  may|        mon|     195|       1|  999|       0|nonexistent|         1.1|        93.994|        -36.4|    4.857|     5191.0| no|\n",
            "|         17| 55|blue-collar| married|           basic.4y|unknown|    yes|  no|telephone|  may|        mon|     262|       1|  999|       0|nonexistent|         1.1|        93.994|        -36.4|    4.857|     5191.0| no|\n",
            "|         18| 55|    retired|  single|        high.school|     no|    yes|  no|telephone|  may|        mon|     342|       1|  999|       0|nonexistent|         1.1|        93.994|        -36.4|    4.857|     5191.0| no|\n",
            "|         19| 41| technician|  single|        high.school|     no|    yes|  no|telephone|  may|        mon|     181|       1|  999|       0|nonexistent|         1.1|        93.994|        -36.4|    4.857|     5191.0| no|\n",
            "|         20| 37|     admin.| married|        high.school|     no|    yes|  no|telephone|  may|        mon|     172|       1|  999|       0|nonexistent|         1.1|        93.994|        -36.4|    4.857|     5191.0| no|\n",
            "+-----------+---+-----------+--------+-------------------+-------+-------+----+---------+-----+-----------+--------+--------+-----+--------+-----------+------------+--------------+-------------+---------+-----------+---+\n",
            "only showing top 20 rows\n",
            "\n"
          ]
        }
      ]
    },
    {
      "cell_type": "code",
      "metadata": {
        "colab": {
          "base_uri": "https://localhost:8080/"
        },
        "id": "tkQLNQbVrFI1",
        "outputId": "6af55dd9-01b5-4b77-9ec3-3a5ad5ff9a5f"
      },
      "source": [
        "df.printSchema()"
      ],
      "execution_count": null,
      "outputs": [
        {
          "output_type": "stream",
          "name": "stdout",
          "text": [
            "root\n",
            " |-- Customer_id: integer (nullable = true)\n",
            " |-- age: integer (nullable = true)\n",
            " |-- job: string (nullable = true)\n",
            " |-- marital: string (nullable = true)\n",
            " |-- education: string (nullable = true)\n",
            " |-- default: string (nullable = true)\n",
            " |-- housing: string (nullable = true)\n",
            " |-- loan: string (nullable = true)\n",
            " |-- contact: string (nullable = true)\n",
            " |-- month: string (nullable = true)\n",
            " |-- day_of_week: string (nullable = true)\n",
            " |-- duration: integer (nullable = true)\n",
            " |-- campaign: integer (nullable = true)\n",
            " |-- pdays: integer (nullable = true)\n",
            " |-- previous: integer (nullable = true)\n",
            " |-- poutcome: string (nullable = true)\n",
            " |-- emp_var_rate: float (nullable = true)\n",
            " |-- cons_price_idx: float (nullable = true)\n",
            " |-- cons_conf_idx: float (nullable = true)\n",
            " |-- euribor3m: float (nullable = true)\n",
            " |-- nr_employed: float (nullable = true)\n",
            " |-- y: string (nullable = true)\n",
            "\n"
          ]
        }
      ]
    },
    {
      "cell_type": "code",
      "metadata": {
        "colab": {
          "base_uri": "https://localhost:8080/"
        },
        "id": "d0NQEzFisBc4",
        "outputId": "642280d9-2d2a-430f-fb31-e095a77f1e0c"
      },
      "source": [
        "df.count()"
      ],
      "execution_count": null,
      "outputs": [
        {
          "output_type": "execute_result",
          "data": {
            "text/plain": [
              "37084"
            ]
          },
          "metadata": {},
          "execution_count": 26
        }
      ]
    },
    {
      "cell_type": "code",
      "metadata": {
        "colab": {
          "base_uri": "https://localhost:8080/"
        },
        "id": "-6ihAMxluIHF",
        "outputId": "39f5ce52-5296-4539-a35c-a0f2bd2133f5"
      },
      "source": [
        "df.describe().show()"
      ],
      "execution_count": null,
      "outputs": [
        {
          "output_type": "stream",
          "name": "stdout",
          "text": [
            "+-------+------------------+------------------+-------+--------+---------+-------+-------+-----+---------+-----+-----------+------------------+------------------+------------------+-------------------+--------+-------------------+------------------+------------------+------------------+-----------------+-----+\n",
            "|summary|       Customer_id|               age|    job| marital|education|default|housing| loan|  contact|month|day_of_week|          duration|          campaign|             pdays|           previous|poutcome|       emp_var_rate|    cons_price_idx|     cons_conf_idx|         euribor3m|      nr_employed|    y|\n",
            "+-------+------------------+------------------+-------+--------+---------+-------+-------+-----+---------+-----+-----------+------------------+------------------+------------------+-------------------+--------+-------------------+------------------+------------------+------------------+-----------------+-----+\n",
            "|  count|             37084|             37084|  37084|   37084|    37084|  37084|  37084|37084|    37084|37084|      37084|             37084|             37084|             37084|              37084|   37084|              37084|             37084|             37084|             37084|            37084|37084|\n",
            "|   mean|           18542.5|40.042713838852336|   null|    null|     null|   null|   null| null|     null| null|       null|258.23794628411173|2.5695448171718263| 962.5308488836156|0.17298565419048648|    null|0.08266907374433535| 93.57607541265848|-40.50518292437452|3.6216680028847206|5167.058719533377| null|\n",
            "| stddev|10705.373027908307| 10.43296498543827|   null|    null|     null|   null|   null| null|     null| null|       null|258.73090918696414|2.7706107841334364|186.77306297861892| 0.4956814561131696|    null|  1.568996973448872|0.5784931391170943| 4.622045163443736|1.7339719568732792|72.19658565873478| null|\n",
            "|    min|                 1|                17| admin.|divorced| basic.4y|     no|     no|   no| cellular|  apr|        fri|                 0|                 1|                 0|                  0| failure|               -3.4|            92.201|             -50.8|             0.634|           4963.6|   no|\n",
            "|    max|             37084|                98|unknown| unknown|  unknown|    yes|    yes|  yes|telephone|  sep|        wed|              4918|                56|               999|                  7| success|                1.4|            94.767|             -26.9|             5.045|           5228.1|  yes|\n",
            "+-------+------------------+------------------+-------+--------+---------+-------+-------+-----+---------+-----+-----------+------------------+------------------+------------------+-------------------+--------+-------------------+------------------+------------------+------------------+-----------------+-----+\n",
            "\n"
          ]
        }
      ]
    },
    {
      "cell_type": "markdown",
      "metadata": {
        "id": "-tr0e6hZ8YEv"
      },
      "source": [
        " **Checking Null/None/nan type/missing values if any**"
      ]
    },
    {
      "cell_type": "code",
      "metadata": {
        "colab": {
          "base_uri": "https://localhost:8080/"
        },
        "id": "UZ3KeJI8tAJ9",
        "outputId": "8939949b-284f-4a9b-b064-96b2391a7bac"
      },
      "source": [
        "from pyspark.sql.functions import col,isnan,when,count\n",
        "df.select([count(when(col(c).contains('None') | col(c).contains('NULL') | (col(c) == '' ) | col(c).isNull() | isnan(c), c)).alias(c) for c in df.columns]).show()"
      ],
      "execution_count": null,
      "outputs": [
        {
          "output_type": "stream",
          "name": "stdout",
          "text": [
            "+-----------+---+---+-------+---------+-------+-------+----+-------+-----+-----------+--------+--------+-----+--------+--------+------------+--------------+-------------+---------+-----------+---+\n",
            "|Customer_id|age|job|marital|education|default|housing|loan|contact|month|day_of_week|duration|campaign|pdays|previous|poutcome|emp_var_rate|cons_price_idx|cons_conf_idx|euribor3m|nr_employed|  y|\n",
            "+-----------+---+---+-------+---------+-------+-------+----+-------+-----+-----------+--------+--------+-----+--------+--------+------------+--------------+-------------+---------+-----------+---+\n",
            "|          0|  0|  0|      0|        0|      0|      0|   0|      0|    0|          0|       0|       0|    0|       0|       0|           0|             0|            0|        0|          0|  0|\n",
            "+-----------+---+---+-------+---------+-------+-------+----+-------+-----+-----------+--------+--------+-----+--------+--------+------------+--------------+-------------+---------+-----------+---+\n",
            "\n"
          ]
        }
      ]
    },
    {
      "cell_type": "markdown",
      "metadata": {
        "id": "7Pp1jAdq8oNw"
      },
      "source": [
        "**Dropping duplcate values if any**"
      ]
    },
    {
      "cell_type": "code",
      "metadata": {
        "colab": {
          "base_uri": "https://localhost:8080/"
        },
        "id": "KChoNV4v0D2M",
        "outputId": "4f3ea22e-b7c9-4235-efd1-56ce1ff85c2d"
      },
      "source": [
        "df = df.drop_duplicates()\n",
        "df.count()"
      ],
      "execution_count": null,
      "outputs": [
        {
          "output_type": "execute_result",
          "data": {
            "text/plain": [
              "37084"
            ]
          },
          "metadata": {},
          "execution_count": 29
        }
      ]
    },
    {
      "cell_type": "code",
      "metadata": {
        "colab": {
          "base_uri": "https://localhost:8080/"
        },
        "id": "Cz_h6cPt1FP4",
        "outputId": "b35df18b-9864-4651-d4b1-18ada47f2e29"
      },
      "source": [
        "df.createOrReplaceTempView(\"marketing\")\n",
        "query1 = 'select * from marketing'\n",
        "spark.sql(query1).show()"
      ],
      "execution_count": null,
      "outputs": [
        {
          "output_type": "stream",
          "name": "stdout",
          "text": [
            "+-----------+---+------------+--------+-------------------+-------+-------+----+---------+-----+-----------+--------+--------+-----+--------+-----------+------------+--------------+-------------+---------+-----------+---+\n",
            "|Customer_id|age|         job| marital|          education|default|housing|loan|  contact|month|day_of_week|duration|campaign|pdays|previous|   poutcome|emp_var_rate|cons_price_idx|cons_conf_idx|euribor3m|nr_employed|  y|\n",
            "+-----------+---+------------+--------+-------------------+-------+-------+----+---------+-----+-----------+--------+--------+-----+--------+-----------+------------+--------------+-------------+---------+-----------+---+\n",
            "|        372| 47|      admin.| married|        high.school|unknown|     no|  no|telephone|  may|        tue|     505|       1|  999|       0|nonexistent|         1.1|        93.994|        -36.4|    4.857|     5191.0| no|\n",
            "|        395| 32| blue-collar|divorced|           basic.9y|unknown|     no|  no|telephone|  may|        tue|     309|       2|  999|       0|nonexistent|         1.1|        93.994|        -36.4|    4.857|     5191.0| no|\n",
            "|        489| 42|entrepreneur| married|           basic.6y|     no|     no|  no|telephone|  may|        tue|     179|       2|  999|       0|nonexistent|         1.1|        93.994|        -36.4|    4.857|     5191.0| no|\n",
            "|        665| 55|   housemaid| married|           basic.4y|     no|    yes| yes|telephone|  may|        tue|     211|       2|  999|       0|nonexistent|         1.1|        93.994|        -36.4|    4.857|     5191.0| no|\n",
            "|        741| 30|    services| married|  university.degree|     no|    yes|  no|telephone|  may|        wed|     425|       6|  999|       0|nonexistent|         1.1|        93.994|        -36.4|    4.856|     5191.0| no|\n",
            "|        794| 29|  technician| married|professional.course|     no|    yes|  no|telephone|  may|        wed|     192|       1|  999|       0|nonexistent|         1.1|        93.994|        -36.4|    4.856|     5191.0| no|\n",
            "|        882| 48|  management|divorced|  university.degree|     no|     no|  no|telephone|  may|        wed|     236|       2|  999|       0|nonexistent|         1.1|        93.994|        -36.4|    4.856|     5191.0| no|\n",
            "|        985| 34|  management| married|  university.degree|     no|    yes| yes|telephone|  may|        wed|     145|       1|  999|       0|nonexistent|         1.1|        93.994|        -36.4|    4.856|     5191.0| no|\n",
            "|       1160| 33|    services| married|  university.degree|     no|    yes|  no|telephone|  may|        thu|     102|       2|  999|       0|nonexistent|         1.1|        93.994|        -36.4|    4.855|     5191.0| no|\n",
            "|       1186| 31| blue-collar| married|           basic.9y|     no|    yes|  no|telephone|  may|        thu|     141|       1|  999|       0|nonexistent|         1.1|        93.994|        -36.4|    4.855|     5191.0| no|\n",
            "|       1531| 60|  management| married|  university.degree|unknown|     no|  no|telephone|  may|        fri|     490|       1|  999|       0|nonexistent|         1.1|        93.994|        -36.4|    4.855|     5191.0| no|\n",
            "|       1613| 41|  management| married|            unknown|     no|    yes|  no|telephone|  may|        fri|     129|       3|  999|       0|nonexistent|         1.1|        93.994|        -36.4|    4.855|     5191.0| no|\n",
            "|       1714| 29|      admin.| married|        high.school|     no|    yes|  no|telephone|  may|        fri|      44|       2|  999|       0|nonexistent|         1.1|        93.994|        -36.4|    4.855|     5191.0| no|\n",
            "|       1887| 28|     student|  single|  university.degree|unknown|    yes|  no|telephone|  may|        mon|     208|       1|  999|       0|nonexistent|         1.1|        93.994|        -36.4|    4.857|     5191.0| no|\n",
            "|       2083| 34|      admin.| married|professional.course|     no|    yes|  no|telephone|  may|        tue|     248|       2|  999|       0|nonexistent|         1.1|        93.994|        -36.4|    4.856|     5191.0| no|\n",
            "|       2184| 27|      admin.|  single|  university.degree|     no|    yes| yes|telephone|  may|        tue|     194|       2|  999|       0|nonexistent|         1.1|        93.994|        -36.4|    4.856|     5191.0| no|\n",
            "|       2208| 36|      admin.| married|        high.school|     no|     no|  no|telephone|  may|        tue|     753|       6|  999|       0|nonexistent|         1.1|        93.994|        -36.4|    4.856|     5191.0|yes|\n",
            "|       2225| 33|  management|  single|  university.degree|     no|    yes| yes|telephone|  may|        tue|     160|       3|  999|       0|nonexistent|         1.1|        93.994|        -36.4|    4.856|     5191.0| no|\n",
            "|       2926| 42|      admin.| married|  university.degree|     no|     no|  no|telephone|  may|        thu|     431|       1|  999|       0|nonexistent|         1.1|        93.994|        -36.4|     4.86|     5191.0| no|\n",
            "|       2987| 48|      admin.| married|professional.course|     no|    yes|  no|telephone|  may|        thu|     178|       1|  999|       0|nonexistent|         1.1|        93.994|        -36.4|     4.86|     5191.0| no|\n",
            "+-----------+---+------------+--------+-------------------+-------+-------+----+---------+-----+-----------+--------+--------+-----+--------+-----------+------------+--------------+-------------+---------+-----------+---+\n",
            "only showing top 20 rows\n",
            "\n"
          ]
        }
      ]
    },
    {
      "cell_type": "markdown",
      "metadata": {
        "id": "VRIQRQUDr-bc"
      },
      "source": [
        "**Removing column outliers that were analysed in previous checkpoints** "
      ]
    },
    {
      "cell_type": "code",
      "metadata": {
        "id": "WhdNssxSm9Zx"
      },
      "source": [
        "d = {}\n",
        "column_names=['age','campaign','duration']\n",
        "for col in column_names:\n",
        "      d[col] = df.approxQuantile(col,[0.01,0.99],0.25)"
      ],
      "execution_count": null,
      "outputs": []
    },
    {
      "cell_type": "code",
      "metadata": {
        "colab": {
          "base_uri": "https://localhost:8080/"
        },
        "id": "xDdOzNhHm_Nw",
        "outputId": "b2383f48-af30-4175-c7b2-b8cb2c3568d4"
      },
      "source": [
        "import pyspark.sql.functions as F\n",
        "for col in column_names:\n",
        "    df_new = df.withColumn(col,F.log(F.when(df[col] < d[col][0],d[col][0]).when(df[col] > d[col][1], d[col][1]).otherwise(df[col] ) +1).alias(col))\n",
        "    print(col+\" => column transformation done\")"
      ],
      "execution_count": null,
      "outputs": [
        {
          "output_type": "stream",
          "name": "stdout",
          "text": [
            "age => column transformation done\n",
            "campaign => column transformation done\n",
            "duration => column transformation done\n"
          ]
        }
      ]
    },
    {
      "cell_type": "code",
      "metadata": {
        "colab": {
          "base_uri": "https://localhost:8080/"
        },
        "id": "cDu0np7uq_Hp",
        "outputId": "d3b50eb6-489c-45d7-f988-49e8658ff17f"
      },
      "source": [
        "df_new.show()"
      ],
      "execution_count": null,
      "outputs": [
        {
          "output_type": "stream",
          "name": "stdout",
          "text": [
            "+-----------+---+------------+--------+-------------------+-------+-------+----+---------+-----+-----------+------------------+--------+-----+--------+-----------+------------+--------------+-------------+---------+-----------+---+\n",
            "|Customer_id|age|         job| marital|          education|default|housing|loan|  contact|month|day_of_week|          duration|campaign|pdays|previous|   poutcome|emp_var_rate|cons_price_idx|cons_conf_idx|euribor3m|nr_employed|  y|\n",
            "+-----------+---+------------+--------+-------------------+-------+-------+----+---------+-----+-----------+------------------+--------+-----+--------+-----------+------------+--------------+-------------+---------+-----------+---+\n",
            "|        372| 47|      admin.| married|        high.school|unknown|     no|  no|telephone|  may|        tue| 6.226536669287466|       1|  999|       0|nonexistent|         1.1|        93.994|        -36.4|    4.857|     5191.0| no|\n",
            "|        395| 32| blue-collar|divorced|           basic.9y|unknown|     no|  no|telephone|  may|        tue| 5.736572297479192|       2|  999|       0|nonexistent|         1.1|        93.994|        -36.4|    4.857|     5191.0| no|\n",
            "|        489| 42|entrepreneur| married|           basic.6y|     no|     no|  no|telephone|  may|        tue|  5.19295685089021|       2|  999|       0|nonexistent|         1.1|        93.994|        -36.4|    4.857|     5191.0| no|\n",
            "|        665| 55|   housemaid| married|           basic.4y|     no|    yes| yes|telephone|  may|        tue| 5.356586274672012|       2|  999|       0|nonexistent|         1.1|        93.994|        -36.4|    4.857|     5191.0| no|\n",
            "|        741| 30|    services| married|  university.degree|     no|    yes|  no|telephone|  may|        wed| 6.054439346269371|       6|  999|       0|nonexistent|         1.1|        93.994|        -36.4|    4.856|     5191.0| no|\n",
            "|        794| 29|  technician| married|professional.course|     no|    yes|  no|telephone|  may|        wed| 5.262690188904886|       1|  999|       0|nonexistent|         1.1|        93.994|        -36.4|    4.856|     5191.0| no|\n",
            "|        882| 48|  management|divorced|  university.degree|     no|     no|  no|telephone|  may|        wed|5.4680601411351315|       2|  999|       0|nonexistent|         1.1|        93.994|        -36.4|    4.856|     5191.0| no|\n",
            "|        985| 34|  management| married|  university.degree|     no|    yes| yes|telephone|  may|        wed| 4.983606621708336|       1|  999|       0|nonexistent|         1.1|        93.994|        -36.4|    4.856|     5191.0| no|\n",
            "|       1160| 33|    services| married|  university.degree|     no|    yes|  no|telephone|  may|        thu| 4.634728988229636|       2|  999|       0|nonexistent|         1.1|        93.994|        -36.4|    4.855|     5191.0| no|\n",
            "|       1186| 31| blue-collar| married|           basic.9y|     no|    yes|  no|telephone|  may|        thu| 4.955827057601261|       1|  999|       0|nonexistent|         1.1|        93.994|        -36.4|    4.855|     5191.0| no|\n",
            "|       1531| 60|  management| married|  university.degree|unknown|     no|  no|telephone|  may|        fri|  6.19644412779452|       1|  999|       0|nonexistent|         1.1|        93.994|        -36.4|    4.855|     5191.0| no|\n",
            "|       1613| 41|  management| married|            unknown|     no|    yes|  no|telephone|  may|        fri| 4.867534450455582|       3|  999|       0|nonexistent|         1.1|        93.994|        -36.4|    4.855|     5191.0| no|\n",
            "|       1714| 29|      admin.| married|        high.school|     no|    yes|  no|telephone|  may|        fri|3.8066624897703196|       2|  999|       0|nonexistent|         1.1|        93.994|        -36.4|    4.855|     5191.0| no|\n",
            "|       1887| 28|     student|  single|  university.degree|unknown|    yes|  no|telephone|  may|        mon| 5.342334251964811|       1|  999|       0|nonexistent|         1.1|        93.994|        -36.4|    4.857|     5191.0| no|\n",
            "|       2083| 34|      admin.| married|professional.course|     no|    yes|  no|telephone|  may|        tue| 5.517452896464707|       2|  999|       0|nonexistent|         1.1|        93.994|        -36.4|    4.856|     5191.0| no|\n",
            "|       2184| 27|      admin.|  single|  university.degree|     no|    yes| yes|telephone|  may|        tue| 5.272999558563747|       2|  999|       0|nonexistent|         1.1|        93.994|        -36.4|    4.856|     5191.0| no|\n",
            "|       2208| 36|      admin.| married|        high.school|     no|     no|  no|telephone|  may|        tue| 6.625392368007956|       6|  999|       0|nonexistent|         1.1|        93.994|        -36.4|    4.856|     5191.0|yes|\n",
            "|       2225| 33|  management|  single|  university.degree|     no|    yes| yes|telephone|  may|        tue| 5.081404364984463|       3|  999|       0|nonexistent|         1.1|        93.994|        -36.4|    4.856|     5191.0| no|\n",
            "|       2926| 42|      admin.| married|  university.degree|     no|     no|  no|telephone|  may|        thu| 6.068425588244111|       1|  999|       0|nonexistent|         1.1|        93.994|        -36.4|     4.86|     5191.0| no|\n",
            "|       2987| 48|      admin.| married|professional.course|     no|    yes|  no|telephone|  may|        thu| 5.187385805840755|       1|  999|       0|nonexistent|         1.1|        93.994|        -36.4|     4.86|     5191.0| no|\n",
            "+-----------+---+------------+--------+-------------------+-------+-------+----+---------+-----+-----------+------------------+--------+-----+--------+-----------+------------+--------------+-------------+---------+-----------+---+\n",
            "only showing top 20 rows\n",
            "\n"
          ]
        }
      ]
    },
    {
      "cell_type": "markdown",
      "metadata": {
        "id": "n3Kny0yEJq3O"
      },
      "source": [
        "**Doing label encodings for categorical variables**"
      ]
    },
    {
      "cell_type": "markdown",
      "metadata": {
        "id": "HxoSEqwktwo6"
      },
      "source": [
        "Here in pdays, 999 means that the customer was not previously contacted so instead of 999 we can assign it to 0"
      ]
    },
    {
      "cell_type": "code",
      "metadata": {
        "colab": {
          "base_uri": "https://localhost:8080/"
        },
        "id": "_il1BnR5r7Zc",
        "outputId": "b4e9fdad-b70f-4de1-d76e-b4ef3b178686"
      },
      "source": [
        "df_new =df_new.withColumn(\"pdays\",when(df_new[\"pdays\"] == 999,0).otherwise(df_new[\"pdays\"]))\n",
        "#df_new = df_new.na.replace(999,0)\n",
        "df_new.show()"
      ],
      "execution_count": null,
      "outputs": [
        {
          "output_type": "stream",
          "name": "stdout",
          "text": [
            "+-----------+---+------------+--------+-------------------+-------+-------+----+---------+-----+-----------+------------------+--------+-----+--------+-----------+------------+--------------+-------------+---------+-----------+---+\n",
            "|Customer_id|age|         job| marital|          education|default|housing|loan|  contact|month|day_of_week|          duration|campaign|pdays|previous|   poutcome|emp_var_rate|cons_price_idx|cons_conf_idx|euribor3m|nr_employed|  y|\n",
            "+-----------+---+------------+--------+-------------------+-------+-------+----+---------+-----+-----------+------------------+--------+-----+--------+-----------+------------+--------------+-------------+---------+-----------+---+\n",
            "|        372| 47|      admin.| married|        high.school|unknown|     no|  no|telephone|  may|        tue| 6.226536669287466|       1|    0|       0|nonexistent|         1.1|        93.994|        -36.4|    4.857|     5191.0| no|\n",
            "|        395| 32| blue-collar|divorced|           basic.9y|unknown|     no|  no|telephone|  may|        tue| 5.736572297479192|       2|    0|       0|nonexistent|         1.1|        93.994|        -36.4|    4.857|     5191.0| no|\n",
            "|        489| 42|entrepreneur| married|           basic.6y|     no|     no|  no|telephone|  may|        tue|  5.19295685089021|       2|    0|       0|nonexistent|         1.1|        93.994|        -36.4|    4.857|     5191.0| no|\n",
            "|        665| 55|   housemaid| married|           basic.4y|     no|    yes| yes|telephone|  may|        tue| 5.356586274672012|       2|    0|       0|nonexistent|         1.1|        93.994|        -36.4|    4.857|     5191.0| no|\n",
            "|        741| 30|    services| married|  university.degree|     no|    yes|  no|telephone|  may|        wed| 6.054439346269371|       6|    0|       0|nonexistent|         1.1|        93.994|        -36.4|    4.856|     5191.0| no|\n",
            "|        794| 29|  technician| married|professional.course|     no|    yes|  no|telephone|  may|        wed| 5.262690188904886|       1|    0|       0|nonexistent|         1.1|        93.994|        -36.4|    4.856|     5191.0| no|\n",
            "|        882| 48|  management|divorced|  university.degree|     no|     no|  no|telephone|  may|        wed|5.4680601411351315|       2|    0|       0|nonexistent|         1.1|        93.994|        -36.4|    4.856|     5191.0| no|\n",
            "|        985| 34|  management| married|  university.degree|     no|    yes| yes|telephone|  may|        wed| 4.983606621708336|       1|    0|       0|nonexistent|         1.1|        93.994|        -36.4|    4.856|     5191.0| no|\n",
            "|       1160| 33|    services| married|  university.degree|     no|    yes|  no|telephone|  may|        thu| 4.634728988229636|       2|    0|       0|nonexistent|         1.1|        93.994|        -36.4|    4.855|     5191.0| no|\n",
            "|       1186| 31| blue-collar| married|           basic.9y|     no|    yes|  no|telephone|  may|        thu| 4.955827057601261|       1|    0|       0|nonexistent|         1.1|        93.994|        -36.4|    4.855|     5191.0| no|\n",
            "|       1531| 60|  management| married|  university.degree|unknown|     no|  no|telephone|  may|        fri|  6.19644412779452|       1|    0|       0|nonexistent|         1.1|        93.994|        -36.4|    4.855|     5191.0| no|\n",
            "|       1613| 41|  management| married|            unknown|     no|    yes|  no|telephone|  may|        fri| 4.867534450455582|       3|    0|       0|nonexistent|         1.1|        93.994|        -36.4|    4.855|     5191.0| no|\n",
            "|       1714| 29|      admin.| married|        high.school|     no|    yes|  no|telephone|  may|        fri|3.8066624897703196|       2|    0|       0|nonexistent|         1.1|        93.994|        -36.4|    4.855|     5191.0| no|\n",
            "|       1887| 28|     student|  single|  university.degree|unknown|    yes|  no|telephone|  may|        mon| 5.342334251964811|       1|    0|       0|nonexistent|         1.1|        93.994|        -36.4|    4.857|     5191.0| no|\n",
            "|       2083| 34|      admin.| married|professional.course|     no|    yes|  no|telephone|  may|        tue| 5.517452896464707|       2|    0|       0|nonexistent|         1.1|        93.994|        -36.4|    4.856|     5191.0| no|\n",
            "|       2184| 27|      admin.|  single|  university.degree|     no|    yes| yes|telephone|  may|        tue| 5.272999558563747|       2|    0|       0|nonexistent|         1.1|        93.994|        -36.4|    4.856|     5191.0| no|\n",
            "|       2208| 36|      admin.| married|        high.school|     no|     no|  no|telephone|  may|        tue| 6.625392368007956|       6|    0|       0|nonexistent|         1.1|        93.994|        -36.4|    4.856|     5191.0|yes|\n",
            "|       2225| 33|  management|  single|  university.degree|     no|    yes| yes|telephone|  may|        tue| 5.081404364984463|       3|    0|       0|nonexistent|         1.1|        93.994|        -36.4|    4.856|     5191.0| no|\n",
            "|       2926| 42|      admin.| married|  university.degree|     no|     no|  no|telephone|  may|        thu| 6.068425588244111|       1|    0|       0|nonexistent|         1.1|        93.994|        -36.4|     4.86|     5191.0| no|\n",
            "|       2987| 48|      admin.| married|professional.course|     no|    yes|  no|telephone|  may|        thu| 5.187385805840755|       1|    0|       0|nonexistent|         1.1|        93.994|        -36.4|     4.86|     5191.0| no|\n",
            "+-----------+---+------------+--------+-------------------+-------+-------+----+---------+-----+-----------+------------------+--------+-----+--------+-----------+------------+--------------+-------------+---------+-----------+---+\n",
            "only showing top 20 rows\n",
            "\n"
          ]
        }
      ]
    },
    {
      "cell_type": "code",
      "metadata": {
        "colab": {
          "base_uri": "https://localhost:8080/"
        },
        "id": "h7X77R1nywLB",
        "outputId": "76e24972-8dff-4aeb-d834-cc7393377bf0"
      },
      "source": [
        "from itertools import chain\n",
        "from pyspark.sql.functions import create_map, lit\n",
        "month_dict={'may':5,'jul':7,'aug':8,'jun':6,'nov':11,'apr':4,'oct':10,'sep':9,'mar':3,'dec':12}\n",
        "\n",
        "mapping = create_map([lit(x) for x in chain(*month_dict.items())])\n",
        "\n",
        "df2 = df_new.withColumn('month', mapping[df_new['month']])\n",
        "df2.show(30)"
      ],
      "execution_count": null,
      "outputs": [
        {
          "output_type": "stream",
          "name": "stdout",
          "text": [
            "+-----------+---+------------+--------+-------------------+-------+-------+-------+---------+-----+-----------+------------------+--------+-----+--------+-----------+------------+--------------+-------------+---------+-----------+---+\n",
            "|Customer_id|age|         job| marital|          education|default|housing|   loan|  contact|month|day_of_week|          duration|campaign|pdays|previous|   poutcome|emp_var_rate|cons_price_idx|cons_conf_idx|euribor3m|nr_employed|  y|\n",
            "+-----------+---+------------+--------+-------------------+-------+-------+-------+---------+-----+-----------+------------------+--------+-----+--------+-----------+------------+--------------+-------------+---------+-----------+---+\n",
            "|        372| 47|      admin.| married|        high.school|unknown|     no|     no|telephone|    5|        tue| 6.226536669287466|       1|    0|       0|nonexistent|         1.1|        93.994|        -36.4|    4.857|     5191.0| no|\n",
            "|        395| 32| blue-collar|divorced|           basic.9y|unknown|     no|     no|telephone|    5|        tue| 5.736572297479192|       2|    0|       0|nonexistent|         1.1|        93.994|        -36.4|    4.857|     5191.0| no|\n",
            "|        489| 42|entrepreneur| married|           basic.6y|     no|     no|     no|telephone|    5|        tue|  5.19295685089021|       2|    0|       0|nonexistent|         1.1|        93.994|        -36.4|    4.857|     5191.0| no|\n",
            "|        665| 55|   housemaid| married|           basic.4y|     no|    yes|    yes|telephone|    5|        tue| 5.356586274672012|       2|    0|       0|nonexistent|         1.1|        93.994|        -36.4|    4.857|     5191.0| no|\n",
            "|        741| 30|    services| married|  university.degree|     no|    yes|     no|telephone|    5|        wed| 6.054439346269371|       6|    0|       0|nonexistent|         1.1|        93.994|        -36.4|    4.856|     5191.0| no|\n",
            "|        794| 29|  technician| married|professional.course|     no|    yes|     no|telephone|    5|        wed| 5.262690188904886|       1|    0|       0|nonexistent|         1.1|        93.994|        -36.4|    4.856|     5191.0| no|\n",
            "|        882| 48|  management|divorced|  university.degree|     no|     no|     no|telephone|    5|        wed|5.4680601411351315|       2|    0|       0|nonexistent|         1.1|        93.994|        -36.4|    4.856|     5191.0| no|\n",
            "|        985| 34|  management| married|  university.degree|     no|    yes|    yes|telephone|    5|        wed| 4.983606621708336|       1|    0|       0|nonexistent|         1.1|        93.994|        -36.4|    4.856|     5191.0| no|\n",
            "|       1160| 33|    services| married|  university.degree|     no|    yes|     no|telephone|    5|        thu| 4.634728988229636|       2|    0|       0|nonexistent|         1.1|        93.994|        -36.4|    4.855|     5191.0| no|\n",
            "|       1186| 31| blue-collar| married|           basic.9y|     no|    yes|     no|telephone|    5|        thu| 4.955827057601261|       1|    0|       0|nonexistent|         1.1|        93.994|        -36.4|    4.855|     5191.0| no|\n",
            "|       1531| 60|  management| married|  university.degree|unknown|     no|     no|telephone|    5|        fri|  6.19644412779452|       1|    0|       0|nonexistent|         1.1|        93.994|        -36.4|    4.855|     5191.0| no|\n",
            "|       1613| 41|  management| married|            unknown|     no|    yes|     no|telephone|    5|        fri| 4.867534450455582|       3|    0|       0|nonexistent|         1.1|        93.994|        -36.4|    4.855|     5191.0| no|\n",
            "|       1714| 29|      admin.| married|        high.school|     no|    yes|     no|telephone|    5|        fri|3.8066624897703196|       2|    0|       0|nonexistent|         1.1|        93.994|        -36.4|    4.855|     5191.0| no|\n",
            "|       1887| 28|     student|  single|  university.degree|unknown|    yes|     no|telephone|    5|        mon| 5.342334251964811|       1|    0|       0|nonexistent|         1.1|        93.994|        -36.4|    4.857|     5191.0| no|\n",
            "|       2083| 34|      admin.| married|professional.course|     no|    yes|     no|telephone|    5|        tue| 5.517452896464707|       2|    0|       0|nonexistent|         1.1|        93.994|        -36.4|    4.856|     5191.0| no|\n",
            "|       2184| 27|      admin.|  single|  university.degree|     no|    yes|    yes|telephone|    5|        tue| 5.272999558563747|       2|    0|       0|nonexistent|         1.1|        93.994|        -36.4|    4.856|     5191.0| no|\n",
            "|       2208| 36|      admin.| married|        high.school|     no|     no|     no|telephone|    5|        tue| 6.625392368007956|       6|    0|       0|nonexistent|         1.1|        93.994|        -36.4|    4.856|     5191.0|yes|\n",
            "|       2225| 33|  management|  single|  university.degree|     no|    yes|    yes|telephone|    5|        tue| 5.081404364984463|       3|    0|       0|nonexistent|         1.1|        93.994|        -36.4|    4.856|     5191.0| no|\n",
            "|       2926| 42|      admin.| married|  university.degree|     no|     no|     no|telephone|    5|        thu| 6.068425588244111|       1|    0|       0|nonexistent|         1.1|        93.994|        -36.4|     4.86|     5191.0| no|\n",
            "|       2987| 48|      admin.| married|professional.course|     no|    yes|     no|telephone|    5|        thu| 5.187385805840755|       1|    0|       0|nonexistent|         1.1|        93.994|        -36.4|     4.86|     5191.0| no|\n",
            "|       3588| 31| blue-collar| married|           basic.9y|     no|unknown|unknown|telephone|    5|        mon| 4.304065093204169|       1|    0|       0|nonexistent|         1.1|        93.994|        -36.4|    4.858|     5191.0| no|\n",
            "|       3605| 59|     retired| married|           basic.9y|unknown|     no|     no|telephone|    5|        mon| 5.356586274672012|       2|    0|       0|nonexistent|         1.1|        93.994|        -36.4|    4.858|     5191.0| no|\n",
            "|       3702| 34|      admin.| married|  university.degree|     no|     no|     no|telephone|    5|        mon| 5.857933154483459|       2|    0|       0|nonexistent|         1.1|        93.994|        -36.4|    4.858|     5191.0| no|\n",
            "|       3857| 46|   housemaid| married|        high.school|unknown|     no|     no|telephone|    5|        tue| 4.962844630259907|       1|    0|       0|nonexistent|         1.1|        93.994|        -36.4|    4.856|     5191.0| no|\n",
            "|       4075| 43|  technician| married|           basic.9y|unknown|    yes|     no|telephone|    5|        tue| 5.313205979041787|       3|    0|       0|nonexistent|         1.1|        93.994|        -36.4|    4.856|     5191.0| no|\n",
            "|       4101| 34|  management|  single|           basic.9y|     no|     no|     no|telephone|    5|        tue| 5.707110264748875|       3|    0|       0|nonexistent|         1.1|        93.994|        -36.4|    4.856|     5191.0| no|\n",
            "|       4342| 46| blue-collar|divorced|           basic.9y|     no|     no|     no|telephone|    5|        wed| 6.037870919922137|       2|    0|       0|nonexistent|         1.1|        93.994|        -36.4|    4.858|     5191.0| no|\n",
            "|       4643| 45| blue-collar| married|           basic.4y|unknown|     no|     no|telephone|    5|        fri|4.6913478822291435|       5|    0|       0|nonexistent|         1.1|        93.994|        -36.4|    4.857|     5191.0| no|\n",
            "|       4670| 53|  technician| married|professional.course|     no|     no|     no|telephone|    5|        fri| 5.564520407322694|       1|    0|       0|nonexistent|         1.1|        93.994|        -36.4|    4.857|     5191.0| no|\n",
            "|       4957| 35|      admin.| married|  university.degree|     no|    yes|     no|telephone|    5|        mon| 5.049856007249537|       1|    0|       0|nonexistent|         1.1|        93.994|        -36.4|    4.857|     5191.0| no|\n",
            "+-----------+---+------------+--------+-------------------+-------+-------+-------+---------+-----+-----------+------------------+--------+-----+--------+-----------+------------+--------------+-------------+---------+-----------+---+\n",
            "only showing top 30 rows\n",
            "\n"
          ]
        }
      ]
    },
    {
      "cell_type": "code",
      "metadata": {
        "colab": {
          "base_uri": "https://localhost:8080/"
        },
        "id": "IDkr_QRKTNmn",
        "outputId": "24bdb672-7bf0-4bb9-cf76-fc2d6fce57d5"
      },
      "source": [
        "from pyspark.sql.functions import *\n",
        "max_val = df2.agg({'month': 'max'}).first()[0]\n",
        "res = df2.select(\"Customer_id\",\"month\",lit(sin((df2[\"month\"]*6.28)/max_val)).alias(\"month_sin\"))\n",
        "res2 = res.select(\"Customer_id\",\"month\",\"month_sin\",lit(cos((res[\"month\"]*6.28)/max_val)).alias(\"month_cos\"))\n",
        "res3 = res2.select(\"Customer_id\",\"month_sin\",\"month_cos\")\n",
        "res3.show()"
      ],
      "execution_count": null,
      "outputs": [
        {
          "output_type": "stream",
          "name": "stdout",
          "text": [
            "+-----------+------------------+-------------------+\n",
            "|Customer_id|         month_sin|          month_cos|\n",
            "+-----------+------------------+-------------------+\n",
            "|        372|0.5011489580136382|-0.8653610355694579|\n",
            "|        395|0.5011489580136382|-0.8653610355694579|\n",
            "|        489|0.5011489580136382|-0.8653610355694579|\n",
            "|        665|0.5011489580136382|-0.8653610355694579|\n",
            "|        741|0.5011489580136382|-0.8653610355694579|\n",
            "|        794|0.5011489580136382|-0.8653610355694579|\n",
            "|        882|0.5011489580136382|-0.8653610355694579|\n",
            "|        985|0.5011489580136382|-0.8653610355694579|\n",
            "|       1160|0.5011489580136382|-0.8653610355694579|\n",
            "|       1186|0.5011489580136382|-0.8653610355694579|\n",
            "|       1531|0.5011489580136382|-0.8653610355694579|\n",
            "|       1613|0.5011489580136382|-0.8653610355694579|\n",
            "|       1714|0.5011489580136382|-0.8653610355694579|\n",
            "|       1887|0.5011489580136382|-0.8653610355694579|\n",
            "|       2083|0.5011489580136382|-0.8653610355694579|\n",
            "|       2184|0.5011489580136382|-0.8653610355694579|\n",
            "|       2208|0.5011489580136382|-0.8653610355694579|\n",
            "|       2225|0.5011489580136382|-0.8653610355694579|\n",
            "|       2926|0.5011489580136382|-0.8653610355694579|\n",
            "|       2987|0.5011489580136382|-0.8653610355694579|\n",
            "+-----------+------------------+-------------------+\n",
            "only showing top 20 rows\n",
            "\n"
          ]
        }
      ]
    },
    {
      "cell_type": "code",
      "metadata": {
        "id": "TMeVEHUIvso0",
        "colab": {
          "base_uri": "https://localhost:8080/"
        },
        "outputId": "673194bc-8f9d-4091-950a-b3598905b202"
      },
      "source": [
        "df2 = df2.join(res3,['Customer_id']).where(df2['Customer_id'] == res3['Customer_id'])\n",
        "df2.show()"
      ],
      "execution_count": null,
      "outputs": [
        {
          "output_type": "stream",
          "name": "stdout",
          "text": [
            "+-----------+---+------------+--------+-----------------+-------+-------+-------+---------+-----+-----------+------------------+--------+-----+--------+-----------+------------+--------------+-------------+---------+-----------+---+--------------------+--------------------+\n",
            "|Customer_id|age|         job| marital|        education|default|housing|   loan|  contact|month|day_of_week|          duration|campaign|pdays|previous|   poutcome|emp_var_rate|cons_price_idx|cons_conf_idx|euribor3m|nr_employed|  y|           month_sin|           month_cos|\n",
            "+-----------+---+------------+--------+-----------------+-------+-------+-------+---------+-----+-----------+------------------+--------+-----+--------+-----------+------------+--------------+-------------+---------+-----------+---+--------------------+--------------------+\n",
            "|       4101| 34|  management|  single|         basic.9y|     no|     no|     no|telephone|    5|        tue| 5.707110264748875|       3|    0|       0|nonexistent|         1.1|        93.994|        -36.4|    4.856|     5191.0| no|  0.5011489580136382| -0.8653610355694579|\n",
            "|      34239| 78|     unknown| married|          unknown|     no|    yes|     no| cellular|    9|        wed| 5.459585514144159|       1|    0|       1|    failure|        -3.4|        92.379|        -29.8|    0.781|     5017.5|yes|  -0.999997146387718|-0.00238897811228...|\n",
            "|       5300| 39|entrepreneur| married|         basic.6y|unknown|     no|     no|telephone|    5|        mon| 4.204692619390966|       3|    0|       0|nonexistent|         1.1|        93.994|        -36.4|    4.857|     5191.0| no|  0.5011489580136382| -0.8653610355694579|\n",
            "|       7754| 25|    services|  single|      high.school|     no|     no|     no|telephone|    6|        wed| 4.820281565605037|       1|    0|       0|nonexistent|         1.4|        94.465|        -41.8|    4.864|     5228.1| no|0.001592652916486...| -0.9999987317275395|\n",
            "|       7833| 59|     retired| married|         basic.6y|unknown|     no|     no|telephone|    6|        wed|5.4638318050256105|       5|    0|       0|nonexistent|         1.4|        94.465|        -41.8|    4.864|     5228.1| no|0.001592652916486...| -0.9999987317275395|\n",
            "|      22346| 35|      admin.|  single|      high.school|     no|    yes|     no| cellular|   11|        tue| 4.672828834461906|       1|    0|       0|nonexistent|        -0.1|          93.2|        -42.0|    4.153|     5195.8| no|   -0.50252654219733|  0.8645617817063134|\n",
            "|      29285| 37| blue-collar| married|         basic.4y|     no|    yes|    yes| cellular|    5|        fri| 6.124683390894205|       2|    0|       0|nonexistent|        -1.8|        92.893|        -46.2|    1.313|     5099.1| no|  0.5011489580136382| -0.8653610355694579|\n",
            "|      32460| 25|      admin.|  single|university.degree|     no|    yes|    yes| cellular|    5|        tue|6.2166061010848646|       2|    0|       0|nonexistent|        -1.8|        92.893|        -46.2|    1.266|     5099.1| no|  0.5011489580136382| -0.8653610355694579|\n",
            "|      30970| 39|    services| married|      high.school|     no|    yes|     no| cellular|    5|        thu|3.1354942159291497|       8|    0|       1|    failure|        -1.8|        92.893|        -46.2|    1.266|     5099.1| no|  0.5011489580136382| -0.8653610355694579|\n",
            "|       7880| 33| blue-collar| married|         basic.4y|     no|    yes|    yes|telephone|    6|        wed| 4.727387818712341|       4|    0|       0|nonexistent|         1.4|        94.465|        -41.8|    4.864|     5228.1| no|0.001592652916486...| -0.9999987317275395|\n",
            "|      11033| 32|   housemaid| married|         basic.9y|     no|     no|     no|telephone|    7|        thu|5.0106352940962555|       1|    0|       0|nonexistent|         1.4|        93.918|        -42.7|    4.966|     5228.1| no| -0.4983899795832512| -0.8669529561925529|\n",
            "|      22521| 53|      admin.|divorced|university.degree|     no|    yes|     no| cellular|   11|        tue| 4.248495242049359|       1|    0|       0|nonexistent|        -0.1|          93.2|        -42.0|    4.153|     5195.8| no|   -0.50252654219733|  0.8645617817063134|\n",
            "|      29054| 35| blue-collar| married|         basic.6y|unknown|     no|     no| cellular|    5|        fri| 3.784189633918261|       1|    0|       0|nonexistent|        -1.8|        92.893|        -46.2|    1.313|     5099.1| no|  0.5011489580136382| -0.8653610355694579|\n",
            "|      28664| 39|  management| married|university.degree|     no|    yes|     no| cellular|    5|        thu|  4.02535169073515|       1|    0|       0|nonexistent|        -1.8|        92.893|        -46.2|    1.327|     5099.1| no|  0.5011489580136382| -0.8653610355694579|\n",
            "|      13832| 31|  technician|  single|university.degree|     no|     no|     no| cellular|    7|        fri| 4.454347296253507|       1|    0|       0|nonexistent|         1.4|        93.918|        -42.7|    4.957|     5228.1| no| -0.4983899795832512| -0.8669529561925529|\n",
            "|      26706| 57|    services| married|      high.school|unknown|    yes|     no| cellular|    4|        mon| 5.697093486505405|       2|    0|       0|nonexistent|        -1.8|        93.075|        -47.1|    1.405|     5099.1| no|  0.8665558000562658| -0.4990801993556198|\n",
            "|      10362| 37|    services| married|      high.school|     no|unknown|unknown|telephone|    6|        fri| 5.648974238161206|       3|    0|       0|nonexistent|         1.4|        94.465|        -41.8|    4.959|     5228.1| no|0.001592652916486...| -0.9999987317275395|\n",
            "|       4900| 33|      admin.|divorced|university.degree|     no|     no|     no|telephone|    5|        fri| 6.144185634125646|       4|    0|       0|nonexistent|         1.1|        93.994|        -36.4|    4.857|     5191.0| no|  0.5011489580136382| -0.8653610355694579|\n",
            "|       3175| 32|    services| married|      high.school|     no|     no|    yes|telephone|    5|        fri| 5.332718793265369|       4|    0|       0|nonexistent|         1.1|        93.994|        -36.4|    4.859|     5191.0| no|  0.5011489580136382| -0.8653610355694579|\n",
            "|       6336| 41|entrepreneur| married|university.degree|unknown|    yes|     no|telephone|    5|        thu| 4.844187086458591|       1|    0|       0|nonexistent|         1.1|        93.994|        -36.4|     4.86|     5191.0| no|  0.5011489580136382| -0.8653610355694579|\n",
            "+-----------+---+------------+--------+-----------------+-------+-------+-------+---------+-----+-----------+------------------+--------+-----+--------+-----------+------------+--------------+-------------+---------+-----------+---+--------------------+--------------------+\n",
            "only showing top 20 rows\n",
            "\n"
          ]
        }
      ]
    },
    {
      "cell_type": "code",
      "metadata": {
        "id": "Kc7e9p9P0VjE",
        "colab": {
          "base_uri": "https://localhost:8080/"
        },
        "outputId": "60a438bf-a72e-4f5f-ceb5-8638aa0d27a3"
      },
      "source": [
        "day_dict={'thu':4,'mon':1,'wed':3,'tue':2,'fri':5}\n",
        "\n",
        "mapping2 = create_map([lit(x) for x in chain(*day_dict.items())])\n",
        "\n",
        "df3 = df2.withColumn('day_of_week', mapping2[df2['day_of_week']])\n",
        "df3.show(30)"
      ],
      "execution_count": null,
      "outputs": [
        {
          "output_type": "stream",
          "name": "stdout",
          "text": [
            "+-----------+---+------------+--------+-------------------+-------+-------+-------+---------+-----+-----------+------------------+--------+-----+--------+-----------+------------+--------------+-------------+---------+-----------+---+--------------------+--------------------+\n",
            "|Customer_id|age|         job| marital|          education|default|housing|   loan|  contact|month|day_of_week|          duration|campaign|pdays|previous|   poutcome|emp_var_rate|cons_price_idx|cons_conf_idx|euribor3m|nr_employed|  y|           month_sin|           month_cos|\n",
            "+-----------+---+------------+--------+-------------------+-------+-------+-------+---------+-----+-----------+------------------+--------+-----+--------+-----------+------------+--------------+-------------+---------+-----------+---+--------------------+--------------------+\n",
            "|       4101| 34|  management|  single|           basic.9y|     no|     no|     no|telephone|    5|          2| 5.707110264748875|       3|    0|       0|nonexistent|         1.1|        93.994|        -36.4|    4.856|     5191.0| no|  0.5011489580136382| -0.8653610355694579|\n",
            "|      34239| 78|     unknown| married|            unknown|     no|    yes|     no| cellular|    9|          3| 5.459585514144159|       1|    0|       1|    failure|        -3.4|        92.379|        -29.8|    0.781|     5017.5|yes|  -0.999997146387718|-0.00238897811228...|\n",
            "|       5300| 39|entrepreneur| married|           basic.6y|unknown|     no|     no|telephone|    5|          1| 4.204692619390966|       3|    0|       0|nonexistent|         1.1|        93.994|        -36.4|    4.857|     5191.0| no|  0.5011489580136382| -0.8653610355694579|\n",
            "|       7754| 25|    services|  single|        high.school|     no|     no|     no|telephone|    6|          3| 4.820281565605037|       1|    0|       0|nonexistent|         1.4|        94.465|        -41.8|    4.864|     5228.1| no|0.001592652916486...| -0.9999987317275395|\n",
            "|       7833| 59|     retired| married|           basic.6y|unknown|     no|     no|telephone|    6|          3|5.4638318050256105|       5|    0|       0|nonexistent|         1.4|        94.465|        -41.8|    4.864|     5228.1| no|0.001592652916486...| -0.9999987317275395|\n",
            "|      22346| 35|      admin.|  single|        high.school|     no|    yes|     no| cellular|   11|          2| 4.672828834461906|       1|    0|       0|nonexistent|        -0.1|          93.2|        -42.0|    4.153|     5195.8| no|   -0.50252654219733|  0.8645617817063134|\n",
            "|      29285| 37| blue-collar| married|           basic.4y|     no|    yes|    yes| cellular|    5|          5| 6.124683390894205|       2|    0|       0|nonexistent|        -1.8|        92.893|        -46.2|    1.313|     5099.1| no|  0.5011489580136382| -0.8653610355694579|\n",
            "|      32460| 25|      admin.|  single|  university.degree|     no|    yes|    yes| cellular|    5|          2|6.2166061010848646|       2|    0|       0|nonexistent|        -1.8|        92.893|        -46.2|    1.266|     5099.1| no|  0.5011489580136382| -0.8653610355694579|\n",
            "|      30970| 39|    services| married|        high.school|     no|    yes|     no| cellular|    5|          4|3.1354942159291497|       8|    0|       1|    failure|        -1.8|        92.893|        -46.2|    1.266|     5099.1| no|  0.5011489580136382| -0.8653610355694579|\n",
            "|       7880| 33| blue-collar| married|           basic.4y|     no|    yes|    yes|telephone|    6|          3| 4.727387818712341|       4|    0|       0|nonexistent|         1.4|        94.465|        -41.8|    4.864|     5228.1| no|0.001592652916486...| -0.9999987317275395|\n",
            "|      11033| 32|   housemaid| married|           basic.9y|     no|     no|     no|telephone|    7|          4|5.0106352940962555|       1|    0|       0|nonexistent|         1.4|        93.918|        -42.7|    4.966|     5228.1| no| -0.4983899795832512| -0.8669529561925529|\n",
            "|      22521| 53|      admin.|divorced|  university.degree|     no|    yes|     no| cellular|   11|          2| 4.248495242049359|       1|    0|       0|nonexistent|        -0.1|          93.2|        -42.0|    4.153|     5195.8| no|   -0.50252654219733|  0.8645617817063134|\n",
            "|      29054| 35| blue-collar| married|           basic.6y|unknown|     no|     no| cellular|    5|          5| 3.784189633918261|       1|    0|       0|nonexistent|        -1.8|        92.893|        -46.2|    1.313|     5099.1| no|  0.5011489580136382| -0.8653610355694579|\n",
            "|      28664| 39|  management| married|  university.degree|     no|    yes|     no| cellular|    5|          4|  4.02535169073515|       1|    0|       0|nonexistent|        -1.8|        92.893|        -46.2|    1.327|     5099.1| no|  0.5011489580136382| -0.8653610355694579|\n",
            "|      13832| 31|  technician|  single|  university.degree|     no|     no|     no| cellular|    7|          5| 4.454347296253507|       1|    0|       0|nonexistent|         1.4|        93.918|        -42.7|    4.957|     5228.1| no| -0.4983899795832512| -0.8669529561925529|\n",
            "|      26706| 57|    services| married|        high.school|unknown|    yes|     no| cellular|    4|          1| 5.697093486505405|       2|    0|       0|nonexistent|        -1.8|        93.075|        -47.1|    1.405|     5099.1| no|  0.8665558000562658| -0.4990801993556198|\n",
            "|      10362| 37|    services| married|        high.school|     no|unknown|unknown|telephone|    6|          5| 5.648974238161206|       3|    0|       0|nonexistent|         1.4|        94.465|        -41.8|    4.959|     5228.1| no|0.001592652916486...| -0.9999987317275395|\n",
            "|       4900| 33|      admin.|divorced|  university.degree|     no|     no|     no|telephone|    5|          5| 6.144185634125646|       4|    0|       0|nonexistent|         1.1|        93.994|        -36.4|    4.857|     5191.0| no|  0.5011489580136382| -0.8653610355694579|\n",
            "|       3175| 32|    services| married|        high.school|     no|     no|    yes|telephone|    5|          5| 5.332718793265369|       4|    0|       0|nonexistent|         1.1|        93.994|        -36.4|    4.859|     5191.0| no|  0.5011489580136382| -0.8653610355694579|\n",
            "|       6336| 41|entrepreneur| married|  university.degree|unknown|    yes|     no|telephone|    5|          4| 4.844187086458591|       1|    0|       0|nonexistent|         1.1|        93.994|        -36.4|     4.86|     5191.0| no|  0.5011489580136382| -0.8653610355694579|\n",
            "|      15957| 42|  management| married|        high.school|unknown|     no|     no| cellular|    7|          2|  5.19295685089021|       5|    0|       0|nonexistent|         1.4|        93.918|        -42.7|    4.961|     5228.1| no| -0.4983899795832512| -0.8669529561925529|\n",
            "|      33569| 38|  technician| married|professional.course|     no|     no|     no| cellular|    8|          1| 6.828712071641684|       1|    0|       1|    failure|        -2.9|        92.201|        -31.4|    0.884|     5076.2|yes| -0.8649616828896994| -0.5018379092223095|\n",
            "|      32592| 37| blue-collar| married|           basic.9y|     no|     no|     no| cellular|    5|          3| 4.304065093204169|       2|    0|       0|nonexistent|        -1.8|        92.893|        -46.2|     1.27|     5099.1| no|  0.5011489580136382| -0.8653610355694579|\n",
            "|      29834| 36|    services|divorced|           basic.9y|     no|    yes|     no| cellular|    5|          2| 5.545177444479562|       2|    0|       0|nonexistent|        -1.8|        92.893|        -46.2|    1.291|     5099.1| no|  0.5011489580136382| -0.8653610355694579|\n",
            "|       6620| 46|  management| married|           basic.9y|     no|     no|     no|telephone|    5|          5| 3.784189633918261|       1|    0|       0|nonexistent|         1.1|        93.994|        -36.4|    4.864|     5191.0| no|  0.5011489580136382| -0.8653610355694579|\n",
            "|      32539| 32|      admin.|  single|  university.degree|     no|unknown|unknown| cellular|    5|          2| 4.867534450455582|       2|    0|       0|nonexistent|        -1.8|        92.893|        -46.2|    1.266|     5099.1| no|  0.5011489580136382| -0.8653610355694579|\n",
            "|       3794| 40|   housemaid| married|        high.school|unknown|    yes|     no|telephone|    5|          2| 5.308267697401205|       1|    0|       0|nonexistent|         1.1|        93.994|        -36.4|    4.856|     5191.0| no|  0.5011489580136382| -0.8653610355694579|\n",
            "|      18654| 46|      admin.| married|        high.school|     no|     no|    yes| cellular|    8|          3|  6.77078942390898|       2|    0|       0|nonexistent|         1.4|        93.444|        -36.1|    4.965|     5228.1|yes| -0.8649616828896994| -0.5018379092223095|\n",
            "|      28124| 39| blue-collar|  single|           basic.6y|unknown|     no|     no| cellular|    5|          3|3.8712010109078907|       1|    0|       1|    failure|        -1.8|        92.893|        -46.2|    1.334|     5099.1| no|  0.5011489580136382| -0.8653610355694579|\n",
            "|       2142| 45|      admin.|  single|  university.degree|     no|     no|    yes|telephone|    5|          2| 6.642486801367256|       1|    0|       0|nonexistent|         1.1|        93.994|        -36.4|    4.856|     5191.0| no|  0.5011489580136382| -0.8653610355694579|\n",
            "+-----------+---+------------+--------+-------------------+-------+-------+-------+---------+-----+-----------+------------------+--------+-----+--------+-----------+------------+--------------+-------------+---------+-----------+---+--------------------+--------------------+\n",
            "only showing top 30 rows\n",
            "\n"
          ]
        }
      ]
    },
    {
      "cell_type": "code",
      "metadata": {
        "id": "Jwdw1Etfvso1",
        "colab": {
          "base_uri": "https://localhost:8080/"
        },
        "outputId": "00153f79-57e1-447b-e89b-ba6d82a9dfb1"
      },
      "source": [
        "df3.printSchema()"
      ],
      "execution_count": null,
      "outputs": [
        {
          "output_type": "stream",
          "name": "stdout",
          "text": [
            "root\n",
            " |-- Customer_id: integer (nullable = true)\n",
            " |-- age: integer (nullable = true)\n",
            " |-- job: string (nullable = true)\n",
            " |-- marital: string (nullable = true)\n",
            " |-- education: string (nullable = true)\n",
            " |-- default: string (nullable = true)\n",
            " |-- housing: string (nullable = true)\n",
            " |-- loan: string (nullable = true)\n",
            " |-- contact: string (nullable = true)\n",
            " |-- month: integer (nullable = true)\n",
            " |-- day_of_week: integer (nullable = true)\n",
            " |-- duration: double (nullable = true)\n",
            " |-- campaign: integer (nullable = true)\n",
            " |-- pdays: integer (nullable = true)\n",
            " |-- previous: integer (nullable = true)\n",
            " |-- poutcome: string (nullable = true)\n",
            " |-- emp_var_rate: float (nullable = true)\n",
            " |-- cons_price_idx: float (nullable = true)\n",
            " |-- cons_conf_idx: float (nullable = true)\n",
            " |-- euribor3m: float (nullable = true)\n",
            " |-- nr_employed: float (nullable = true)\n",
            " |-- y: string (nullable = true)\n",
            " |-- month_sin: double (nullable = true)\n",
            " |-- month_cos: double (nullable = true)\n",
            "\n"
          ]
        }
      ]
    },
    {
      "cell_type": "code",
      "metadata": {
        "id": "Br-YTFrAvso1",
        "colab": {
          "base_uri": "https://localhost:8080/"
        },
        "outputId": "2e9f6f39-400e-4e74-bc27-3c2f0d75243b"
      },
      "source": [
        "max_val2 = df3.agg({'day_of_week': 'max'}).first()[0]\n",
        "res4 = df3.select(\"Customer_id\",\"day_of_week\",lit(sin((df3[\"day_of_week\"]*6.28)/max_val)).alias(\"day_of_week_sin\"))\n",
        "res5 = res4.select(\"Customer_id\",\"day_of_week\",\"day_of_week_sin\",lit(cos((res4[\"day_of_week\"]*6.28)/max_val2)).alias(\"day_of_week_cos\"))\n",
        "res6 = res5.select(\"Customer_id\",\"day_of_week_sin\",\"day_of_week_cos\")\n",
        "res6.show()"
      ],
      "execution_count": null,
      "outputs": [
        {
          "output_type": "stream",
          "name": "stdout",
          "text": [
            "+-----------+------------------+-------------------+\n",
            "|Customer_id|   day_of_week_sin|    day_of_week_cos|\n",
            "+-----------+------------------+-------------------+\n",
            "|       4101|0.8657598394923444|  -0.80826742726931|\n",
            "|      34239|0.9999996829318346|-0.8101388821239993|\n",
            "|       5300|0.4997701026431024| 0.3096228130570242|\n",
            "|       7754|0.9999996829318346|-0.8101388821239993|\n",
            "|       7833|0.9999996829318346|-0.8101388821239993|\n",
            "|      22346|0.8657598394923444|  -0.80826742726931|\n",
            "|      29285|0.5011489580136382| 0.9999949269133752|\n",
            "|      32460|0.8657598394923444|  -0.80826742726931|\n",
            "|      30970|0.8665558000562658| 0.3065924679690989|\n",
            "|       7880|0.9999996829318346|-0.8101388821239993|\n",
            "|      11033|0.8665558000562658| 0.3065924679690989|\n",
            "|      22521|0.8657598394923444|  -0.80826742726931|\n",
            "|      29054|0.5011489580136382| 0.9999949269133752|\n",
            "|      28664|0.8665558000562658| 0.3065924679690989|\n",
            "|      13832|0.5011489580136382| 0.9999949269133752|\n",
            "|      26706|0.4997701026431024| 0.3096228130570242|\n",
            "|      10362|0.5011489580136382| 0.9999949269133752|\n",
            "|       4900|0.5011489580136382| 0.9999949269133752|\n",
            "|       3175|0.5011489580136382| 0.9999949269133752|\n",
            "|       6336|0.8665558000562658| 0.3065924679690989|\n",
            "+-----------+------------------+-------------------+\n",
            "only showing top 20 rows\n",
            "\n"
          ]
        }
      ]
    },
    {
      "cell_type": "code",
      "metadata": {
        "id": "feBhZdOVvso1",
        "colab": {
          "base_uri": "https://localhost:8080/"
        },
        "outputId": "0c257563-185d-4229-8e38-d29c2bf71e77"
      },
      "source": [
        "df3 = df3.join(res6,['Customer_id']).where(df3['Customer_id'] == res6['Customer_id'])\n",
        "df3.show()"
      ],
      "execution_count": null,
      "outputs": [
        {
          "output_type": "stream",
          "name": "stdout",
          "text": [
            "+-----------+---+------------+--------+-------------------+-------+-------+----+---------+-----+-----------+------------------+--------+-----+--------+-----------+------------+--------------+-------------+---------+-----------+---+------------------+-------------------+------------------+------------------+\n",
            "|Customer_id|age|         job| marital|          education|default|housing|loan|  contact|month|day_of_week|          duration|campaign|pdays|previous|   poutcome|emp_var_rate|cons_price_idx|cons_conf_idx|euribor3m|nr_employed|  y|         month_sin|          month_cos|   day_of_week_sin|   day_of_week_cos|\n",
            "+-----------+---+------------+--------+-------------------+-------+-------+----+---------+-----+-----------+------------------+--------+-----+--------+-----------+------------+--------------+-------------+---------+-----------+---+------------------+-------------------+------------------+------------------+\n",
            "|          1| 56|    services| married|        high.school|     no|     no| yes|telephone|    5|          1| 5.730099782973575|       1|    0|       0|nonexistent|         1.1|        93.994|        -36.4|    4.857|     5191.0| no|0.5011489580136382|-0.8653610355694579|0.4997701026431024|0.3096228130570242|\n",
            "|          3| 59|      admin.| married|professional.course|     no|     no|  no|telephone|    5|          1| 4.941642422609304|       1|    0|       0|nonexistent|         1.1|        93.994|        -36.4|    4.857|     5191.0| no|0.5011489580136382|-0.8653610355694579|0.4997701026431024|0.3096228130570242|\n",
            "|          5| 24|  technician|  single|professional.course|     no|    yes|  no|telephone|    5|          1| 5.942799375126701|       1|    0|       0|nonexistent|         1.1|        93.994|        -36.4|    4.857|     5191.0| no|0.5011489580136382|-0.8653610355694579|0.4997701026431024|0.3096228130570242|\n",
            "|          6| 25|    services|  single|        high.school|     no|    yes|  no|telephone|    5|          1|3.9318256327243257|       1|    0|       0|nonexistent|         1.1|        93.994|        -36.4|    4.857|     5191.0| no|0.5011489580136382|-0.8653610355694579|0.4997701026431024|0.3096228130570242|\n",
            "|          9| 29| blue-collar|  single|        high.school|     no|     no| yes|telephone|    5|          1| 4.927253685157205|       1|    0|       0|nonexistent|         1.1|        93.994|        -36.4|    4.857|     5191.0| no|0.5011489580136382|-0.8653610355694579|0.4997701026431024|0.3096228130570242|\n",
            "|         12| 54|     retired| married|           basic.9y|unknown|    yes| yes|telephone|    5|          1|5.1647859739235145|       1|    0|       0|nonexistent|         1.1|        93.994|        -36.4|    4.857|     5191.0| no|0.5011489580136382|-0.8653610355694579|0.4997701026431024|0.3096228130570242|\n",
            "|         13| 35| blue-collar| married|           basic.6y|     no|    yes|  no|telephone|    5|          1| 5.746203190540153|       1|    0|       0|nonexistent|         1.1|        93.994|        -36.4|    4.857|     5191.0| no|0.5011489580136382|-0.8653610355694579|0.4997701026431024|0.3096228130570242|\n",
            "|         15| 50| blue-collar| married|           basic.9y|     no|    yes| yes|telephone|    5|          1| 5.869296913133774|       1|    0|       0|nonexistent|         1.1|        93.994|        -36.4|    4.857|     5191.0| no|0.5011489580136382|-0.8653610355694579|0.4997701026431024|0.3096228130570242|\n",
            "|         16| 39|  management|  single|           basic.9y|unknown|     no|  no|telephone|    5|          1| 5.278114659230518|       1|    0|       0|nonexistent|         1.1|        93.994|        -36.4|    4.857|     5191.0| no|0.5011489580136382|-0.8653610355694579|0.4997701026431024|0.3096228130570242|\n",
            "|         17| 55| blue-collar| married|           basic.4y|unknown|    yes|  no|telephone|    5|          1| 5.572154032177765|       1|    0|       0|nonexistent|         1.1|        93.994|        -36.4|    4.857|     5191.0| no|0.5011489580136382|-0.8653610355694579|0.4997701026431024|0.3096228130570242|\n",
            "|         19| 41|  technician|  single|        high.school|     no|    yes|  no|telephone|    5|          1| 5.204006687076795|       1|    0|       0|nonexistent|         1.1|        93.994|        -36.4|    4.857|     5191.0| no|0.5011489580136382|-0.8653610355694579|0.4997701026431024|0.3096228130570242|\n",
            "|         20| 37|      admin.| married|        high.school|     no|    yes|  no|telephone|    5|          1| 5.153291594497779|       1|    0|       0|nonexistent|         1.1|        93.994|        -36.4|    4.857|     5191.0| no|0.5011489580136382|-0.8653610355694579|0.4997701026431024|0.3096228130570242|\n",
            "|         22| 59|  technician| married|            unknown|     no|    yes|  no|telephone|    5|          1| 4.543294782270004|       1|    0|       0|nonexistent|         1.1|        93.994|        -36.4|    4.857|     5191.0| no|0.5011489580136382|-0.8653610355694579|0.4997701026431024|0.3096228130570242|\n",
            "|         26| 49| blue-collar| married|            unknown|     no|     no|  no|telephone|    5|          1| 4.304065093204169|       1|    0|       0|nonexistent|         1.1|        93.994|        -36.4|    4.857|     5191.0| no|0.5011489580136382|-0.8653610355694579|0.4997701026431024|0.3096228130570242|\n",
            "|         27| 54|  management| married|           basic.4y|unknown|    yes|  no|telephone|    5|          1| 5.442417710521793|       1|    0|       0|nonexistent|         1.1|        93.994|        -36.4|    4.857|     5191.0| no|0.5011489580136382|-0.8653610355694579|0.4997701026431024|0.3096228130570242|\n",
            "|         28| 54| blue-collar|divorced|           basic.4y|     no|     no|  no|telephone|    5|          1| 5.342334251964811|       1|    0|       0|nonexistent|         1.1|        93.994|        -36.4|    4.857|     5191.0| no|0.5011489580136382|-0.8653610355694579|0.4997701026431024|0.3096228130570242|\n",
            "|         31| 52|  technician| married|           basic.9y|     no|    yes|  no|telephone|    5|          1| 7.418780882750794|       1|    0|       0|nonexistent|         1.1|        93.994|        -36.4|    4.857|     5191.0| no|0.5011489580136382|-0.8653610355694579|0.4997701026431024|0.3096228130570242|\n",
            "|         34| 58|  management| unknown|  university.degree|     no|    yes|  no|telephone|    5|          1| 5.905361848054571|       1|    0|       0|nonexistent|         1.1|        93.994|        -36.4|    4.857|     5191.0| no|0.5011489580136382|-0.8653610355694579|0.4997701026431024|0.3096228130570242|\n",
            "|         35| 32|entrepreneur| married|        high.school|     no|    yes|  no|telephone|    5|          1| 5.752572638825633|       1|    0|       0|nonexistent|         1.1|        93.994|        -36.4|    4.857|     5191.0| no|0.5011489580136382|-0.8653610355694579|0.4997701026431024|0.3096228130570242|\n",
            "|         37| 57|      admin.| married|  university.degree|     no|     no| yes|telephone|    5|          1|5.3612921657094255|       1|    0|       0|nonexistent|         1.1|        93.994|        -36.4|    4.857|     5191.0| no|0.5011489580136382|-0.8653610355694579|0.4997701026431024|0.3096228130570242|\n",
            "+-----------+---+------------+--------+-------------------+-------+-------+----+---------+-----+-----------+------------------+--------+-----+--------+-----------+------------+--------------+-------------+---------+-----------+---+------------------+-------------------+------------------+------------------+\n",
            "only showing top 20 rows\n",
            "\n"
          ]
        }
      ]
    },
    {
      "cell_type": "code",
      "metadata": {
        "id": "lbDHM6KTvso1",
        "colab": {
          "base_uri": "https://localhost:8080/"
        },
        "outputId": "4b7d9bf0-8d76-49d5-b283-399335392692"
      },
      "source": [
        "df3.printSchema()"
      ],
      "execution_count": null,
      "outputs": [
        {
          "output_type": "stream",
          "name": "stdout",
          "text": [
            "root\n",
            " |-- Customer_id: integer (nullable = true)\n",
            " |-- age: integer (nullable = true)\n",
            " |-- job: string (nullable = true)\n",
            " |-- marital: string (nullable = true)\n",
            " |-- education: string (nullable = true)\n",
            " |-- default: string (nullable = true)\n",
            " |-- housing: string (nullable = true)\n",
            " |-- loan: string (nullable = true)\n",
            " |-- contact: string (nullable = true)\n",
            " |-- month: integer (nullable = true)\n",
            " |-- day_of_week: integer (nullable = true)\n",
            " |-- duration: double (nullable = true)\n",
            " |-- campaign: integer (nullable = true)\n",
            " |-- pdays: integer (nullable = true)\n",
            " |-- previous: integer (nullable = true)\n",
            " |-- poutcome: string (nullable = true)\n",
            " |-- emp_var_rate: float (nullable = true)\n",
            " |-- cons_price_idx: float (nullable = true)\n",
            " |-- cons_conf_idx: float (nullable = true)\n",
            " |-- euribor3m: float (nullable = true)\n",
            " |-- nr_employed: float (nullable = true)\n",
            " |-- y: string (nullable = true)\n",
            " |-- month_sin: double (nullable = true)\n",
            " |-- month_cos: double (nullable = true)\n",
            " |-- day_of_week_sin: double (nullable = true)\n",
            " |-- day_of_week_cos: double (nullable = true)\n",
            "\n"
          ]
        }
      ]
    },
    {
      "cell_type": "code",
      "metadata": {
        "id": "27SOW9vf_6fm",
        "colab": {
          "base_uri": "https://localhost:8080/"
        },
        "outputId": "3c2c0304-7836-44ab-a8eb-bfe87488540e"
      },
      "source": [
        "mapping_dict={'yes':1,'no':0,'unknown':-1}\n",
        "mapping3 = create_map([lit(x) for x in chain(*mapping_dict.items())])\n",
        "\n",
        "df3 = df3.withColumn('housing', mapping3[df3['housing']])\n",
        "df3 = df3.withColumn('default', mapping3[df3['default']])\n",
        "df4 = df3.withColumn('loan', mapping3[df3['loan']])\n",
        "df4.show()"
      ],
      "execution_count": null,
      "outputs": [
        {
          "output_type": "stream",
          "name": "stdout",
          "text": [
            "+-----------+---+------------+--------+-------------------+-------+-------+----+---------+-----+-----------+------------------+--------+-----+--------+-----------+------------+--------------+-------------+---------+-----------+---+------------------+-------------------+------------------+------------------+\n",
            "|Customer_id|age|         job| marital|          education|default|housing|loan|  contact|month|day_of_week|          duration|campaign|pdays|previous|   poutcome|emp_var_rate|cons_price_idx|cons_conf_idx|euribor3m|nr_employed|  y|         month_sin|          month_cos|   day_of_week_sin|   day_of_week_cos|\n",
            "+-----------+---+------------+--------+-------------------+-------+-------+----+---------+-----+-----------+------------------+--------+-----+--------+-----------+------------+--------------+-------------+---------+-----------+---+------------------+-------------------+------------------+------------------+\n",
            "|          1| 56|    services| married|        high.school|      0|      0|   1|telephone|    5|          1| 5.730099782973575|       1|    0|       0|nonexistent|         1.1|        93.994|        -36.4|    4.857|     5191.0| no|0.5011489580136382|-0.8653610355694579|0.4997701026431024|0.3096228130570242|\n",
            "|          3| 59|      admin.| married|professional.course|      0|      0|   0|telephone|    5|          1| 4.941642422609304|       1|    0|       0|nonexistent|         1.1|        93.994|        -36.4|    4.857|     5191.0| no|0.5011489580136382|-0.8653610355694579|0.4997701026431024|0.3096228130570242|\n",
            "|          5| 24|  technician|  single|professional.course|      0|      1|   0|telephone|    5|          1| 5.942799375126701|       1|    0|       0|nonexistent|         1.1|        93.994|        -36.4|    4.857|     5191.0| no|0.5011489580136382|-0.8653610355694579|0.4997701026431024|0.3096228130570242|\n",
            "|          6| 25|    services|  single|        high.school|      0|      1|   0|telephone|    5|          1|3.9318256327243257|       1|    0|       0|nonexistent|         1.1|        93.994|        -36.4|    4.857|     5191.0| no|0.5011489580136382|-0.8653610355694579|0.4997701026431024|0.3096228130570242|\n",
            "|          9| 29| blue-collar|  single|        high.school|      0|      0|   1|telephone|    5|          1| 4.927253685157205|       1|    0|       0|nonexistent|         1.1|        93.994|        -36.4|    4.857|     5191.0| no|0.5011489580136382|-0.8653610355694579|0.4997701026431024|0.3096228130570242|\n",
            "|         12| 54|     retired| married|           basic.9y|     -1|      1|   1|telephone|    5|          1|5.1647859739235145|       1|    0|       0|nonexistent|         1.1|        93.994|        -36.4|    4.857|     5191.0| no|0.5011489580136382|-0.8653610355694579|0.4997701026431024|0.3096228130570242|\n",
            "|         13| 35| blue-collar| married|           basic.6y|      0|      1|   0|telephone|    5|          1| 5.746203190540153|       1|    0|       0|nonexistent|         1.1|        93.994|        -36.4|    4.857|     5191.0| no|0.5011489580136382|-0.8653610355694579|0.4997701026431024|0.3096228130570242|\n",
            "|         15| 50| blue-collar| married|           basic.9y|      0|      1|   1|telephone|    5|          1| 5.869296913133774|       1|    0|       0|nonexistent|         1.1|        93.994|        -36.4|    4.857|     5191.0| no|0.5011489580136382|-0.8653610355694579|0.4997701026431024|0.3096228130570242|\n",
            "|         16| 39|  management|  single|           basic.9y|     -1|      0|   0|telephone|    5|          1| 5.278114659230518|       1|    0|       0|nonexistent|         1.1|        93.994|        -36.4|    4.857|     5191.0| no|0.5011489580136382|-0.8653610355694579|0.4997701026431024|0.3096228130570242|\n",
            "|         17| 55| blue-collar| married|           basic.4y|     -1|      1|   0|telephone|    5|          1| 5.572154032177765|       1|    0|       0|nonexistent|         1.1|        93.994|        -36.4|    4.857|     5191.0| no|0.5011489580136382|-0.8653610355694579|0.4997701026431024|0.3096228130570242|\n",
            "|         19| 41|  technician|  single|        high.school|      0|      1|   0|telephone|    5|          1| 5.204006687076795|       1|    0|       0|nonexistent|         1.1|        93.994|        -36.4|    4.857|     5191.0| no|0.5011489580136382|-0.8653610355694579|0.4997701026431024|0.3096228130570242|\n",
            "|         20| 37|      admin.| married|        high.school|      0|      1|   0|telephone|    5|          1| 5.153291594497779|       1|    0|       0|nonexistent|         1.1|        93.994|        -36.4|    4.857|     5191.0| no|0.5011489580136382|-0.8653610355694579|0.4997701026431024|0.3096228130570242|\n",
            "|         22| 59|  technician| married|            unknown|      0|      1|   0|telephone|    5|          1| 4.543294782270004|       1|    0|       0|nonexistent|         1.1|        93.994|        -36.4|    4.857|     5191.0| no|0.5011489580136382|-0.8653610355694579|0.4997701026431024|0.3096228130570242|\n",
            "|         26| 49| blue-collar| married|            unknown|      0|      0|   0|telephone|    5|          1| 4.304065093204169|       1|    0|       0|nonexistent|         1.1|        93.994|        -36.4|    4.857|     5191.0| no|0.5011489580136382|-0.8653610355694579|0.4997701026431024|0.3096228130570242|\n",
            "|         27| 54|  management| married|           basic.4y|     -1|      1|   0|telephone|    5|          1| 5.442417710521793|       1|    0|       0|nonexistent|         1.1|        93.994|        -36.4|    4.857|     5191.0| no|0.5011489580136382|-0.8653610355694579|0.4997701026431024|0.3096228130570242|\n",
            "|         28| 54| blue-collar|divorced|           basic.4y|      0|      0|   0|telephone|    5|          1| 5.342334251964811|       1|    0|       0|nonexistent|         1.1|        93.994|        -36.4|    4.857|     5191.0| no|0.5011489580136382|-0.8653610355694579|0.4997701026431024|0.3096228130570242|\n",
            "|         31| 52|  technician| married|           basic.9y|      0|      1|   0|telephone|    5|          1| 7.418780882750794|       1|    0|       0|nonexistent|         1.1|        93.994|        -36.4|    4.857|     5191.0| no|0.5011489580136382|-0.8653610355694579|0.4997701026431024|0.3096228130570242|\n",
            "|         34| 58|  management| unknown|  university.degree|      0|      1|   0|telephone|    5|          1| 5.905361848054571|       1|    0|       0|nonexistent|         1.1|        93.994|        -36.4|    4.857|     5191.0| no|0.5011489580136382|-0.8653610355694579|0.4997701026431024|0.3096228130570242|\n",
            "|         35| 32|entrepreneur| married|        high.school|      0|      1|   0|telephone|    5|          1| 5.752572638825633|       1|    0|       0|nonexistent|         1.1|        93.994|        -36.4|    4.857|     5191.0| no|0.5011489580136382|-0.8653610355694579|0.4997701026431024|0.3096228130570242|\n",
            "|         37| 57|      admin.| married|  university.degree|      0|      0|   1|telephone|    5|          1|5.3612921657094255|       1|    0|       0|nonexistent|         1.1|        93.994|        -36.4|    4.857|     5191.0| no|0.5011489580136382|-0.8653610355694579|0.4997701026431024|0.3096228130570242|\n",
            "+-----------+---+------------+--------+-------------------+-------+-------+----+---------+-----+-----------+------------------+--------+-----+--------+-----------+------------+--------------+-------------+---------+-----------+---+------------------+-------------------+------------------+------------------+\n",
            "only showing top 20 rows\n",
            "\n"
          ]
        }
      ]
    },
    {
      "cell_type": "code",
      "metadata": {
        "id": "kId9GhgXBA7E",
        "colab": {
          "base_uri": "https://localhost:8080/"
        },
        "outputId": "1e121cdb-aa38-4513-d294-cec317bdc3a4"
      },
      "source": [
        "mapping_dict2={'no':0,'yes':1}\n",
        "mapping4 = create_map([lit(x) for x in chain(*mapping_dict2.items())])\n",
        "\n",
        "df5 = df4.withColumn('y', mapping4[df4['y']])\n",
        "df5.show()"
      ],
      "execution_count": null,
      "outputs": [
        {
          "output_type": "stream",
          "name": "stdout",
          "text": [
            "+-----------+---+------------+--------+-------------------+-------+-------+----+---------+-----+-----------+------------------+--------+-----+--------+-----------+------------+--------------+-------------+---------+-----------+---+------------------+-------------------+------------------+------------------+\n",
            "|Customer_id|age|         job| marital|          education|default|housing|loan|  contact|month|day_of_week|          duration|campaign|pdays|previous|   poutcome|emp_var_rate|cons_price_idx|cons_conf_idx|euribor3m|nr_employed|  y|         month_sin|          month_cos|   day_of_week_sin|   day_of_week_cos|\n",
            "+-----------+---+------------+--------+-------------------+-------+-------+----+---------+-----+-----------+------------------+--------+-----+--------+-----------+------------+--------------+-------------+---------+-----------+---+------------------+-------------------+------------------+------------------+\n",
            "|          1| 56|    services| married|        high.school|      0|      0|   1|telephone|    5|          1| 5.730099782973575|       1|    0|       0|nonexistent|         1.1|        93.994|        -36.4|    4.857|     5191.0|  0|0.5011489580136382|-0.8653610355694579|0.4997701026431024|0.3096228130570242|\n",
            "|          3| 59|      admin.| married|professional.course|      0|      0|   0|telephone|    5|          1| 4.941642422609304|       1|    0|       0|nonexistent|         1.1|        93.994|        -36.4|    4.857|     5191.0|  0|0.5011489580136382|-0.8653610355694579|0.4997701026431024|0.3096228130570242|\n",
            "|          5| 24|  technician|  single|professional.course|      0|      1|   0|telephone|    5|          1| 5.942799375126701|       1|    0|       0|nonexistent|         1.1|        93.994|        -36.4|    4.857|     5191.0|  0|0.5011489580136382|-0.8653610355694579|0.4997701026431024|0.3096228130570242|\n",
            "|          6| 25|    services|  single|        high.school|      0|      1|   0|telephone|    5|          1|3.9318256327243257|       1|    0|       0|nonexistent|         1.1|        93.994|        -36.4|    4.857|     5191.0|  0|0.5011489580136382|-0.8653610355694579|0.4997701026431024|0.3096228130570242|\n",
            "|          9| 29| blue-collar|  single|        high.school|      0|      0|   1|telephone|    5|          1| 4.927253685157205|       1|    0|       0|nonexistent|         1.1|        93.994|        -36.4|    4.857|     5191.0|  0|0.5011489580136382|-0.8653610355694579|0.4997701026431024|0.3096228130570242|\n",
            "|         12| 54|     retired| married|           basic.9y|     -1|      1|   1|telephone|    5|          1|5.1647859739235145|       1|    0|       0|nonexistent|         1.1|        93.994|        -36.4|    4.857|     5191.0|  0|0.5011489580136382|-0.8653610355694579|0.4997701026431024|0.3096228130570242|\n",
            "|         13| 35| blue-collar| married|           basic.6y|      0|      1|   0|telephone|    5|          1| 5.746203190540153|       1|    0|       0|nonexistent|         1.1|        93.994|        -36.4|    4.857|     5191.0|  0|0.5011489580136382|-0.8653610355694579|0.4997701026431024|0.3096228130570242|\n",
            "|         15| 50| blue-collar| married|           basic.9y|      0|      1|   1|telephone|    5|          1| 5.869296913133774|       1|    0|       0|nonexistent|         1.1|        93.994|        -36.4|    4.857|     5191.0|  0|0.5011489580136382|-0.8653610355694579|0.4997701026431024|0.3096228130570242|\n",
            "|         16| 39|  management|  single|           basic.9y|     -1|      0|   0|telephone|    5|          1| 5.278114659230518|       1|    0|       0|nonexistent|         1.1|        93.994|        -36.4|    4.857|     5191.0|  0|0.5011489580136382|-0.8653610355694579|0.4997701026431024|0.3096228130570242|\n",
            "|         17| 55| blue-collar| married|           basic.4y|     -1|      1|   0|telephone|    5|          1| 5.572154032177765|       1|    0|       0|nonexistent|         1.1|        93.994|        -36.4|    4.857|     5191.0|  0|0.5011489580136382|-0.8653610355694579|0.4997701026431024|0.3096228130570242|\n",
            "|         19| 41|  technician|  single|        high.school|      0|      1|   0|telephone|    5|          1| 5.204006687076795|       1|    0|       0|nonexistent|         1.1|        93.994|        -36.4|    4.857|     5191.0|  0|0.5011489580136382|-0.8653610355694579|0.4997701026431024|0.3096228130570242|\n",
            "|         20| 37|      admin.| married|        high.school|      0|      1|   0|telephone|    5|          1| 5.153291594497779|       1|    0|       0|nonexistent|         1.1|        93.994|        -36.4|    4.857|     5191.0|  0|0.5011489580136382|-0.8653610355694579|0.4997701026431024|0.3096228130570242|\n",
            "|         22| 59|  technician| married|            unknown|      0|      1|   0|telephone|    5|          1| 4.543294782270004|       1|    0|       0|nonexistent|         1.1|        93.994|        -36.4|    4.857|     5191.0|  0|0.5011489580136382|-0.8653610355694579|0.4997701026431024|0.3096228130570242|\n",
            "|         26| 49| blue-collar| married|            unknown|      0|      0|   0|telephone|    5|          1| 4.304065093204169|       1|    0|       0|nonexistent|         1.1|        93.994|        -36.4|    4.857|     5191.0|  0|0.5011489580136382|-0.8653610355694579|0.4997701026431024|0.3096228130570242|\n",
            "|         27| 54|  management| married|           basic.4y|     -1|      1|   0|telephone|    5|          1| 5.442417710521793|       1|    0|       0|nonexistent|         1.1|        93.994|        -36.4|    4.857|     5191.0|  0|0.5011489580136382|-0.8653610355694579|0.4997701026431024|0.3096228130570242|\n",
            "|         28| 54| blue-collar|divorced|           basic.4y|      0|      0|   0|telephone|    5|          1| 5.342334251964811|       1|    0|       0|nonexistent|         1.1|        93.994|        -36.4|    4.857|     5191.0|  0|0.5011489580136382|-0.8653610355694579|0.4997701026431024|0.3096228130570242|\n",
            "|         31| 52|  technician| married|           basic.9y|      0|      1|   0|telephone|    5|          1| 7.418780882750794|       1|    0|       0|nonexistent|         1.1|        93.994|        -36.4|    4.857|     5191.0|  0|0.5011489580136382|-0.8653610355694579|0.4997701026431024|0.3096228130570242|\n",
            "|         34| 58|  management| unknown|  university.degree|      0|      1|   0|telephone|    5|          1| 5.905361848054571|       1|    0|       0|nonexistent|         1.1|        93.994|        -36.4|    4.857|     5191.0|  0|0.5011489580136382|-0.8653610355694579|0.4997701026431024|0.3096228130570242|\n",
            "|         35| 32|entrepreneur| married|        high.school|      0|      1|   0|telephone|    5|          1| 5.752572638825633|       1|    0|       0|nonexistent|         1.1|        93.994|        -36.4|    4.857|     5191.0|  0|0.5011489580136382|-0.8653610355694579|0.4997701026431024|0.3096228130570242|\n",
            "|         37| 57|      admin.| married|  university.degree|      0|      0|   1|telephone|    5|          1|5.3612921657094255|       1|    0|       0|nonexistent|         1.1|        93.994|        -36.4|    4.857|     5191.0|  0|0.5011489580136382|-0.8653610355694579|0.4997701026431024|0.3096228130570242|\n",
            "+-----------+---+------------+--------+-------------------+-------+-------+----+---------+-----+-----------+------------------+--------+-----+--------+-----------+------------+--------------+-------------+---------+-----------+---+------------------+-------------------+------------------+------------------+\n",
            "only showing top 20 rows\n",
            "\n"
          ]
        }
      ]
    },
    {
      "cell_type": "markdown",
      "metadata": {
        "id": "HkvTlrGAJV08"
      },
      "source": [
        "**Label encoding according to the mean in regards to response 'y'**"
      ]
    },
    {
      "cell_type": "code",
      "metadata": {
        "id": "Jgt9CedFGKkk",
        "colab": {
          "base_uri": "https://localhost:8080/"
        },
        "outputId": "602ef3dc-41e9-4b17-d056-39832087daa4"
      },
      "source": [
        "df5.groupBy('marital').mean('y').show()"
      ],
      "execution_count": null,
      "outputs": [
        {
          "output_type": "stream",
          "name": "stdout",
          "text": [
            "+--------+-------------------+\n",
            "| marital|             avg(y)|\n",
            "+--------+-------------------+\n",
            "| unknown|0.16666666666666666|\n",
            "|divorced|0.10349006301502665|\n",
            "| married|0.10196183104230615|\n",
            "|  single|0.14192370519842415|\n",
            "+--------+-------------------+\n",
            "\n"
          ]
        }
      ]
    },
    {
      "cell_type": "code",
      "metadata": {
        "id": "JC7IK-t0B7BW",
        "colab": {
          "base_uri": "https://localhost:8080/"
        },
        "outputId": "9e2f7c48-4854-48c1-824b-61484ab92c5e"
      },
      "source": [
        "marital_dict={'divorced': 1, 'married': 0, 'single': 2, 'unknown': 3}\n",
        "mapping5 = create_map([lit(x) for x in chain(*marital_dict.items())])\n",
        "\n",
        "df6 = df5.withColumn('marital', mapping5[df5['marital']])\n",
        "df6.show()"
      ],
      "execution_count": null,
      "outputs": [
        {
          "output_type": "stream",
          "name": "stdout",
          "text": [
            "+-----------+---+------------+-------+-------------------+-------+-------+----+---------+-----+-----------+------------------+--------+-----+--------+-----------+------------+--------------+-------------+---------+-----------+---+------------------+-------------------+------------------+------------------+\n",
            "|Customer_id|age|         job|marital|          education|default|housing|loan|  contact|month|day_of_week|          duration|campaign|pdays|previous|   poutcome|emp_var_rate|cons_price_idx|cons_conf_idx|euribor3m|nr_employed|  y|         month_sin|          month_cos|   day_of_week_sin|   day_of_week_cos|\n",
            "+-----------+---+------------+-------+-------------------+-------+-------+----+---------+-----+-----------+------------------+--------+-----+--------+-----------+------------+--------------+-------------+---------+-----------+---+------------------+-------------------+------------------+------------------+\n",
            "|          1| 56|    services|      0|        high.school|      0|      0|   1|telephone|    5|          1| 5.730099782973575|       1|    0|       0|nonexistent|         1.1|        93.994|        -36.4|    4.857|     5191.0|  0|0.5011489580136382|-0.8653610355694579|0.4997701026431024|0.3096228130570242|\n",
            "|          3| 59|      admin.|      0|professional.course|      0|      0|   0|telephone|    5|          1| 4.941642422609304|       1|    0|       0|nonexistent|         1.1|        93.994|        -36.4|    4.857|     5191.0|  0|0.5011489580136382|-0.8653610355694579|0.4997701026431024|0.3096228130570242|\n",
            "|          5| 24|  technician|      2|professional.course|      0|      1|   0|telephone|    5|          1| 5.942799375126701|       1|    0|       0|nonexistent|         1.1|        93.994|        -36.4|    4.857|     5191.0|  0|0.5011489580136382|-0.8653610355694579|0.4997701026431024|0.3096228130570242|\n",
            "|          6| 25|    services|      2|        high.school|      0|      1|   0|telephone|    5|          1|3.9318256327243257|       1|    0|       0|nonexistent|         1.1|        93.994|        -36.4|    4.857|     5191.0|  0|0.5011489580136382|-0.8653610355694579|0.4997701026431024|0.3096228130570242|\n",
            "|          9| 29| blue-collar|      2|        high.school|      0|      0|   1|telephone|    5|          1| 4.927253685157205|       1|    0|       0|nonexistent|         1.1|        93.994|        -36.4|    4.857|     5191.0|  0|0.5011489580136382|-0.8653610355694579|0.4997701026431024|0.3096228130570242|\n",
            "|         12| 54|     retired|      0|           basic.9y|     -1|      1|   1|telephone|    5|          1|5.1647859739235145|       1|    0|       0|nonexistent|         1.1|        93.994|        -36.4|    4.857|     5191.0|  0|0.5011489580136382|-0.8653610355694579|0.4997701026431024|0.3096228130570242|\n",
            "|         13| 35| blue-collar|      0|           basic.6y|      0|      1|   0|telephone|    5|          1| 5.746203190540153|       1|    0|       0|nonexistent|         1.1|        93.994|        -36.4|    4.857|     5191.0|  0|0.5011489580136382|-0.8653610355694579|0.4997701026431024|0.3096228130570242|\n",
            "|         15| 50| blue-collar|      0|           basic.9y|      0|      1|   1|telephone|    5|          1| 5.869296913133774|       1|    0|       0|nonexistent|         1.1|        93.994|        -36.4|    4.857|     5191.0|  0|0.5011489580136382|-0.8653610355694579|0.4997701026431024|0.3096228130570242|\n",
            "|         16| 39|  management|      2|           basic.9y|     -1|      0|   0|telephone|    5|          1| 5.278114659230518|       1|    0|       0|nonexistent|         1.1|        93.994|        -36.4|    4.857|     5191.0|  0|0.5011489580136382|-0.8653610355694579|0.4997701026431024|0.3096228130570242|\n",
            "|         17| 55| blue-collar|      0|           basic.4y|     -1|      1|   0|telephone|    5|          1| 5.572154032177765|       1|    0|       0|nonexistent|         1.1|        93.994|        -36.4|    4.857|     5191.0|  0|0.5011489580136382|-0.8653610355694579|0.4997701026431024|0.3096228130570242|\n",
            "|         19| 41|  technician|      2|        high.school|      0|      1|   0|telephone|    5|          1| 5.204006687076795|       1|    0|       0|nonexistent|         1.1|        93.994|        -36.4|    4.857|     5191.0|  0|0.5011489580136382|-0.8653610355694579|0.4997701026431024|0.3096228130570242|\n",
            "|         20| 37|      admin.|      0|        high.school|      0|      1|   0|telephone|    5|          1| 5.153291594497779|       1|    0|       0|nonexistent|         1.1|        93.994|        -36.4|    4.857|     5191.0|  0|0.5011489580136382|-0.8653610355694579|0.4997701026431024|0.3096228130570242|\n",
            "|         22| 59|  technician|      0|            unknown|      0|      1|   0|telephone|    5|          1| 4.543294782270004|       1|    0|       0|nonexistent|         1.1|        93.994|        -36.4|    4.857|     5191.0|  0|0.5011489580136382|-0.8653610355694579|0.4997701026431024|0.3096228130570242|\n",
            "|         26| 49| blue-collar|      0|            unknown|      0|      0|   0|telephone|    5|          1| 4.304065093204169|       1|    0|       0|nonexistent|         1.1|        93.994|        -36.4|    4.857|     5191.0|  0|0.5011489580136382|-0.8653610355694579|0.4997701026431024|0.3096228130570242|\n",
            "|         27| 54|  management|      0|           basic.4y|     -1|      1|   0|telephone|    5|          1| 5.442417710521793|       1|    0|       0|nonexistent|         1.1|        93.994|        -36.4|    4.857|     5191.0|  0|0.5011489580136382|-0.8653610355694579|0.4997701026431024|0.3096228130570242|\n",
            "|         28| 54| blue-collar|      1|           basic.4y|      0|      0|   0|telephone|    5|          1| 5.342334251964811|       1|    0|       0|nonexistent|         1.1|        93.994|        -36.4|    4.857|     5191.0|  0|0.5011489580136382|-0.8653610355694579|0.4997701026431024|0.3096228130570242|\n",
            "|         31| 52|  technician|      0|           basic.9y|      0|      1|   0|telephone|    5|          1| 7.418780882750794|       1|    0|       0|nonexistent|         1.1|        93.994|        -36.4|    4.857|     5191.0|  0|0.5011489580136382|-0.8653610355694579|0.4997701026431024|0.3096228130570242|\n",
            "|         34| 58|  management|      3|  university.degree|      0|      1|   0|telephone|    5|          1| 5.905361848054571|       1|    0|       0|nonexistent|         1.1|        93.994|        -36.4|    4.857|     5191.0|  0|0.5011489580136382|-0.8653610355694579|0.4997701026431024|0.3096228130570242|\n",
            "|         35| 32|entrepreneur|      0|        high.school|      0|      1|   0|telephone|    5|          1| 5.752572638825633|       1|    0|       0|nonexistent|         1.1|        93.994|        -36.4|    4.857|     5191.0|  0|0.5011489580136382|-0.8653610355694579|0.4997701026431024|0.3096228130570242|\n",
            "|         37| 57|      admin.|      0|  university.degree|      0|      0|   1|telephone|    5|          1|5.3612921657094255|       1|    0|       0|nonexistent|         1.1|        93.994|        -36.4|    4.857|     5191.0|  0|0.5011489580136382|-0.8653610355694579|0.4997701026431024|0.3096228130570242|\n",
            "+-----------+---+------------+-------+-------------------+-------+-------+----+---------+-----+-----------+------------------+--------+-----+--------+-----------+------------+--------------+-------------+---------+-----------+---+------------------+-------------------+------------------+------------------+\n",
            "only showing top 20 rows\n",
            "\n"
          ]
        }
      ]
    },
    {
      "cell_type": "markdown",
      "metadata": {
        "id": "xc08DRbJQJKT"
      },
      "source": [
        "**One hot encoding contact,poutcome but first we need to use stringIndexer to convert it to numeric then use OneHotEncoder**"
      ]
    },
    {
      "cell_type": "code",
      "metadata": {
        "id": "kI1Cs7EjMNx-",
        "colab": {
          "base_uri": "https://localhost:8080/"
        },
        "outputId": "81cd811d-63b5-446f-c54c-d43abdf7f0c7"
      },
      "source": [
        "from pyspark.ml.feature import StringIndexer\n",
        "dummyIndexer = StringIndexer(inputCol=\"contact\", outputCol=\"dummy_contact_index\")\n",
        "df7 = dummyIndexer.fit(df6).transform(df6)\n",
        "#df7 = df7.drop('contact')\n",
        "df7.show()"
      ],
      "execution_count": null,
      "outputs": [
        {
          "output_type": "stream",
          "name": "stdout",
          "text": [
            "+-----------+---+------------+-------+-------------------+-------+-------+----+---------+-----+-----------+------------------+--------+-----+--------+-----------+------------+--------------+-------------+---------+-----------+---+------------------+-------------------+------------------+------------------+-------------------+\n",
            "|Customer_id|age|         job|marital|          education|default|housing|loan|  contact|month|day_of_week|          duration|campaign|pdays|previous|   poutcome|emp_var_rate|cons_price_idx|cons_conf_idx|euribor3m|nr_employed|  y|         month_sin|          month_cos|   day_of_week_sin|   day_of_week_cos|dummy_contact_index|\n",
            "+-----------+---+------------+-------+-------------------+-------+-------+----+---------+-----+-----------+------------------+--------+-----+--------+-----------+------------+--------------+-------------+---------+-----------+---+------------------+-------------------+------------------+------------------+-------------------+\n",
            "|          1| 56|    services|      0|        high.school|      0|      0|   1|telephone|    5|          1| 5.730099782973575|       1|    0|       0|nonexistent|         1.1|        93.994|        -36.4|    4.857|     5191.0|  0|0.5011489580136382|-0.8653610355694579|0.4997701026431024|0.3096228130570242|                1.0|\n",
            "|          3| 59|      admin.|      0|professional.course|      0|      0|   0|telephone|    5|          1| 4.941642422609304|       1|    0|       0|nonexistent|         1.1|        93.994|        -36.4|    4.857|     5191.0|  0|0.5011489580136382|-0.8653610355694579|0.4997701026431024|0.3096228130570242|                1.0|\n",
            "|          5| 24|  technician|      2|professional.course|      0|      1|   0|telephone|    5|          1| 5.942799375126701|       1|    0|       0|nonexistent|         1.1|        93.994|        -36.4|    4.857|     5191.0|  0|0.5011489580136382|-0.8653610355694579|0.4997701026431024|0.3096228130570242|                1.0|\n",
            "|          6| 25|    services|      2|        high.school|      0|      1|   0|telephone|    5|          1|3.9318256327243257|       1|    0|       0|nonexistent|         1.1|        93.994|        -36.4|    4.857|     5191.0|  0|0.5011489580136382|-0.8653610355694579|0.4997701026431024|0.3096228130570242|                1.0|\n",
            "|          9| 29| blue-collar|      2|        high.school|      0|      0|   1|telephone|    5|          1| 4.927253685157205|       1|    0|       0|nonexistent|         1.1|        93.994|        -36.4|    4.857|     5191.0|  0|0.5011489580136382|-0.8653610355694579|0.4997701026431024|0.3096228130570242|                1.0|\n",
            "|         12| 54|     retired|      0|           basic.9y|     -1|      1|   1|telephone|    5|          1|5.1647859739235145|       1|    0|       0|nonexistent|         1.1|        93.994|        -36.4|    4.857|     5191.0|  0|0.5011489580136382|-0.8653610355694579|0.4997701026431024|0.3096228130570242|                1.0|\n",
            "|         13| 35| blue-collar|      0|           basic.6y|      0|      1|   0|telephone|    5|          1| 5.746203190540153|       1|    0|       0|nonexistent|         1.1|        93.994|        -36.4|    4.857|     5191.0|  0|0.5011489580136382|-0.8653610355694579|0.4997701026431024|0.3096228130570242|                1.0|\n",
            "|         15| 50| blue-collar|      0|           basic.9y|      0|      1|   1|telephone|    5|          1| 5.869296913133774|       1|    0|       0|nonexistent|         1.1|        93.994|        -36.4|    4.857|     5191.0|  0|0.5011489580136382|-0.8653610355694579|0.4997701026431024|0.3096228130570242|                1.0|\n",
            "|         16| 39|  management|      2|           basic.9y|     -1|      0|   0|telephone|    5|          1| 5.278114659230518|       1|    0|       0|nonexistent|         1.1|        93.994|        -36.4|    4.857|     5191.0|  0|0.5011489580136382|-0.8653610355694579|0.4997701026431024|0.3096228130570242|                1.0|\n",
            "|         17| 55| blue-collar|      0|           basic.4y|     -1|      1|   0|telephone|    5|          1| 5.572154032177765|       1|    0|       0|nonexistent|         1.1|        93.994|        -36.4|    4.857|     5191.0|  0|0.5011489580136382|-0.8653610355694579|0.4997701026431024|0.3096228130570242|                1.0|\n",
            "|         19| 41|  technician|      2|        high.school|      0|      1|   0|telephone|    5|          1| 5.204006687076795|       1|    0|       0|nonexistent|         1.1|        93.994|        -36.4|    4.857|     5191.0|  0|0.5011489580136382|-0.8653610355694579|0.4997701026431024|0.3096228130570242|                1.0|\n",
            "|         20| 37|      admin.|      0|        high.school|      0|      1|   0|telephone|    5|          1| 5.153291594497779|       1|    0|       0|nonexistent|         1.1|        93.994|        -36.4|    4.857|     5191.0|  0|0.5011489580136382|-0.8653610355694579|0.4997701026431024|0.3096228130570242|                1.0|\n",
            "|         22| 59|  technician|      0|            unknown|      0|      1|   0|telephone|    5|          1| 4.543294782270004|       1|    0|       0|nonexistent|         1.1|        93.994|        -36.4|    4.857|     5191.0|  0|0.5011489580136382|-0.8653610355694579|0.4997701026431024|0.3096228130570242|                1.0|\n",
            "|         26| 49| blue-collar|      0|            unknown|      0|      0|   0|telephone|    5|          1| 4.304065093204169|       1|    0|       0|nonexistent|         1.1|        93.994|        -36.4|    4.857|     5191.0|  0|0.5011489580136382|-0.8653610355694579|0.4997701026431024|0.3096228130570242|                1.0|\n",
            "|         27| 54|  management|      0|           basic.4y|     -1|      1|   0|telephone|    5|          1| 5.442417710521793|       1|    0|       0|nonexistent|         1.1|        93.994|        -36.4|    4.857|     5191.0|  0|0.5011489580136382|-0.8653610355694579|0.4997701026431024|0.3096228130570242|                1.0|\n",
            "|         28| 54| blue-collar|      1|           basic.4y|      0|      0|   0|telephone|    5|          1| 5.342334251964811|       1|    0|       0|nonexistent|         1.1|        93.994|        -36.4|    4.857|     5191.0|  0|0.5011489580136382|-0.8653610355694579|0.4997701026431024|0.3096228130570242|                1.0|\n",
            "|         31| 52|  technician|      0|           basic.9y|      0|      1|   0|telephone|    5|          1| 7.418780882750794|       1|    0|       0|nonexistent|         1.1|        93.994|        -36.4|    4.857|     5191.0|  0|0.5011489580136382|-0.8653610355694579|0.4997701026431024|0.3096228130570242|                1.0|\n",
            "|         34| 58|  management|      3|  university.degree|      0|      1|   0|telephone|    5|          1| 5.905361848054571|       1|    0|       0|nonexistent|         1.1|        93.994|        -36.4|    4.857|     5191.0|  0|0.5011489580136382|-0.8653610355694579|0.4997701026431024|0.3096228130570242|                1.0|\n",
            "|         35| 32|entrepreneur|      0|        high.school|      0|      1|   0|telephone|    5|          1| 5.752572638825633|       1|    0|       0|nonexistent|         1.1|        93.994|        -36.4|    4.857|     5191.0|  0|0.5011489580136382|-0.8653610355694579|0.4997701026431024|0.3096228130570242|                1.0|\n",
            "|         37| 57|      admin.|      0|  university.degree|      0|      0|   1|telephone|    5|          1|5.3612921657094255|       1|    0|       0|nonexistent|         1.1|        93.994|        -36.4|    4.857|     5191.0|  0|0.5011489580136382|-0.8653610355694579|0.4997701026431024|0.3096228130570242|                1.0|\n",
            "+-----------+---+------------+-------+-------------------+-------+-------+----+---------+-----+-----------+------------------+--------+-----+--------+-----------+------------+--------------+-------------+---------+-----------+---+------------------+-------------------+------------------+------------------+-------------------+\n",
            "only showing top 20 rows\n",
            "\n"
          ]
        }
      ]
    },
    {
      "cell_type": "code",
      "metadata": {
        "id": "ktdvsvEXB7QL",
        "colab": {
          "base_uri": "https://localhost:8080/"
        },
        "outputId": "30f625ae-0765-4895-afd2-2410dcd77a9a"
      },
      "source": [
        "dummyIndexer2 = StringIndexer(inputCol=\"poutcome\", outputCol=\"dummy_poutcome_index\")\n",
        "df8 = dummyIndexer2.fit(df7).transform(df7)\n",
        "#df8 = df8.drop('poutcome')\n",
        "df8.show()"
      ],
      "execution_count": null,
      "outputs": [
        {
          "output_type": "stream",
          "name": "stdout",
          "text": [
            "+-----------+---+------------+-------+-------------------+-------+-------+----+---------+-----+-----------+------------------+--------+-----+--------+-----------+------------+--------------+-------------+---------+-----------+---+------------------+-------------------+------------------+------------------+-------------------+--------------------+\n",
            "|Customer_id|age|         job|marital|          education|default|housing|loan|  contact|month|day_of_week|          duration|campaign|pdays|previous|   poutcome|emp_var_rate|cons_price_idx|cons_conf_idx|euribor3m|nr_employed|  y|         month_sin|          month_cos|   day_of_week_sin|   day_of_week_cos|dummy_contact_index|dummy_poutcome_index|\n",
            "+-----------+---+------------+-------+-------------------+-------+-------+----+---------+-----+-----------+------------------+--------+-----+--------+-----------+------------+--------------+-------------+---------+-----------+---+------------------+-------------------+------------------+------------------+-------------------+--------------------+\n",
            "|          1| 56|    services|      0|        high.school|      0|      0|   1|telephone|    5|          1| 5.730099782973575|       1|    0|       0|nonexistent|         1.1|        93.994|        -36.4|    4.857|     5191.0|  0|0.5011489580136382|-0.8653610355694579|0.4997701026431024|0.3096228130570242|                1.0|                 0.0|\n",
            "|          3| 59|      admin.|      0|professional.course|      0|      0|   0|telephone|    5|          1| 4.941642422609304|       1|    0|       0|nonexistent|         1.1|        93.994|        -36.4|    4.857|     5191.0|  0|0.5011489580136382|-0.8653610355694579|0.4997701026431024|0.3096228130570242|                1.0|                 0.0|\n",
            "|          5| 24|  technician|      2|professional.course|      0|      1|   0|telephone|    5|          1| 5.942799375126701|       1|    0|       0|nonexistent|         1.1|        93.994|        -36.4|    4.857|     5191.0|  0|0.5011489580136382|-0.8653610355694579|0.4997701026431024|0.3096228130570242|                1.0|                 0.0|\n",
            "|          6| 25|    services|      2|        high.school|      0|      1|   0|telephone|    5|          1|3.9318256327243257|       1|    0|       0|nonexistent|         1.1|        93.994|        -36.4|    4.857|     5191.0|  0|0.5011489580136382|-0.8653610355694579|0.4997701026431024|0.3096228130570242|                1.0|                 0.0|\n",
            "|          9| 29| blue-collar|      2|        high.school|      0|      0|   1|telephone|    5|          1| 4.927253685157205|       1|    0|       0|nonexistent|         1.1|        93.994|        -36.4|    4.857|     5191.0|  0|0.5011489580136382|-0.8653610355694579|0.4997701026431024|0.3096228130570242|                1.0|                 0.0|\n",
            "|         12| 54|     retired|      0|           basic.9y|     -1|      1|   1|telephone|    5|          1|5.1647859739235145|       1|    0|       0|nonexistent|         1.1|        93.994|        -36.4|    4.857|     5191.0|  0|0.5011489580136382|-0.8653610355694579|0.4997701026431024|0.3096228130570242|                1.0|                 0.0|\n",
            "|         13| 35| blue-collar|      0|           basic.6y|      0|      1|   0|telephone|    5|          1| 5.746203190540153|       1|    0|       0|nonexistent|         1.1|        93.994|        -36.4|    4.857|     5191.0|  0|0.5011489580136382|-0.8653610355694579|0.4997701026431024|0.3096228130570242|                1.0|                 0.0|\n",
            "|         15| 50| blue-collar|      0|           basic.9y|      0|      1|   1|telephone|    5|          1| 5.869296913133774|       1|    0|       0|nonexistent|         1.1|        93.994|        -36.4|    4.857|     5191.0|  0|0.5011489580136382|-0.8653610355694579|0.4997701026431024|0.3096228130570242|                1.0|                 0.0|\n",
            "|         16| 39|  management|      2|           basic.9y|     -1|      0|   0|telephone|    5|          1| 5.278114659230518|       1|    0|       0|nonexistent|         1.1|        93.994|        -36.4|    4.857|     5191.0|  0|0.5011489580136382|-0.8653610355694579|0.4997701026431024|0.3096228130570242|                1.0|                 0.0|\n",
            "|         17| 55| blue-collar|      0|           basic.4y|     -1|      1|   0|telephone|    5|          1| 5.572154032177765|       1|    0|       0|nonexistent|         1.1|        93.994|        -36.4|    4.857|     5191.0|  0|0.5011489580136382|-0.8653610355694579|0.4997701026431024|0.3096228130570242|                1.0|                 0.0|\n",
            "|         19| 41|  technician|      2|        high.school|      0|      1|   0|telephone|    5|          1| 5.204006687076795|       1|    0|       0|nonexistent|         1.1|        93.994|        -36.4|    4.857|     5191.0|  0|0.5011489580136382|-0.8653610355694579|0.4997701026431024|0.3096228130570242|                1.0|                 0.0|\n",
            "|         20| 37|      admin.|      0|        high.school|      0|      1|   0|telephone|    5|          1| 5.153291594497779|       1|    0|       0|nonexistent|         1.1|        93.994|        -36.4|    4.857|     5191.0|  0|0.5011489580136382|-0.8653610355694579|0.4997701026431024|0.3096228130570242|                1.0|                 0.0|\n",
            "|         22| 59|  technician|      0|            unknown|      0|      1|   0|telephone|    5|          1| 4.543294782270004|       1|    0|       0|nonexistent|         1.1|        93.994|        -36.4|    4.857|     5191.0|  0|0.5011489580136382|-0.8653610355694579|0.4997701026431024|0.3096228130570242|                1.0|                 0.0|\n",
            "|         26| 49| blue-collar|      0|            unknown|      0|      0|   0|telephone|    5|          1| 4.304065093204169|       1|    0|       0|nonexistent|         1.1|        93.994|        -36.4|    4.857|     5191.0|  0|0.5011489580136382|-0.8653610355694579|0.4997701026431024|0.3096228130570242|                1.0|                 0.0|\n",
            "|         27| 54|  management|      0|           basic.4y|     -1|      1|   0|telephone|    5|          1| 5.442417710521793|       1|    0|       0|nonexistent|         1.1|        93.994|        -36.4|    4.857|     5191.0|  0|0.5011489580136382|-0.8653610355694579|0.4997701026431024|0.3096228130570242|                1.0|                 0.0|\n",
            "|         28| 54| blue-collar|      1|           basic.4y|      0|      0|   0|telephone|    5|          1| 5.342334251964811|       1|    0|       0|nonexistent|         1.1|        93.994|        -36.4|    4.857|     5191.0|  0|0.5011489580136382|-0.8653610355694579|0.4997701026431024|0.3096228130570242|                1.0|                 0.0|\n",
            "|         31| 52|  technician|      0|           basic.9y|      0|      1|   0|telephone|    5|          1| 7.418780882750794|       1|    0|       0|nonexistent|         1.1|        93.994|        -36.4|    4.857|     5191.0|  0|0.5011489580136382|-0.8653610355694579|0.4997701026431024|0.3096228130570242|                1.0|                 0.0|\n",
            "|         34| 58|  management|      3|  university.degree|      0|      1|   0|telephone|    5|          1| 5.905361848054571|       1|    0|       0|nonexistent|         1.1|        93.994|        -36.4|    4.857|     5191.0|  0|0.5011489580136382|-0.8653610355694579|0.4997701026431024|0.3096228130570242|                1.0|                 0.0|\n",
            "|         35| 32|entrepreneur|      0|        high.school|      0|      1|   0|telephone|    5|          1| 5.752572638825633|       1|    0|       0|nonexistent|         1.1|        93.994|        -36.4|    4.857|     5191.0|  0|0.5011489580136382|-0.8653610355694579|0.4997701026431024|0.3096228130570242|                1.0|                 0.0|\n",
            "|         37| 57|      admin.|      0|  university.degree|      0|      0|   1|telephone|    5|          1|5.3612921657094255|       1|    0|       0|nonexistent|         1.1|        93.994|        -36.4|    4.857|     5191.0|  0|0.5011489580136382|-0.8653610355694579|0.4997701026431024|0.3096228130570242|                1.0|                 0.0|\n",
            "+-----------+---+------------+-------+-------------------+-------+-------+----+---------+-----+-----------+------------------+--------+-----+--------+-----------+------------+--------------+-------------+---------+-----------+---+------------------+-------------------+------------------+------------------+-------------------+--------------------+\n",
            "only showing top 20 rows\n",
            "\n"
          ]
        }
      ]
    },
    {
      "cell_type": "code",
      "metadata": {
        "id": "dX-plv32C47R",
        "colab": {
          "base_uri": "https://localhost:8080/"
        },
        "outputId": "609b2705-1d84-403c-dfb3-b69a9c127ce1"
      },
      "source": [
        "df8.printSchema()"
      ],
      "execution_count": null,
      "outputs": [
        {
          "output_type": "stream",
          "name": "stdout",
          "text": [
            "root\n",
            " |-- Customer_id: integer (nullable = true)\n",
            " |-- age: integer (nullable = true)\n",
            " |-- job: string (nullable = true)\n",
            " |-- marital: integer (nullable = true)\n",
            " |-- education: string (nullable = true)\n",
            " |-- default: integer (nullable = true)\n",
            " |-- housing: integer (nullable = true)\n",
            " |-- loan: integer (nullable = true)\n",
            " |-- contact: string (nullable = true)\n",
            " |-- month: integer (nullable = true)\n",
            " |-- day_of_week: integer (nullable = true)\n",
            " |-- duration: double (nullable = true)\n",
            " |-- campaign: integer (nullable = true)\n",
            " |-- pdays: integer (nullable = true)\n",
            " |-- previous: integer (nullable = true)\n",
            " |-- poutcome: string (nullable = true)\n",
            " |-- emp_var_rate: float (nullable = true)\n",
            " |-- cons_price_idx: float (nullable = true)\n",
            " |-- cons_conf_idx: float (nullable = true)\n",
            " |-- euribor3m: float (nullable = true)\n",
            " |-- nr_employed: float (nullable = true)\n",
            " |-- y: integer (nullable = true)\n",
            " |-- month_sin: double (nullable = true)\n",
            " |-- month_cos: double (nullable = true)\n",
            " |-- day_of_week_sin: double (nullable = true)\n",
            " |-- day_of_week_cos: double (nullable = true)\n",
            " |-- dummy_contact_index: double (nullable = false)\n",
            " |-- dummy_poutcome_index: double (nullable = false)\n",
            "\n"
          ]
        }
      ]
    },
    {
      "cell_type": "code",
      "metadata": {
        "id": "Y2KYslaDQDr2",
        "colab": {
          "base_uri": "https://localhost:8080/"
        },
        "outputId": "ca8e09dd-8500-470c-ab79-92cda2c33740"
      },
      "source": [
        "from pyspark.ml.feature import OneHotEncoder\n",
        "\n",
        "onehotencoder_contact_vector = OneHotEncoder(inputCol=\"dummy_contact_index\", outputCol=\"contact_vec\")\n",
        "onehotencoder_contact_vector.setDropLast(False)\n",
        "df9 = onehotencoder_contact_vector.fit(df8).transform(df8)\n",
        "#df9 = df9.drop('dummy_contact_index')\n",
        "df9.show(30)"
      ],
      "execution_count": null,
      "outputs": [
        {
          "output_type": "stream",
          "name": "stdout",
          "text": [
            "+-----------+---+------------+-------+-------------------+-------+-------+----+---------+-----+-----------+------------------+--------+-----+--------+-----------+------------+--------------+-------------+---------+-----------+---+------------------+-------------------+------------------+------------------+-------------------+--------------------+-------------+\n",
            "|Customer_id|age|         job|marital|          education|default|housing|loan|  contact|month|day_of_week|          duration|campaign|pdays|previous|   poutcome|emp_var_rate|cons_price_idx|cons_conf_idx|euribor3m|nr_employed|  y|         month_sin|          month_cos|   day_of_week_sin|   day_of_week_cos|dummy_contact_index|dummy_poutcome_index|  contact_vec|\n",
            "+-----------+---+------------+-------+-------------------+-------+-------+----+---------+-----+-----------+------------------+--------+-----+--------+-----------+------------+--------------+-------------+---------+-----------+---+------------------+-------------------+------------------+------------------+-------------------+--------------------+-------------+\n",
            "|          1| 56|    services|      0|        high.school|      0|      0|   1|telephone|    5|          1| 5.730099782973575|       1|    0|       0|nonexistent|         1.1|        93.994|        -36.4|    4.857|     5191.0|  0|0.5011489580136382|-0.8653610355694579|0.4997701026431024|0.3096228130570242|                1.0|                 0.0|(2,[1],[1.0])|\n",
            "|          3| 59|      admin.|      0|professional.course|      0|      0|   0|telephone|    5|          1| 4.941642422609304|       1|    0|       0|nonexistent|         1.1|        93.994|        -36.4|    4.857|     5191.0|  0|0.5011489580136382|-0.8653610355694579|0.4997701026431024|0.3096228130570242|                1.0|                 0.0|(2,[1],[1.0])|\n",
            "|          5| 24|  technician|      2|professional.course|      0|      1|   0|telephone|    5|          1| 5.942799375126701|       1|    0|       0|nonexistent|         1.1|        93.994|        -36.4|    4.857|     5191.0|  0|0.5011489580136382|-0.8653610355694579|0.4997701026431024|0.3096228130570242|                1.0|                 0.0|(2,[1],[1.0])|\n",
            "|          6| 25|    services|      2|        high.school|      0|      1|   0|telephone|    5|          1|3.9318256327243257|       1|    0|       0|nonexistent|         1.1|        93.994|        -36.4|    4.857|     5191.0|  0|0.5011489580136382|-0.8653610355694579|0.4997701026431024|0.3096228130570242|                1.0|                 0.0|(2,[1],[1.0])|\n",
            "|          9| 29| blue-collar|      2|        high.school|      0|      0|   1|telephone|    5|          1| 4.927253685157205|       1|    0|       0|nonexistent|         1.1|        93.994|        -36.4|    4.857|     5191.0|  0|0.5011489580136382|-0.8653610355694579|0.4997701026431024|0.3096228130570242|                1.0|                 0.0|(2,[1],[1.0])|\n",
            "|         12| 54|     retired|      0|           basic.9y|     -1|      1|   1|telephone|    5|          1|5.1647859739235145|       1|    0|       0|nonexistent|         1.1|        93.994|        -36.4|    4.857|     5191.0|  0|0.5011489580136382|-0.8653610355694579|0.4997701026431024|0.3096228130570242|                1.0|                 0.0|(2,[1],[1.0])|\n",
            "|         13| 35| blue-collar|      0|           basic.6y|      0|      1|   0|telephone|    5|          1| 5.746203190540153|       1|    0|       0|nonexistent|         1.1|        93.994|        -36.4|    4.857|     5191.0|  0|0.5011489580136382|-0.8653610355694579|0.4997701026431024|0.3096228130570242|                1.0|                 0.0|(2,[1],[1.0])|\n",
            "|         15| 50| blue-collar|      0|           basic.9y|      0|      1|   1|telephone|    5|          1| 5.869296913133774|       1|    0|       0|nonexistent|         1.1|        93.994|        -36.4|    4.857|     5191.0|  0|0.5011489580136382|-0.8653610355694579|0.4997701026431024|0.3096228130570242|                1.0|                 0.0|(2,[1],[1.0])|\n",
            "|         16| 39|  management|      2|           basic.9y|     -1|      0|   0|telephone|    5|          1| 5.278114659230518|       1|    0|       0|nonexistent|         1.1|        93.994|        -36.4|    4.857|     5191.0|  0|0.5011489580136382|-0.8653610355694579|0.4997701026431024|0.3096228130570242|                1.0|                 0.0|(2,[1],[1.0])|\n",
            "|         17| 55| blue-collar|      0|           basic.4y|     -1|      1|   0|telephone|    5|          1| 5.572154032177765|       1|    0|       0|nonexistent|         1.1|        93.994|        -36.4|    4.857|     5191.0|  0|0.5011489580136382|-0.8653610355694579|0.4997701026431024|0.3096228130570242|                1.0|                 0.0|(2,[1],[1.0])|\n",
            "|         19| 41|  technician|      2|        high.school|      0|      1|   0|telephone|    5|          1| 5.204006687076795|       1|    0|       0|nonexistent|         1.1|        93.994|        -36.4|    4.857|     5191.0|  0|0.5011489580136382|-0.8653610355694579|0.4997701026431024|0.3096228130570242|                1.0|                 0.0|(2,[1],[1.0])|\n",
            "|         20| 37|      admin.|      0|        high.school|      0|      1|   0|telephone|    5|          1| 5.153291594497779|       1|    0|       0|nonexistent|         1.1|        93.994|        -36.4|    4.857|     5191.0|  0|0.5011489580136382|-0.8653610355694579|0.4997701026431024|0.3096228130570242|                1.0|                 0.0|(2,[1],[1.0])|\n",
            "|         22| 59|  technician|      0|            unknown|      0|      1|   0|telephone|    5|          1| 4.543294782270004|       1|    0|       0|nonexistent|         1.1|        93.994|        -36.4|    4.857|     5191.0|  0|0.5011489580136382|-0.8653610355694579|0.4997701026431024|0.3096228130570242|                1.0|                 0.0|(2,[1],[1.0])|\n",
            "|         26| 49| blue-collar|      0|            unknown|      0|      0|   0|telephone|    5|          1| 4.304065093204169|       1|    0|       0|nonexistent|         1.1|        93.994|        -36.4|    4.857|     5191.0|  0|0.5011489580136382|-0.8653610355694579|0.4997701026431024|0.3096228130570242|                1.0|                 0.0|(2,[1],[1.0])|\n",
            "|         27| 54|  management|      0|           basic.4y|     -1|      1|   0|telephone|    5|          1| 5.442417710521793|       1|    0|       0|nonexistent|         1.1|        93.994|        -36.4|    4.857|     5191.0|  0|0.5011489580136382|-0.8653610355694579|0.4997701026431024|0.3096228130570242|                1.0|                 0.0|(2,[1],[1.0])|\n",
            "|         28| 54| blue-collar|      1|           basic.4y|      0|      0|   0|telephone|    5|          1| 5.342334251964811|       1|    0|       0|nonexistent|         1.1|        93.994|        -36.4|    4.857|     5191.0|  0|0.5011489580136382|-0.8653610355694579|0.4997701026431024|0.3096228130570242|                1.0|                 0.0|(2,[1],[1.0])|\n",
            "|         31| 52|  technician|      0|           basic.9y|      0|      1|   0|telephone|    5|          1| 7.418780882750794|       1|    0|       0|nonexistent|         1.1|        93.994|        -36.4|    4.857|     5191.0|  0|0.5011489580136382|-0.8653610355694579|0.4997701026431024|0.3096228130570242|                1.0|                 0.0|(2,[1],[1.0])|\n",
            "|         34| 58|  management|      3|  university.degree|      0|      1|   0|telephone|    5|          1| 5.905361848054571|       1|    0|       0|nonexistent|         1.1|        93.994|        -36.4|    4.857|     5191.0|  0|0.5011489580136382|-0.8653610355694579|0.4997701026431024|0.3096228130570242|                1.0|                 0.0|(2,[1],[1.0])|\n",
            "|         35| 32|entrepreneur|      0|        high.school|      0|      1|   0|telephone|    5|          1| 5.752572638825633|       1|    0|       0|nonexistent|         1.1|        93.994|        -36.4|    4.857|     5191.0|  0|0.5011489580136382|-0.8653610355694579|0.4997701026431024|0.3096228130570242|                1.0|                 0.0|(2,[1],[1.0])|\n",
            "|         37| 57|      admin.|      0|  university.degree|      0|      0|   1|telephone|    5|          1|5.3612921657094255|       1|    0|       0|nonexistent|         1.1|        93.994|        -36.4|    4.857|     5191.0|  0|0.5011489580136382|-0.8653610355694579|0.4997701026431024|0.3096228130570242|                1.0|                 0.0|(2,[1],[1.0])|\n",
            "|         40| 57|      admin.|      0|  university.degree|      0|      1|   1|telephone|    5|          1| 6.424869023905388|       1|    0|       0|nonexistent|         1.1|        93.994|        -36.4|    4.857|     5191.0|  0|0.5011489580136382|-0.8653610355694579|0.4997701026431024|0.3096228130570242|                1.0|                 0.0|(2,[1],[1.0])|\n",
            "|         41| 40| blue-collar|      0|           basic.9y|      0|      0|   1|telephone|    5|          1| 5.187385805840755|       1|    0|       0|nonexistent|         1.1|        93.994|        -36.4|    4.857|     5191.0|  0|0.5011489580136382|-0.8653610355694579|0.4997701026431024|0.3096228130570242|                1.0|                 0.0|(2,[1],[1.0])|\n",
            "|         43| 45| blue-collar|      0|           basic.9y|      0|      1|   0|telephone|    5|          1| 5.420534999272286|       2|    0|       0|nonexistent|         1.1|        93.994|        -36.4|    4.857|     5191.0|  0|0.5011489580136382|-0.8653610355694579|0.4997701026431024|0.3096228130570242|                1.0|                 0.0|(2,[1],[1.0])|\n",
            "|         44| 54|      admin.|      0|        high.school|      0|      0|   0|telephone|    5|          1| 5.081404364984463|       1|    0|       0|nonexistent|         1.1|        93.994|        -36.4|    4.857|     5191.0|  0|0.5011489580136382|-0.8653610355694579|0.4997701026431024|0.3096228130570242|                1.0|                 0.0|(2,[1],[1.0])|\n",
            "|         47| 53|      admin.|      2|professional.course|      0|      0|   0|telephone|    5|          1|  5.19295685089021|       1|    0|       0|nonexistent|         1.1|        93.994|        -36.4|    4.857|     5191.0|  0|0.5011489580136382|-0.8653610355694579|0.4997701026431024|0.3096228130570242|                1.0|                 0.0|(2,[1],[1.0])|\n",
            "|         48| 55| blue-collar|      0|           basic.4y|     -1|      0|   0|telephone|    5|          1| 5.598421958998375|       2|    0|       0|nonexistent|         1.1|        93.994|        -36.4|    4.857|     5191.0|  0|0.5011489580136382|-0.8653610355694579|0.4997701026431024|0.3096228130570242|                1.0|                 0.0|(2,[1],[1.0])|\n",
            "|         52| 55|  unemployed|      0|professional.course|     -1|      1|   1|telephone|    5|          1| 4.983606621708336|       1|    0|       0|nonexistent|         1.1|        93.994|        -36.4|    4.857|     5191.0|  0|0.5011489580136382|-0.8653610355694579|0.4997701026431024|0.3096228130570242|                1.0|                 0.0|(2,[1],[1.0])|\n",
            "|         53| 25|  technician|      2|  university.degree|      0|      1|   0|telephone|    5|          1|5.1647859739235145|       1|    0|       0|nonexistent|         1.1|        93.994|        -36.4|    4.857|     5191.0|  0|0.5011489580136382|-0.8653610355694579|0.4997701026431024|0.3096228130570242|                1.0|                 0.0|(2,[1],[1.0])|\n",
            "|         54| 47|entrepreneur|      0|  university.degree|     -1|      0|   0|telephone|    5|          1|6.1092475827643655|       1|    0|       0|nonexistent|         1.1|        93.994|        -36.4|    4.857|     5191.0|  0|0.5011489580136382|-0.8653610355694579|0.4997701026431024|0.3096228130570242|                1.0|                 0.0|(2,[1],[1.0])|\n",
            "|         57| 42| blue-collar|      0|           basic.6y|     -1|      0|   0|telephone|    5|          1| 5.905361848054571|       1|    0|       0|nonexistent|         1.1|        93.994|        -36.4|    4.857|     5191.0|  0|0.5011489580136382|-0.8653610355694579|0.4997701026431024|0.3096228130570242|                1.0|                 0.0|(2,[1],[1.0])|\n",
            "+-----------+---+------------+-------+-------------------+-------+-------+----+---------+-----+-----------+------------------+--------+-----+--------+-----------+------------+--------------+-------------+---------+-----------+---+------------------+-------------------+------------------+------------------+-------------------+--------------------+-------------+\n",
            "only showing top 30 rows\n",
            "\n"
          ]
        }
      ]
    },
    {
      "cell_type": "code",
      "metadata": {
        "id": "IXSO3jP3RHuM",
        "colab": {
          "base_uri": "https://localhost:8080/"
        },
        "outputId": "546fa452-308b-40c9-9acc-96c81fcc7fb6"
      },
      "source": [
        "onehotencoder_poutcome_vector = OneHotEncoder(inputCol=\"dummy_poutcome_index\", outputCol=\"poutcome_vec\")\n",
        "onehotencoder_poutcome_vector.setDropLast(False)\n",
        "df10 = onehotencoder_poutcome_vector.fit(df9).transform(df9)\n",
        "#df10 = df10.drop('dummy_poutcome_index')\n",
        "df10.show()"
      ],
      "execution_count": null,
      "outputs": [
        {
          "output_type": "stream",
          "name": "stdout",
          "text": [
            "+-----------+---+------------+-------+-------------------+-------+-------+----+---------+-----+-----------+------------------+--------+-----+--------+-----------+------------+--------------+-------------+---------+-----------+---+------------------+-------------------+------------------+------------------+-------------------+--------------------+-------------+-------------+\n",
            "|Customer_id|age|         job|marital|          education|default|housing|loan|  contact|month|day_of_week|          duration|campaign|pdays|previous|   poutcome|emp_var_rate|cons_price_idx|cons_conf_idx|euribor3m|nr_employed|  y|         month_sin|          month_cos|   day_of_week_sin|   day_of_week_cos|dummy_contact_index|dummy_poutcome_index|  contact_vec| poutcome_vec|\n",
            "+-----------+---+------------+-------+-------------------+-------+-------+----+---------+-----+-----------+------------------+--------+-----+--------+-----------+------------+--------------+-------------+---------+-----------+---+------------------+-------------------+------------------+------------------+-------------------+--------------------+-------------+-------------+\n",
            "|          1| 56|    services|      0|        high.school|      0|      0|   1|telephone|    5|          1| 5.730099782973575|       1|    0|       0|nonexistent|         1.1|        93.994|        -36.4|    4.857|     5191.0|  0|0.5011489580136382|-0.8653610355694579|0.4997701026431024|0.3096228130570242|                1.0|                 0.0|(2,[1],[1.0])|(3,[0],[1.0])|\n",
            "|          3| 59|      admin.|      0|professional.course|      0|      0|   0|telephone|    5|          1| 4.941642422609304|       1|    0|       0|nonexistent|         1.1|        93.994|        -36.4|    4.857|     5191.0|  0|0.5011489580136382|-0.8653610355694579|0.4997701026431024|0.3096228130570242|                1.0|                 0.0|(2,[1],[1.0])|(3,[0],[1.0])|\n",
            "|          5| 24|  technician|      2|professional.course|      0|      1|   0|telephone|    5|          1| 5.942799375126701|       1|    0|       0|nonexistent|         1.1|        93.994|        -36.4|    4.857|     5191.0|  0|0.5011489580136382|-0.8653610355694579|0.4997701026431024|0.3096228130570242|                1.0|                 0.0|(2,[1],[1.0])|(3,[0],[1.0])|\n",
            "|          6| 25|    services|      2|        high.school|      0|      1|   0|telephone|    5|          1|3.9318256327243257|       1|    0|       0|nonexistent|         1.1|        93.994|        -36.4|    4.857|     5191.0|  0|0.5011489580136382|-0.8653610355694579|0.4997701026431024|0.3096228130570242|                1.0|                 0.0|(2,[1],[1.0])|(3,[0],[1.0])|\n",
            "|          9| 29| blue-collar|      2|        high.school|      0|      0|   1|telephone|    5|          1| 4.927253685157205|       1|    0|       0|nonexistent|         1.1|        93.994|        -36.4|    4.857|     5191.0|  0|0.5011489580136382|-0.8653610355694579|0.4997701026431024|0.3096228130570242|                1.0|                 0.0|(2,[1],[1.0])|(3,[0],[1.0])|\n",
            "|         12| 54|     retired|      0|           basic.9y|     -1|      1|   1|telephone|    5|          1|5.1647859739235145|       1|    0|       0|nonexistent|         1.1|        93.994|        -36.4|    4.857|     5191.0|  0|0.5011489580136382|-0.8653610355694579|0.4997701026431024|0.3096228130570242|                1.0|                 0.0|(2,[1],[1.0])|(3,[0],[1.0])|\n",
            "|         13| 35| blue-collar|      0|           basic.6y|      0|      1|   0|telephone|    5|          1| 5.746203190540153|       1|    0|       0|nonexistent|         1.1|        93.994|        -36.4|    4.857|     5191.0|  0|0.5011489580136382|-0.8653610355694579|0.4997701026431024|0.3096228130570242|                1.0|                 0.0|(2,[1],[1.0])|(3,[0],[1.0])|\n",
            "|         15| 50| blue-collar|      0|           basic.9y|      0|      1|   1|telephone|    5|          1| 5.869296913133774|       1|    0|       0|nonexistent|         1.1|        93.994|        -36.4|    4.857|     5191.0|  0|0.5011489580136382|-0.8653610355694579|0.4997701026431024|0.3096228130570242|                1.0|                 0.0|(2,[1],[1.0])|(3,[0],[1.0])|\n",
            "|         16| 39|  management|      2|           basic.9y|     -1|      0|   0|telephone|    5|          1| 5.278114659230518|       1|    0|       0|nonexistent|         1.1|        93.994|        -36.4|    4.857|     5191.0|  0|0.5011489580136382|-0.8653610355694579|0.4997701026431024|0.3096228130570242|                1.0|                 0.0|(2,[1],[1.0])|(3,[0],[1.0])|\n",
            "|         17| 55| blue-collar|      0|           basic.4y|     -1|      1|   0|telephone|    5|          1| 5.572154032177765|       1|    0|       0|nonexistent|         1.1|        93.994|        -36.4|    4.857|     5191.0|  0|0.5011489580136382|-0.8653610355694579|0.4997701026431024|0.3096228130570242|                1.0|                 0.0|(2,[1],[1.0])|(3,[0],[1.0])|\n",
            "|         19| 41|  technician|      2|        high.school|      0|      1|   0|telephone|    5|          1| 5.204006687076795|       1|    0|       0|nonexistent|         1.1|        93.994|        -36.4|    4.857|     5191.0|  0|0.5011489580136382|-0.8653610355694579|0.4997701026431024|0.3096228130570242|                1.0|                 0.0|(2,[1],[1.0])|(3,[0],[1.0])|\n",
            "|         20| 37|      admin.|      0|        high.school|      0|      1|   0|telephone|    5|          1| 5.153291594497779|       1|    0|       0|nonexistent|         1.1|        93.994|        -36.4|    4.857|     5191.0|  0|0.5011489580136382|-0.8653610355694579|0.4997701026431024|0.3096228130570242|                1.0|                 0.0|(2,[1],[1.0])|(3,[0],[1.0])|\n",
            "|         22| 59|  technician|      0|            unknown|      0|      1|   0|telephone|    5|          1| 4.543294782270004|       1|    0|       0|nonexistent|         1.1|        93.994|        -36.4|    4.857|     5191.0|  0|0.5011489580136382|-0.8653610355694579|0.4997701026431024|0.3096228130570242|                1.0|                 0.0|(2,[1],[1.0])|(3,[0],[1.0])|\n",
            "|         26| 49| blue-collar|      0|            unknown|      0|      0|   0|telephone|    5|          1| 4.304065093204169|       1|    0|       0|nonexistent|         1.1|        93.994|        -36.4|    4.857|     5191.0|  0|0.5011489580136382|-0.8653610355694579|0.4997701026431024|0.3096228130570242|                1.0|                 0.0|(2,[1],[1.0])|(3,[0],[1.0])|\n",
            "|         27| 54|  management|      0|           basic.4y|     -1|      1|   0|telephone|    5|          1| 5.442417710521793|       1|    0|       0|nonexistent|         1.1|        93.994|        -36.4|    4.857|     5191.0|  0|0.5011489580136382|-0.8653610355694579|0.4997701026431024|0.3096228130570242|                1.0|                 0.0|(2,[1],[1.0])|(3,[0],[1.0])|\n",
            "|         28| 54| blue-collar|      1|           basic.4y|      0|      0|   0|telephone|    5|          1| 5.342334251964811|       1|    0|       0|nonexistent|         1.1|        93.994|        -36.4|    4.857|     5191.0|  0|0.5011489580136382|-0.8653610355694579|0.4997701026431024|0.3096228130570242|                1.0|                 0.0|(2,[1],[1.0])|(3,[0],[1.0])|\n",
            "|         31| 52|  technician|      0|           basic.9y|      0|      1|   0|telephone|    5|          1| 7.418780882750794|       1|    0|       0|nonexistent|         1.1|        93.994|        -36.4|    4.857|     5191.0|  0|0.5011489580136382|-0.8653610355694579|0.4997701026431024|0.3096228130570242|                1.0|                 0.0|(2,[1],[1.0])|(3,[0],[1.0])|\n",
            "|         34| 58|  management|      3|  university.degree|      0|      1|   0|telephone|    5|          1| 5.905361848054571|       1|    0|       0|nonexistent|         1.1|        93.994|        -36.4|    4.857|     5191.0|  0|0.5011489580136382|-0.8653610355694579|0.4997701026431024|0.3096228130570242|                1.0|                 0.0|(2,[1],[1.0])|(3,[0],[1.0])|\n",
            "|         35| 32|entrepreneur|      0|        high.school|      0|      1|   0|telephone|    5|          1| 5.752572638825633|       1|    0|       0|nonexistent|         1.1|        93.994|        -36.4|    4.857|     5191.0|  0|0.5011489580136382|-0.8653610355694579|0.4997701026431024|0.3096228130570242|                1.0|                 0.0|(2,[1],[1.0])|(3,[0],[1.0])|\n",
            "|         37| 57|      admin.|      0|  university.degree|      0|      0|   1|telephone|    5|          1|5.3612921657094255|       1|    0|       0|nonexistent|         1.1|        93.994|        -36.4|    4.857|     5191.0|  0|0.5011489580136382|-0.8653610355694579|0.4997701026431024|0.3096228130570242|                1.0|                 0.0|(2,[1],[1.0])|(3,[0],[1.0])|\n",
            "+-----------+---+------------+-------+-------------------+-------+-------+----+---------+-----+-----------+------------------+--------+-----+--------+-----------+------------+--------------+-------------+---------+-----------+---+------------------+-------------------+------------------+------------------+-------------------+--------------------+-------------+-------------+\n",
            "only showing top 20 rows\n",
            "\n"
          ]
        }
      ]
    },
    {
      "cell_type": "code",
      "metadata": {
        "id": "wxsgWIDsSEBF",
        "colab": {
          "base_uri": "https://localhost:8080/"
        },
        "outputId": "38d5b663-9d67-4462-aefb-d51a077a56e6"
      },
      "source": [
        "contact_colIdx = df10.select(\"contact\",\"dummy_contact_index\").distinct().rdd.collectAsMap()\n",
        "poutcome_colIdx = df10.select(\"poutcome\",\"dummy_poutcome_index\").distinct().rdd.collectAsMap()\n",
        "print(\"contact_mapping : \",contact_colIdx)\n",
        "print(\"poutcome_mapping : \",poutcome_colIdx)"
      ],
      "execution_count": null,
      "outputs": [
        {
          "output_type": "stream",
          "name": "stdout",
          "text": [
            "contact_mapping :  {'cellular': 0.0, 'telephone': 1.0}\n",
            "poutcome_mapping :  {'failure': 1.0, 'success': 2.0, 'nonexistent': 0.0}\n"
          ]
        }
      ]
    },
    {
      "cell_type": "code",
      "metadata": {
        "id": "FkCtBnLGV9Ey",
        "colab": {
          "base_uri": "https://localhost:8080/"
        },
        "outputId": "0cf122c7-2a15-4d2a-b367-2b396f6eb8c4"
      },
      "source": [
        "contact_colIdx =  sorted((value, \"dummy_\" + key) for (key, value) in contact_colIdx.items())\n",
        "poutcome_colIdx =  sorted((value, \"dummy_\" + key) for (key, value) in poutcome_colIdx.items())\n",
        "print(\"contact mapping : \",contact_colIdx)\n",
        "print(\"poutcome mapping : \",poutcome_colIdx)"
      ],
      "execution_count": null,
      "outputs": [
        {
          "output_type": "stream",
          "name": "stdout",
          "text": [
            "contact mapping :  [(0.0, 'dummy_cellular'), (1.0, 'dummy_telephone')]\n",
            "poutcome mapping :  [(0.0, 'dummy_nonexistent'), (1.0, 'dummy_failure'), (2.0, 'dummy_success')]\n"
          ]
        }
      ]
    },
    {
      "cell_type": "code",
      "metadata": {
        "id": "avDoqXdnWlRU",
        "colab": {
          "base_uri": "https://localhost:8080/"
        },
        "outputId": "317e939f-19fb-465d-82d2-d6f8ae86f896"
      },
      "source": [
        "contact_newCols = list(map(lambda x: x[1], contact_colIdx))\n",
        "actualCol = df10.columns\n",
        "allColNames = actualCol + contact_newCols\n",
        "print(allColNames)"
      ],
      "execution_count": null,
      "outputs": [
        {
          "output_type": "stream",
          "name": "stdout",
          "text": [
            "['Customer_id', 'age', 'job', 'marital', 'education', 'default', 'housing', 'loan', 'contact', 'month', 'day_of_week', 'duration', 'campaign', 'pdays', 'previous', 'poutcome', 'emp_var_rate', 'cons_price_idx', 'cons_conf_idx', 'euribor3m', 'nr_employed', 'y', 'month_sin', 'month_cos', 'day_of_week_sin', 'day_of_week_cos', 'dummy_contact_index', 'dummy_poutcome_index', 'contact_vec', 'poutcome_vec', 'dummy_cellular', 'dummy_telephone']\n"
          ]
        }
      ]
    },
    {
      "cell_type": "code",
      "metadata": {
        "id": "mB5Yud9CXsHg"
      },
      "source": [
        "def extract(row):\n",
        "  return tuple(map(lambda x: row[x], row.__fields__)) + tuple(row.contact_vec.toArray().tolist())\n",
        "\n",
        "df11 = df10.rdd.map(extract).toDF(allColNames)"
      ],
      "execution_count": null,
      "outputs": []
    },
    {
      "cell_type": "code",
      "metadata": {
        "id": "EHk6rw9_ZInw"
      },
      "source": [
        "poutcome_newCols = list(map(lambda x: x[1], poutcome_colIdx))\n",
        "actualCol = df11.columns\n",
        "allColNames = actualCol + poutcome_newCols\n",
        "def extract2(row):\n",
        "  return tuple(map(lambda x: row[x], row.__fields__)) + tuple(row.poutcome_vec.toArray().tolist())\n",
        "\n",
        "df12 = df11.rdd.map(extract2).toDF(allColNames)"
      ],
      "execution_count": null,
      "outputs": []
    },
    {
      "cell_type": "code",
      "metadata": {
        "id": "nhx4GBCqZss5",
        "colab": {
          "base_uri": "https://localhost:8080/"
        },
        "outputId": "0d605e74-98d3-49a9-9b0d-fd5110cee59b"
      },
      "source": [
        "df12.show()"
      ],
      "execution_count": null,
      "outputs": [
        {
          "output_type": "stream",
          "name": "stdout",
          "text": [
            "+-----------+---+------------+-------+-------------------+-------+-------+----+---------+-----+-----------+------------------+--------+-----+--------+-----------+-----------------+-----------------+-------------------+----------------+-----------+---+------------------+-------------------+------------------+------------------+-------------------+--------------------+-------------+-------------+--------------+---------------+-----------------+-------------+-------------+\n",
            "|Customer_id|age|         job|marital|          education|default|housing|loan|  contact|month|day_of_week|          duration|campaign|pdays|previous|   poutcome|     emp_var_rate|   cons_price_idx|      cons_conf_idx|       euribor3m|nr_employed|  y|         month_sin|          month_cos|   day_of_week_sin|   day_of_week_cos|dummy_contact_index|dummy_poutcome_index|  contact_vec| poutcome_vec|dummy_cellular|dummy_telephone|dummy_nonexistent|dummy_failure|dummy_success|\n",
            "+-----------+---+------------+-------+-------------------+-------+-------+----+---------+-----+-----------+------------------+--------+-----+--------+-----------+-----------------+-----------------+-------------------+----------------+-----------+---+------------------+-------------------+------------------+------------------+-------------------+--------------------+-------------+-------------+--------------+---------------+-----------------+-------------+-------------+\n",
            "|          1| 56|    services|      0|        high.school|      0|      0|   1|telephone|    5|          1| 5.730099782973575|       1|    0|       0|nonexistent|1.100000023841858|93.99400329589844|-36.400001525878906|4.85699987411499|     5191.0|  0|0.5011489580136382|-0.8653610355694579|0.4997701026431024|0.3096228130570242|                1.0|                 0.0|(2,[1],[1.0])|(3,[0],[1.0])|           0.0|            1.0|              1.0|          0.0|          0.0|\n",
            "|          3| 59|      admin.|      0|professional.course|      0|      0|   0|telephone|    5|          1| 4.941642422609304|       1|    0|       0|nonexistent|1.100000023841858|93.99400329589844|-36.400001525878906|4.85699987411499|     5191.0|  0|0.5011489580136382|-0.8653610355694579|0.4997701026431024|0.3096228130570242|                1.0|                 0.0|(2,[1],[1.0])|(3,[0],[1.0])|           0.0|            1.0|              1.0|          0.0|          0.0|\n",
            "|          5| 24|  technician|      2|professional.course|      0|      1|   0|telephone|    5|          1| 5.942799375126701|       1|    0|       0|nonexistent|1.100000023841858|93.99400329589844|-36.400001525878906|4.85699987411499|     5191.0|  0|0.5011489580136382|-0.8653610355694579|0.4997701026431024|0.3096228130570242|                1.0|                 0.0|(2,[1],[1.0])|(3,[0],[1.0])|           0.0|            1.0|              1.0|          0.0|          0.0|\n",
            "|          6| 25|    services|      2|        high.school|      0|      1|   0|telephone|    5|          1|3.9318256327243257|       1|    0|       0|nonexistent|1.100000023841858|93.99400329589844|-36.400001525878906|4.85699987411499|     5191.0|  0|0.5011489580136382|-0.8653610355694579|0.4997701026431024|0.3096228130570242|                1.0|                 0.0|(2,[1],[1.0])|(3,[0],[1.0])|           0.0|            1.0|              1.0|          0.0|          0.0|\n",
            "|          9| 29| blue-collar|      2|        high.school|      0|      0|   1|telephone|    5|          1| 4.927253685157205|       1|    0|       0|nonexistent|1.100000023841858|93.99400329589844|-36.400001525878906|4.85699987411499|     5191.0|  0|0.5011489580136382|-0.8653610355694579|0.4997701026431024|0.3096228130570242|                1.0|                 0.0|(2,[1],[1.0])|(3,[0],[1.0])|           0.0|            1.0|              1.0|          0.0|          0.0|\n",
            "|         12| 54|     retired|      0|           basic.9y|     -1|      1|   1|telephone|    5|          1|5.1647859739235145|       1|    0|       0|nonexistent|1.100000023841858|93.99400329589844|-36.400001525878906|4.85699987411499|     5191.0|  0|0.5011489580136382|-0.8653610355694579|0.4997701026431024|0.3096228130570242|                1.0|                 0.0|(2,[1],[1.0])|(3,[0],[1.0])|           0.0|            1.0|              1.0|          0.0|          0.0|\n",
            "|         13| 35| blue-collar|      0|           basic.6y|      0|      1|   0|telephone|    5|          1| 5.746203190540153|       1|    0|       0|nonexistent|1.100000023841858|93.99400329589844|-36.400001525878906|4.85699987411499|     5191.0|  0|0.5011489580136382|-0.8653610355694579|0.4997701026431024|0.3096228130570242|                1.0|                 0.0|(2,[1],[1.0])|(3,[0],[1.0])|           0.0|            1.0|              1.0|          0.0|          0.0|\n",
            "|         15| 50| blue-collar|      0|           basic.9y|      0|      1|   1|telephone|    5|          1| 5.869296913133774|       1|    0|       0|nonexistent|1.100000023841858|93.99400329589844|-36.400001525878906|4.85699987411499|     5191.0|  0|0.5011489580136382|-0.8653610355694579|0.4997701026431024|0.3096228130570242|                1.0|                 0.0|(2,[1],[1.0])|(3,[0],[1.0])|           0.0|            1.0|              1.0|          0.0|          0.0|\n",
            "|         16| 39|  management|      2|           basic.9y|     -1|      0|   0|telephone|    5|          1| 5.278114659230518|       1|    0|       0|nonexistent|1.100000023841858|93.99400329589844|-36.400001525878906|4.85699987411499|     5191.0|  0|0.5011489580136382|-0.8653610355694579|0.4997701026431024|0.3096228130570242|                1.0|                 0.0|(2,[1],[1.0])|(3,[0],[1.0])|           0.0|            1.0|              1.0|          0.0|          0.0|\n",
            "|         17| 55| blue-collar|      0|           basic.4y|     -1|      1|   0|telephone|    5|          1| 5.572154032177765|       1|    0|       0|nonexistent|1.100000023841858|93.99400329589844|-36.400001525878906|4.85699987411499|     5191.0|  0|0.5011489580136382|-0.8653610355694579|0.4997701026431024|0.3096228130570242|                1.0|                 0.0|(2,[1],[1.0])|(3,[0],[1.0])|           0.0|            1.0|              1.0|          0.0|          0.0|\n",
            "|         19| 41|  technician|      2|        high.school|      0|      1|   0|telephone|    5|          1| 5.204006687076795|       1|    0|       0|nonexistent|1.100000023841858|93.99400329589844|-36.400001525878906|4.85699987411499|     5191.0|  0|0.5011489580136382|-0.8653610355694579|0.4997701026431024|0.3096228130570242|                1.0|                 0.0|(2,[1],[1.0])|(3,[0],[1.0])|           0.0|            1.0|              1.0|          0.0|          0.0|\n",
            "|         20| 37|      admin.|      0|        high.school|      0|      1|   0|telephone|    5|          1| 5.153291594497779|       1|    0|       0|nonexistent|1.100000023841858|93.99400329589844|-36.400001525878906|4.85699987411499|     5191.0|  0|0.5011489580136382|-0.8653610355694579|0.4997701026431024|0.3096228130570242|                1.0|                 0.0|(2,[1],[1.0])|(3,[0],[1.0])|           0.0|            1.0|              1.0|          0.0|          0.0|\n",
            "|         22| 59|  technician|      0|            unknown|      0|      1|   0|telephone|    5|          1| 4.543294782270004|       1|    0|       0|nonexistent|1.100000023841858|93.99400329589844|-36.400001525878906|4.85699987411499|     5191.0|  0|0.5011489580136382|-0.8653610355694579|0.4997701026431024|0.3096228130570242|                1.0|                 0.0|(2,[1],[1.0])|(3,[0],[1.0])|           0.0|            1.0|              1.0|          0.0|          0.0|\n",
            "|         26| 49| blue-collar|      0|            unknown|      0|      0|   0|telephone|    5|          1| 4.304065093204169|       1|    0|       0|nonexistent|1.100000023841858|93.99400329589844|-36.400001525878906|4.85699987411499|     5191.0|  0|0.5011489580136382|-0.8653610355694579|0.4997701026431024|0.3096228130570242|                1.0|                 0.0|(2,[1],[1.0])|(3,[0],[1.0])|           0.0|            1.0|              1.0|          0.0|          0.0|\n",
            "|         27| 54|  management|      0|           basic.4y|     -1|      1|   0|telephone|    5|          1| 5.442417710521793|       1|    0|       0|nonexistent|1.100000023841858|93.99400329589844|-36.400001525878906|4.85699987411499|     5191.0|  0|0.5011489580136382|-0.8653610355694579|0.4997701026431024|0.3096228130570242|                1.0|                 0.0|(2,[1],[1.0])|(3,[0],[1.0])|           0.0|            1.0|              1.0|          0.0|          0.0|\n",
            "|         28| 54| blue-collar|      1|           basic.4y|      0|      0|   0|telephone|    5|          1| 5.342334251964811|       1|    0|       0|nonexistent|1.100000023841858|93.99400329589844|-36.400001525878906|4.85699987411499|     5191.0|  0|0.5011489580136382|-0.8653610355694579|0.4997701026431024|0.3096228130570242|                1.0|                 0.0|(2,[1],[1.0])|(3,[0],[1.0])|           0.0|            1.0|              1.0|          0.0|          0.0|\n",
            "|         31| 52|  technician|      0|           basic.9y|      0|      1|   0|telephone|    5|          1| 7.418780882750794|       1|    0|       0|nonexistent|1.100000023841858|93.99400329589844|-36.400001525878906|4.85699987411499|     5191.0|  0|0.5011489580136382|-0.8653610355694579|0.4997701026431024|0.3096228130570242|                1.0|                 0.0|(2,[1],[1.0])|(3,[0],[1.0])|           0.0|            1.0|              1.0|          0.0|          0.0|\n",
            "|         34| 58|  management|      3|  university.degree|      0|      1|   0|telephone|    5|          1| 5.905361848054571|       1|    0|       0|nonexistent|1.100000023841858|93.99400329589844|-36.400001525878906|4.85699987411499|     5191.0|  0|0.5011489580136382|-0.8653610355694579|0.4997701026431024|0.3096228130570242|                1.0|                 0.0|(2,[1],[1.0])|(3,[0],[1.0])|           0.0|            1.0|              1.0|          0.0|          0.0|\n",
            "|         35| 32|entrepreneur|      0|        high.school|      0|      1|   0|telephone|    5|          1| 5.752572638825633|       1|    0|       0|nonexistent|1.100000023841858|93.99400329589844|-36.400001525878906|4.85699987411499|     5191.0|  0|0.5011489580136382|-0.8653610355694579|0.4997701026431024|0.3096228130570242|                1.0|                 0.0|(2,[1],[1.0])|(3,[0],[1.0])|           0.0|            1.0|              1.0|          0.0|          0.0|\n",
            "|         37| 57|      admin.|      0|  university.degree|      0|      0|   1|telephone|    5|          1|5.3612921657094255|       1|    0|       0|nonexistent|1.100000023841858|93.99400329589844|-36.400001525878906|4.85699987411499|     5191.0|  0|0.5011489580136382|-0.8653610355694579|0.4997701026431024|0.3096228130570242|                1.0|                 0.0|(2,[1],[1.0])|(3,[0],[1.0])|           0.0|            1.0|              1.0|          0.0|          0.0|\n",
            "+-----------+---+------------+-------+-------------------+-------+-------+----+---------+-----+-----------+------------------+--------+-----+--------+-----------+-----------------+-----------------+-------------------+----------------+-----------+---+------------------+-------------------+------------------+------------------+-------------------+--------------------+-------------+-------------+--------------+---------------+-----------------+-------------+-------------+\n",
            "only showing top 20 rows\n",
            "\n"
          ]
        }
      ]
    },
    {
      "cell_type": "code",
      "metadata": {
        "id": "r_RAOpmDfOyc",
        "colab": {
          "base_uri": "https://localhost:8080/"
        },
        "outputId": "98ceb5a8-fa31-42f4-c3e2-b52085f9bc6f"
      },
      "source": [
        "df12.printSchema()"
      ],
      "execution_count": null,
      "outputs": [
        {
          "output_type": "stream",
          "name": "stdout",
          "text": [
            "root\n",
            " |-- Customer_id: long (nullable = true)\n",
            " |-- age: long (nullable = true)\n",
            " |-- job: string (nullable = true)\n",
            " |-- marital: long (nullable = true)\n",
            " |-- education: string (nullable = true)\n",
            " |-- default: long (nullable = true)\n",
            " |-- housing: long (nullable = true)\n",
            " |-- loan: long (nullable = true)\n",
            " |-- contact: string (nullable = true)\n",
            " |-- month: long (nullable = true)\n",
            " |-- day_of_week: long (nullable = true)\n",
            " |-- duration: double (nullable = true)\n",
            " |-- campaign: long (nullable = true)\n",
            " |-- pdays: long (nullable = true)\n",
            " |-- previous: long (nullable = true)\n",
            " |-- poutcome: string (nullable = true)\n",
            " |-- emp_var_rate: double (nullable = true)\n",
            " |-- cons_price_idx: double (nullable = true)\n",
            " |-- cons_conf_idx: double (nullable = true)\n",
            " |-- euribor3m: double (nullable = true)\n",
            " |-- nr_employed: double (nullable = true)\n",
            " |-- y: long (nullable = true)\n",
            " |-- month_sin: double (nullable = true)\n",
            " |-- month_cos: double (nullable = true)\n",
            " |-- day_of_week_sin: double (nullable = true)\n",
            " |-- day_of_week_cos: double (nullable = true)\n",
            " |-- dummy_contact_index: double (nullable = true)\n",
            " |-- dummy_poutcome_index: double (nullable = true)\n",
            " |-- contact_vec: vector (nullable = true)\n",
            " |-- poutcome_vec: vector (nullable = true)\n",
            " |-- dummy_cellular: double (nullable = true)\n",
            " |-- dummy_telephone: double (nullable = true)\n",
            " |-- dummy_nonexistent: double (nullable = true)\n",
            " |-- dummy_failure: double (nullable = true)\n",
            " |-- dummy_success: double (nullable = true)\n",
            "\n"
          ]
        }
      ]
    },
    {
      "cell_type": "code",
      "metadata": {
        "id": "1vlCBfe5mxlT",
        "colab": {
          "base_uri": "https://localhost:8080/"
        },
        "outputId": "ffd26fc9-fd0b-4f83-9b7a-b8b461f4853b"
      },
      "source": [
        "from pyspark.sql.functions import when\n",
        "from pyspark.sql.functions import regexp_replace\n",
        "df13 = df12.withColumn('education',when(df12.education.endswith('basic.4y'),regexp_replace(df12.education,'basic.4y','basic')).when(df12.education.endswith('basic.6y'),regexp_replace(df12.education,'basic.6y','basic')).when(df12.education.endswith('basic.9y'),regexp_replace(df12.education,'basic.9y','basic')).otherwise(df12.education))\n",
        "df13.show()"
      ],
      "execution_count": null,
      "outputs": [
        {
          "output_type": "stream",
          "name": "stdout",
          "text": [
            "+-----------+---+------------+-------+-------------------+-------+-------+----+---------+-----+-----------+------------------+--------+-----+--------+-----------+-----------------+-----------------+-------------------+----------------+-----------+---+------------------+-------------------+------------------+------------------+-------------------+--------------------+-------------+-------------+--------------+---------------+-----------------+-------------+-------------+\n",
            "|Customer_id|age|         job|marital|          education|default|housing|loan|  contact|month|day_of_week|          duration|campaign|pdays|previous|   poutcome|     emp_var_rate|   cons_price_idx|      cons_conf_idx|       euribor3m|nr_employed|  y|         month_sin|          month_cos|   day_of_week_sin|   day_of_week_cos|dummy_contact_index|dummy_poutcome_index|  contact_vec| poutcome_vec|dummy_cellular|dummy_telephone|dummy_nonexistent|dummy_failure|dummy_success|\n",
            "+-----------+---+------------+-------+-------------------+-------+-------+----+---------+-----+-----------+------------------+--------+-----+--------+-----------+-----------------+-----------------+-------------------+----------------+-----------+---+------------------+-------------------+------------------+------------------+-------------------+--------------------+-------------+-------------+--------------+---------------+-----------------+-------------+-------------+\n",
            "|          1| 56|    services|      0|        high.school|      0|      0|   1|telephone|    5|          1| 5.730099782973575|       1|    0|       0|nonexistent|1.100000023841858|93.99400329589844|-36.400001525878906|4.85699987411499|     5191.0|  0|0.5011489580136382|-0.8653610355694579|0.4997701026431024|0.3096228130570242|                1.0|                 0.0|(2,[1],[1.0])|(3,[0],[1.0])|           0.0|            1.0|              1.0|          0.0|          0.0|\n",
            "|          3| 59|      admin.|      0|professional.course|      0|      0|   0|telephone|    5|          1| 4.941642422609304|       1|    0|       0|nonexistent|1.100000023841858|93.99400329589844|-36.400001525878906|4.85699987411499|     5191.0|  0|0.5011489580136382|-0.8653610355694579|0.4997701026431024|0.3096228130570242|                1.0|                 0.0|(2,[1],[1.0])|(3,[0],[1.0])|           0.0|            1.0|              1.0|          0.0|          0.0|\n",
            "|          5| 24|  technician|      2|professional.course|      0|      1|   0|telephone|    5|          1| 5.942799375126701|       1|    0|       0|nonexistent|1.100000023841858|93.99400329589844|-36.400001525878906|4.85699987411499|     5191.0|  0|0.5011489580136382|-0.8653610355694579|0.4997701026431024|0.3096228130570242|                1.0|                 0.0|(2,[1],[1.0])|(3,[0],[1.0])|           0.0|            1.0|              1.0|          0.0|          0.0|\n",
            "|          6| 25|    services|      2|        high.school|      0|      1|   0|telephone|    5|          1|3.9318256327243257|       1|    0|       0|nonexistent|1.100000023841858|93.99400329589844|-36.400001525878906|4.85699987411499|     5191.0|  0|0.5011489580136382|-0.8653610355694579|0.4997701026431024|0.3096228130570242|                1.0|                 0.0|(2,[1],[1.0])|(3,[0],[1.0])|           0.0|            1.0|              1.0|          0.0|          0.0|\n",
            "|          9| 29| blue-collar|      2|        high.school|      0|      0|   1|telephone|    5|          1| 4.927253685157205|       1|    0|       0|nonexistent|1.100000023841858|93.99400329589844|-36.400001525878906|4.85699987411499|     5191.0|  0|0.5011489580136382|-0.8653610355694579|0.4997701026431024|0.3096228130570242|                1.0|                 0.0|(2,[1],[1.0])|(3,[0],[1.0])|           0.0|            1.0|              1.0|          0.0|          0.0|\n",
            "|         12| 54|     retired|      0|              basic|     -1|      1|   1|telephone|    5|          1|5.1647859739235145|       1|    0|       0|nonexistent|1.100000023841858|93.99400329589844|-36.400001525878906|4.85699987411499|     5191.0|  0|0.5011489580136382|-0.8653610355694579|0.4997701026431024|0.3096228130570242|                1.0|                 0.0|(2,[1],[1.0])|(3,[0],[1.0])|           0.0|            1.0|              1.0|          0.0|          0.0|\n",
            "|         13| 35| blue-collar|      0|              basic|      0|      1|   0|telephone|    5|          1| 5.746203190540153|       1|    0|       0|nonexistent|1.100000023841858|93.99400329589844|-36.400001525878906|4.85699987411499|     5191.0|  0|0.5011489580136382|-0.8653610355694579|0.4997701026431024|0.3096228130570242|                1.0|                 0.0|(2,[1],[1.0])|(3,[0],[1.0])|           0.0|            1.0|              1.0|          0.0|          0.0|\n",
            "|         15| 50| blue-collar|      0|              basic|      0|      1|   1|telephone|    5|          1| 5.869296913133774|       1|    0|       0|nonexistent|1.100000023841858|93.99400329589844|-36.400001525878906|4.85699987411499|     5191.0|  0|0.5011489580136382|-0.8653610355694579|0.4997701026431024|0.3096228130570242|                1.0|                 0.0|(2,[1],[1.0])|(3,[0],[1.0])|           0.0|            1.0|              1.0|          0.0|          0.0|\n",
            "|         16| 39|  management|      2|              basic|     -1|      0|   0|telephone|    5|          1| 5.278114659230518|       1|    0|       0|nonexistent|1.100000023841858|93.99400329589844|-36.400001525878906|4.85699987411499|     5191.0|  0|0.5011489580136382|-0.8653610355694579|0.4997701026431024|0.3096228130570242|                1.0|                 0.0|(2,[1],[1.0])|(3,[0],[1.0])|           0.0|            1.0|              1.0|          0.0|          0.0|\n",
            "|         17| 55| blue-collar|      0|              basic|     -1|      1|   0|telephone|    5|          1| 5.572154032177765|       1|    0|       0|nonexistent|1.100000023841858|93.99400329589844|-36.400001525878906|4.85699987411499|     5191.0|  0|0.5011489580136382|-0.8653610355694579|0.4997701026431024|0.3096228130570242|                1.0|                 0.0|(2,[1],[1.0])|(3,[0],[1.0])|           0.0|            1.0|              1.0|          0.0|          0.0|\n",
            "|         19| 41|  technician|      2|        high.school|      0|      1|   0|telephone|    5|          1| 5.204006687076795|       1|    0|       0|nonexistent|1.100000023841858|93.99400329589844|-36.400001525878906|4.85699987411499|     5191.0|  0|0.5011489580136382|-0.8653610355694579|0.4997701026431024|0.3096228130570242|                1.0|                 0.0|(2,[1],[1.0])|(3,[0],[1.0])|           0.0|            1.0|              1.0|          0.0|          0.0|\n",
            "|         20| 37|      admin.|      0|        high.school|      0|      1|   0|telephone|    5|          1| 5.153291594497779|       1|    0|       0|nonexistent|1.100000023841858|93.99400329589844|-36.400001525878906|4.85699987411499|     5191.0|  0|0.5011489580136382|-0.8653610355694579|0.4997701026431024|0.3096228130570242|                1.0|                 0.0|(2,[1],[1.0])|(3,[0],[1.0])|           0.0|            1.0|              1.0|          0.0|          0.0|\n",
            "|         22| 59|  technician|      0|            unknown|      0|      1|   0|telephone|    5|          1| 4.543294782270004|       1|    0|       0|nonexistent|1.100000023841858|93.99400329589844|-36.400001525878906|4.85699987411499|     5191.0|  0|0.5011489580136382|-0.8653610355694579|0.4997701026431024|0.3096228130570242|                1.0|                 0.0|(2,[1],[1.0])|(3,[0],[1.0])|           0.0|            1.0|              1.0|          0.0|          0.0|\n",
            "|         26| 49| blue-collar|      0|            unknown|      0|      0|   0|telephone|    5|          1| 4.304065093204169|       1|    0|       0|nonexistent|1.100000023841858|93.99400329589844|-36.400001525878906|4.85699987411499|     5191.0|  0|0.5011489580136382|-0.8653610355694579|0.4997701026431024|0.3096228130570242|                1.0|                 0.0|(2,[1],[1.0])|(3,[0],[1.0])|           0.0|            1.0|              1.0|          0.0|          0.0|\n",
            "|         27| 54|  management|      0|              basic|     -1|      1|   0|telephone|    5|          1| 5.442417710521793|       1|    0|       0|nonexistent|1.100000023841858|93.99400329589844|-36.400001525878906|4.85699987411499|     5191.0|  0|0.5011489580136382|-0.8653610355694579|0.4997701026431024|0.3096228130570242|                1.0|                 0.0|(2,[1],[1.0])|(3,[0],[1.0])|           0.0|            1.0|              1.0|          0.0|          0.0|\n",
            "|         28| 54| blue-collar|      1|              basic|      0|      0|   0|telephone|    5|          1| 5.342334251964811|       1|    0|       0|nonexistent|1.100000023841858|93.99400329589844|-36.400001525878906|4.85699987411499|     5191.0|  0|0.5011489580136382|-0.8653610355694579|0.4997701026431024|0.3096228130570242|                1.0|                 0.0|(2,[1],[1.0])|(3,[0],[1.0])|           0.0|            1.0|              1.0|          0.0|          0.0|\n",
            "|         31| 52|  technician|      0|              basic|      0|      1|   0|telephone|    5|          1| 7.418780882750794|       1|    0|       0|nonexistent|1.100000023841858|93.99400329589844|-36.400001525878906|4.85699987411499|     5191.0|  0|0.5011489580136382|-0.8653610355694579|0.4997701026431024|0.3096228130570242|                1.0|                 0.0|(2,[1],[1.0])|(3,[0],[1.0])|           0.0|            1.0|              1.0|          0.0|          0.0|\n",
            "|         34| 58|  management|      3|  university.degree|      0|      1|   0|telephone|    5|          1| 5.905361848054571|       1|    0|       0|nonexistent|1.100000023841858|93.99400329589844|-36.400001525878906|4.85699987411499|     5191.0|  0|0.5011489580136382|-0.8653610355694579|0.4997701026431024|0.3096228130570242|                1.0|                 0.0|(2,[1],[1.0])|(3,[0],[1.0])|           0.0|            1.0|              1.0|          0.0|          0.0|\n",
            "|         35| 32|entrepreneur|      0|        high.school|      0|      1|   0|telephone|    5|          1| 5.752572638825633|       1|    0|       0|nonexistent|1.100000023841858|93.99400329589844|-36.400001525878906|4.85699987411499|     5191.0|  0|0.5011489580136382|-0.8653610355694579|0.4997701026431024|0.3096228130570242|                1.0|                 0.0|(2,[1],[1.0])|(3,[0],[1.0])|           0.0|            1.0|              1.0|          0.0|          0.0|\n",
            "|         37| 57|      admin.|      0|  university.degree|      0|      0|   1|telephone|    5|          1|5.3612921657094255|       1|    0|       0|nonexistent|1.100000023841858|93.99400329589844|-36.400001525878906|4.85699987411499|     5191.0|  0|0.5011489580136382|-0.8653610355694579|0.4997701026431024|0.3096228130570242|                1.0|                 0.0|(2,[1],[1.0])|(3,[0],[1.0])|           0.0|            1.0|              1.0|          0.0|          0.0|\n",
            "+-----------+---+------------+-------+-------------------+-------+-------+----+---------+-----+-----------+------------------+--------+-----+--------+-----------+-----------------+-----------------+-------------------+----------------+-----------+---+------------------+-------------------+------------------+------------------+-------------------+--------------------+-------------+-------------+--------------+---------------+-----------------+-------------+-------------+\n",
            "only showing top 20 rows\n",
            "\n"
          ]
        }
      ]
    },
    {
      "cell_type": "code",
      "metadata": {
        "id": "jCEELoDjmxif",
        "colab": {
          "base_uri": "https://localhost:8080/"
        },
        "outputId": "c0e33866-b3ca-4b01-c684-4ac7c3bfaeb3"
      },
      "source": [
        "df14 = df13.withColumn('job',when(df13.job.endswith('admin.'),regexp_replace(df13.job,'admin.','management')).when(df13.job.endswith('housemaid'),regexp_replace(df13.job,'housemaid','blue-collar')).when(df13.job.endswith('entrepreneur'),regexp_replace(df13.job,'entrepreneur','self-employed')).otherwise(df13.job))\n",
        "df14.show()"
      ],
      "execution_count": null,
      "outputs": [
        {
          "output_type": "stream",
          "name": "stdout",
          "text": [
            "+-----------+---+-------------+-------+-------------------+-------+-------+----+---------+-----+-----------+------------------+--------+-----+--------+-----------+-----------------+-----------------+-------------------+----------------+-----------+---+------------------+-------------------+------------------+------------------+-------------------+--------------------+-------------+-------------+--------------+---------------+-----------------+-------------+-------------+\n",
            "|Customer_id|age|          job|marital|          education|default|housing|loan|  contact|month|day_of_week|          duration|campaign|pdays|previous|   poutcome|     emp_var_rate|   cons_price_idx|      cons_conf_idx|       euribor3m|nr_employed|  y|         month_sin|          month_cos|   day_of_week_sin|   day_of_week_cos|dummy_contact_index|dummy_poutcome_index|  contact_vec| poutcome_vec|dummy_cellular|dummy_telephone|dummy_nonexistent|dummy_failure|dummy_success|\n",
            "+-----------+---+-------------+-------+-------------------+-------+-------+----+---------+-----+-----------+------------------+--------+-----+--------+-----------+-----------------+-----------------+-------------------+----------------+-----------+---+------------------+-------------------+------------------+------------------+-------------------+--------------------+-------------+-------------+--------------+---------------+-----------------+-------------+-------------+\n",
            "|          1| 56|     services|      0|        high.school|      0|      0|   1|telephone|    5|          1| 5.730099782973575|       1|    0|       0|nonexistent|1.100000023841858|93.99400329589844|-36.400001525878906|4.85699987411499|     5191.0|  0|0.5011489580136382|-0.8653610355694579|0.4997701026431024|0.3096228130570242|                1.0|                 0.0|(2,[1],[1.0])|(3,[0],[1.0])|           0.0|            1.0|              1.0|          0.0|          0.0|\n",
            "|          3| 59|   management|      0|professional.course|      0|      0|   0|telephone|    5|          1| 4.941642422609304|       1|    0|       0|nonexistent|1.100000023841858|93.99400329589844|-36.400001525878906|4.85699987411499|     5191.0|  0|0.5011489580136382|-0.8653610355694579|0.4997701026431024|0.3096228130570242|                1.0|                 0.0|(2,[1],[1.0])|(3,[0],[1.0])|           0.0|            1.0|              1.0|          0.0|          0.0|\n",
            "|          5| 24|   technician|      2|professional.course|      0|      1|   0|telephone|    5|          1| 5.942799375126701|       1|    0|       0|nonexistent|1.100000023841858|93.99400329589844|-36.400001525878906|4.85699987411499|     5191.0|  0|0.5011489580136382|-0.8653610355694579|0.4997701026431024|0.3096228130570242|                1.0|                 0.0|(2,[1],[1.0])|(3,[0],[1.0])|           0.0|            1.0|              1.0|          0.0|          0.0|\n",
            "|          6| 25|     services|      2|        high.school|      0|      1|   0|telephone|    5|          1|3.9318256327243257|       1|    0|       0|nonexistent|1.100000023841858|93.99400329589844|-36.400001525878906|4.85699987411499|     5191.0|  0|0.5011489580136382|-0.8653610355694579|0.4997701026431024|0.3096228130570242|                1.0|                 0.0|(2,[1],[1.0])|(3,[0],[1.0])|           0.0|            1.0|              1.0|          0.0|          0.0|\n",
            "|          9| 29|  blue-collar|      2|        high.school|      0|      0|   1|telephone|    5|          1| 4.927253685157205|       1|    0|       0|nonexistent|1.100000023841858|93.99400329589844|-36.400001525878906|4.85699987411499|     5191.0|  0|0.5011489580136382|-0.8653610355694579|0.4997701026431024|0.3096228130570242|                1.0|                 0.0|(2,[1],[1.0])|(3,[0],[1.0])|           0.0|            1.0|              1.0|          0.0|          0.0|\n",
            "|         12| 54|      retired|      0|              basic|     -1|      1|   1|telephone|    5|          1|5.1647859739235145|       1|    0|       0|nonexistent|1.100000023841858|93.99400329589844|-36.400001525878906|4.85699987411499|     5191.0|  0|0.5011489580136382|-0.8653610355694579|0.4997701026431024|0.3096228130570242|                1.0|                 0.0|(2,[1],[1.0])|(3,[0],[1.0])|           0.0|            1.0|              1.0|          0.0|          0.0|\n",
            "|         13| 35|  blue-collar|      0|              basic|      0|      1|   0|telephone|    5|          1| 5.746203190540153|       1|    0|       0|nonexistent|1.100000023841858|93.99400329589844|-36.400001525878906|4.85699987411499|     5191.0|  0|0.5011489580136382|-0.8653610355694579|0.4997701026431024|0.3096228130570242|                1.0|                 0.0|(2,[1],[1.0])|(3,[0],[1.0])|           0.0|            1.0|              1.0|          0.0|          0.0|\n",
            "|         15| 50|  blue-collar|      0|              basic|      0|      1|   1|telephone|    5|          1| 5.869296913133774|       1|    0|       0|nonexistent|1.100000023841858|93.99400329589844|-36.400001525878906|4.85699987411499|     5191.0|  0|0.5011489580136382|-0.8653610355694579|0.4997701026431024|0.3096228130570242|                1.0|                 0.0|(2,[1],[1.0])|(3,[0],[1.0])|           0.0|            1.0|              1.0|          0.0|          0.0|\n",
            "|         16| 39|   management|      2|              basic|     -1|      0|   0|telephone|    5|          1| 5.278114659230518|       1|    0|       0|nonexistent|1.100000023841858|93.99400329589844|-36.400001525878906|4.85699987411499|     5191.0|  0|0.5011489580136382|-0.8653610355694579|0.4997701026431024|0.3096228130570242|                1.0|                 0.0|(2,[1],[1.0])|(3,[0],[1.0])|           0.0|            1.0|              1.0|          0.0|          0.0|\n",
            "|         17| 55|  blue-collar|      0|              basic|     -1|      1|   0|telephone|    5|          1| 5.572154032177765|       1|    0|       0|nonexistent|1.100000023841858|93.99400329589844|-36.400001525878906|4.85699987411499|     5191.0|  0|0.5011489580136382|-0.8653610355694579|0.4997701026431024|0.3096228130570242|                1.0|                 0.0|(2,[1],[1.0])|(3,[0],[1.0])|           0.0|            1.0|              1.0|          0.0|          0.0|\n",
            "|         19| 41|   technician|      2|        high.school|      0|      1|   0|telephone|    5|          1| 5.204006687076795|       1|    0|       0|nonexistent|1.100000023841858|93.99400329589844|-36.400001525878906|4.85699987411499|     5191.0|  0|0.5011489580136382|-0.8653610355694579|0.4997701026431024|0.3096228130570242|                1.0|                 0.0|(2,[1],[1.0])|(3,[0],[1.0])|           0.0|            1.0|              1.0|          0.0|          0.0|\n",
            "|         20| 37|   management|      0|        high.school|      0|      1|   0|telephone|    5|          1| 5.153291594497779|       1|    0|       0|nonexistent|1.100000023841858|93.99400329589844|-36.400001525878906|4.85699987411499|     5191.0|  0|0.5011489580136382|-0.8653610355694579|0.4997701026431024|0.3096228130570242|                1.0|                 0.0|(2,[1],[1.0])|(3,[0],[1.0])|           0.0|            1.0|              1.0|          0.0|          0.0|\n",
            "|         22| 59|   technician|      0|            unknown|      0|      1|   0|telephone|    5|          1| 4.543294782270004|       1|    0|       0|nonexistent|1.100000023841858|93.99400329589844|-36.400001525878906|4.85699987411499|     5191.0|  0|0.5011489580136382|-0.8653610355694579|0.4997701026431024|0.3096228130570242|                1.0|                 0.0|(2,[1],[1.0])|(3,[0],[1.0])|           0.0|            1.0|              1.0|          0.0|          0.0|\n",
            "|         26| 49|  blue-collar|      0|            unknown|      0|      0|   0|telephone|    5|          1| 4.304065093204169|       1|    0|       0|nonexistent|1.100000023841858|93.99400329589844|-36.400001525878906|4.85699987411499|     5191.0|  0|0.5011489580136382|-0.8653610355694579|0.4997701026431024|0.3096228130570242|                1.0|                 0.0|(2,[1],[1.0])|(3,[0],[1.0])|           0.0|            1.0|              1.0|          0.0|          0.0|\n",
            "|         27| 54|   management|      0|              basic|     -1|      1|   0|telephone|    5|          1| 5.442417710521793|       1|    0|       0|nonexistent|1.100000023841858|93.99400329589844|-36.400001525878906|4.85699987411499|     5191.0|  0|0.5011489580136382|-0.8653610355694579|0.4997701026431024|0.3096228130570242|                1.0|                 0.0|(2,[1],[1.0])|(3,[0],[1.0])|           0.0|            1.0|              1.0|          0.0|          0.0|\n",
            "|         28| 54|  blue-collar|      1|              basic|      0|      0|   0|telephone|    5|          1| 5.342334251964811|       1|    0|       0|nonexistent|1.100000023841858|93.99400329589844|-36.400001525878906|4.85699987411499|     5191.0|  0|0.5011489580136382|-0.8653610355694579|0.4997701026431024|0.3096228130570242|                1.0|                 0.0|(2,[1],[1.0])|(3,[0],[1.0])|           0.0|            1.0|              1.0|          0.0|          0.0|\n",
            "|         31| 52|   technician|      0|              basic|      0|      1|   0|telephone|    5|          1| 7.418780882750794|       1|    0|       0|nonexistent|1.100000023841858|93.99400329589844|-36.400001525878906|4.85699987411499|     5191.0|  0|0.5011489580136382|-0.8653610355694579|0.4997701026431024|0.3096228130570242|                1.0|                 0.0|(2,[1],[1.0])|(3,[0],[1.0])|           0.0|            1.0|              1.0|          0.0|          0.0|\n",
            "|         34| 58|   management|      3|  university.degree|      0|      1|   0|telephone|    5|          1| 5.905361848054571|       1|    0|       0|nonexistent|1.100000023841858|93.99400329589844|-36.400001525878906|4.85699987411499|     5191.0|  0|0.5011489580136382|-0.8653610355694579|0.4997701026431024|0.3096228130570242|                1.0|                 0.0|(2,[1],[1.0])|(3,[0],[1.0])|           0.0|            1.0|              1.0|          0.0|          0.0|\n",
            "|         35| 32|self-employed|      0|        high.school|      0|      1|   0|telephone|    5|          1| 5.752572638825633|       1|    0|       0|nonexistent|1.100000023841858|93.99400329589844|-36.400001525878906|4.85699987411499|     5191.0|  0|0.5011489580136382|-0.8653610355694579|0.4997701026431024|0.3096228130570242|                1.0|                 0.0|(2,[1],[1.0])|(3,[0],[1.0])|           0.0|            1.0|              1.0|          0.0|          0.0|\n",
            "|         37| 57|   management|      0|  university.degree|      0|      0|   1|telephone|    5|          1|5.3612921657094255|       1|    0|       0|nonexistent|1.100000023841858|93.99400329589844|-36.400001525878906|4.85699987411499|     5191.0|  0|0.5011489580136382|-0.8653610355694579|0.4997701026431024|0.3096228130570242|                1.0|                 0.0|(2,[1],[1.0])|(3,[0],[1.0])|           0.0|            1.0|              1.0|          0.0|          0.0|\n",
            "+-----------+---+-------------+-------+-------------------+-------+-------+----+---------+-----+-----------+------------------+--------+-----+--------+-----------+-----------------+-----------------+-------------------+----------------+-----------+---+------------------+-------------------+------------------+------------------+-------------------+--------------------+-------------+-------------+--------------+---------------+-----------------+-------------+-------------+\n",
            "only showing top 20 rows\n",
            "\n"
          ]
        }
      ]
    },
    {
      "cell_type": "code",
      "metadata": {
        "id": "QkoScFJQpAA7",
        "colab": {
          "base_uri": "https://localhost:8080/"
        },
        "outputId": "1ef19880-ce88-4452-e8e3-e7f36a2d38e0"
      },
      "source": [
        "import pandas as pd\n",
        "\n",
        "edu_df = df14.groupBy('education').sum('y').toPandas()\n",
        "edu_list = edu_df['education'].tolist()\n",
        "count_list = edu_df['sum(y)'].tolist()\n",
        "education_dict = {edu_list[i]: count_list[i] for i in range(len(edu_list))}\n",
        "print(education_dict)"
      ],
      "execution_count": null,
      "outputs": [
        {
          "output_type": "stream",
          "name": "stdout",
          "text": [
            "{'high.school': 945, 'unknown': 231, 'professional.course': 541, 'university.degree': 1507, 'basic': 982, 'illiterate': 2}\n"
          ]
        }
      ]
    },
    {
      "cell_type": "code",
      "metadata": {
        "id": "P7w2c0xH26ki",
        "colab": {
          "base_uri": "https://localhost:8080/"
        },
        "outputId": "fc83928f-cbd2-4f8b-bcdf-070be8c3cc38"
      },
      "source": [
        "mapping6 = create_map([lit(x) for x in chain(*education_dict.items())])\n",
        "\n",
        "df15 = df14.withColumn('education', mapping6[df14['education']])\n",
        "df15.show()"
      ],
      "execution_count": null,
      "outputs": [
        {
          "output_type": "stream",
          "name": "stdout",
          "text": [
            "+-----------+---+-------------+-------+---------+-------+-------+----+---------+-----+-----------+------------------+--------+-----+--------+-----------+-----------------+-----------------+-------------------+----------------+-----------+---+------------------+-------------------+------------------+------------------+-------------------+--------------------+-------------+-------------+--------------+---------------+-----------------+-------------+-------------+\n",
            "|Customer_id|age|          job|marital|education|default|housing|loan|  contact|month|day_of_week|          duration|campaign|pdays|previous|   poutcome|     emp_var_rate|   cons_price_idx|      cons_conf_idx|       euribor3m|nr_employed|  y|         month_sin|          month_cos|   day_of_week_sin|   day_of_week_cos|dummy_contact_index|dummy_poutcome_index|  contact_vec| poutcome_vec|dummy_cellular|dummy_telephone|dummy_nonexistent|dummy_failure|dummy_success|\n",
            "+-----------+---+-------------+-------+---------+-------+-------+----+---------+-----+-----------+------------------+--------+-----+--------+-----------+-----------------+-----------------+-------------------+----------------+-----------+---+------------------+-------------------+------------------+------------------+-------------------+--------------------+-------------+-------------+--------------+---------------+-----------------+-------------+-------------+\n",
            "|          1| 56|     services|      0|      945|      0|      0|   1|telephone|    5|          1| 5.730099782973575|       1|    0|       0|nonexistent|1.100000023841858|93.99400329589844|-36.400001525878906|4.85699987411499|     5191.0|  0|0.5011489580136382|-0.8653610355694579|0.4997701026431024|0.3096228130570242|                1.0|                 0.0|(2,[1],[1.0])|(3,[0],[1.0])|           0.0|            1.0|              1.0|          0.0|          0.0|\n",
            "|          3| 59|   management|      0|      541|      0|      0|   0|telephone|    5|          1| 4.941642422609304|       1|    0|       0|nonexistent|1.100000023841858|93.99400329589844|-36.400001525878906|4.85699987411499|     5191.0|  0|0.5011489580136382|-0.8653610355694579|0.4997701026431024|0.3096228130570242|                1.0|                 0.0|(2,[1],[1.0])|(3,[0],[1.0])|           0.0|            1.0|              1.0|          0.0|          0.0|\n",
            "|          5| 24|   technician|      2|      541|      0|      1|   0|telephone|    5|          1| 5.942799375126701|       1|    0|       0|nonexistent|1.100000023841858|93.99400329589844|-36.400001525878906|4.85699987411499|     5191.0|  0|0.5011489580136382|-0.8653610355694579|0.4997701026431024|0.3096228130570242|                1.0|                 0.0|(2,[1],[1.0])|(3,[0],[1.0])|           0.0|            1.0|              1.0|          0.0|          0.0|\n",
            "|          6| 25|     services|      2|      945|      0|      1|   0|telephone|    5|          1|3.9318256327243257|       1|    0|       0|nonexistent|1.100000023841858|93.99400329589844|-36.400001525878906|4.85699987411499|     5191.0|  0|0.5011489580136382|-0.8653610355694579|0.4997701026431024|0.3096228130570242|                1.0|                 0.0|(2,[1],[1.0])|(3,[0],[1.0])|           0.0|            1.0|              1.0|          0.0|          0.0|\n",
            "|          9| 29|  blue-collar|      2|      945|      0|      0|   1|telephone|    5|          1| 4.927253685157205|       1|    0|       0|nonexistent|1.100000023841858|93.99400329589844|-36.400001525878906|4.85699987411499|     5191.0|  0|0.5011489580136382|-0.8653610355694579|0.4997701026431024|0.3096228130570242|                1.0|                 0.0|(2,[1],[1.0])|(3,[0],[1.0])|           0.0|            1.0|              1.0|          0.0|          0.0|\n",
            "|         12| 54|      retired|      0|      982|     -1|      1|   1|telephone|    5|          1|5.1647859739235145|       1|    0|       0|nonexistent|1.100000023841858|93.99400329589844|-36.400001525878906|4.85699987411499|     5191.0|  0|0.5011489580136382|-0.8653610355694579|0.4997701026431024|0.3096228130570242|                1.0|                 0.0|(2,[1],[1.0])|(3,[0],[1.0])|           0.0|            1.0|              1.0|          0.0|          0.0|\n",
            "|         13| 35|  blue-collar|      0|      982|      0|      1|   0|telephone|    5|          1| 5.746203190540153|       1|    0|       0|nonexistent|1.100000023841858|93.99400329589844|-36.400001525878906|4.85699987411499|     5191.0|  0|0.5011489580136382|-0.8653610355694579|0.4997701026431024|0.3096228130570242|                1.0|                 0.0|(2,[1],[1.0])|(3,[0],[1.0])|           0.0|            1.0|              1.0|          0.0|          0.0|\n",
            "|         15| 50|  blue-collar|      0|      982|      0|      1|   1|telephone|    5|          1| 5.869296913133774|       1|    0|       0|nonexistent|1.100000023841858|93.99400329589844|-36.400001525878906|4.85699987411499|     5191.0|  0|0.5011489580136382|-0.8653610355694579|0.4997701026431024|0.3096228130570242|                1.0|                 0.0|(2,[1],[1.0])|(3,[0],[1.0])|           0.0|            1.0|              1.0|          0.0|          0.0|\n",
            "|         16| 39|   management|      2|      982|     -1|      0|   0|telephone|    5|          1| 5.278114659230518|       1|    0|       0|nonexistent|1.100000023841858|93.99400329589844|-36.400001525878906|4.85699987411499|     5191.0|  0|0.5011489580136382|-0.8653610355694579|0.4997701026431024|0.3096228130570242|                1.0|                 0.0|(2,[1],[1.0])|(3,[0],[1.0])|           0.0|            1.0|              1.0|          0.0|          0.0|\n",
            "|         17| 55|  blue-collar|      0|      982|     -1|      1|   0|telephone|    5|          1| 5.572154032177765|       1|    0|       0|nonexistent|1.100000023841858|93.99400329589844|-36.400001525878906|4.85699987411499|     5191.0|  0|0.5011489580136382|-0.8653610355694579|0.4997701026431024|0.3096228130570242|                1.0|                 0.0|(2,[1],[1.0])|(3,[0],[1.0])|           0.0|            1.0|              1.0|          0.0|          0.0|\n",
            "|         19| 41|   technician|      2|      945|      0|      1|   0|telephone|    5|          1| 5.204006687076795|       1|    0|       0|nonexistent|1.100000023841858|93.99400329589844|-36.400001525878906|4.85699987411499|     5191.0|  0|0.5011489580136382|-0.8653610355694579|0.4997701026431024|0.3096228130570242|                1.0|                 0.0|(2,[1],[1.0])|(3,[0],[1.0])|           0.0|            1.0|              1.0|          0.0|          0.0|\n",
            "|         20| 37|   management|      0|      945|      0|      1|   0|telephone|    5|          1| 5.153291594497779|       1|    0|       0|nonexistent|1.100000023841858|93.99400329589844|-36.400001525878906|4.85699987411499|     5191.0|  0|0.5011489580136382|-0.8653610355694579|0.4997701026431024|0.3096228130570242|                1.0|                 0.0|(2,[1],[1.0])|(3,[0],[1.0])|           0.0|            1.0|              1.0|          0.0|          0.0|\n",
            "|         22| 59|   technician|      0|      231|      0|      1|   0|telephone|    5|          1| 4.543294782270004|       1|    0|       0|nonexistent|1.100000023841858|93.99400329589844|-36.400001525878906|4.85699987411499|     5191.0|  0|0.5011489580136382|-0.8653610355694579|0.4997701026431024|0.3096228130570242|                1.0|                 0.0|(2,[1],[1.0])|(3,[0],[1.0])|           0.0|            1.0|              1.0|          0.0|          0.0|\n",
            "|         26| 49|  blue-collar|      0|      231|      0|      0|   0|telephone|    5|          1| 4.304065093204169|       1|    0|       0|nonexistent|1.100000023841858|93.99400329589844|-36.400001525878906|4.85699987411499|     5191.0|  0|0.5011489580136382|-0.8653610355694579|0.4997701026431024|0.3096228130570242|                1.0|                 0.0|(2,[1],[1.0])|(3,[0],[1.0])|           0.0|            1.0|              1.0|          0.0|          0.0|\n",
            "|         27| 54|   management|      0|      982|     -1|      1|   0|telephone|    5|          1| 5.442417710521793|       1|    0|       0|nonexistent|1.100000023841858|93.99400329589844|-36.400001525878906|4.85699987411499|     5191.0|  0|0.5011489580136382|-0.8653610355694579|0.4997701026431024|0.3096228130570242|                1.0|                 0.0|(2,[1],[1.0])|(3,[0],[1.0])|           0.0|            1.0|              1.0|          0.0|          0.0|\n",
            "|         28| 54|  blue-collar|      1|      982|      0|      0|   0|telephone|    5|          1| 5.342334251964811|       1|    0|       0|nonexistent|1.100000023841858|93.99400329589844|-36.400001525878906|4.85699987411499|     5191.0|  0|0.5011489580136382|-0.8653610355694579|0.4997701026431024|0.3096228130570242|                1.0|                 0.0|(2,[1],[1.0])|(3,[0],[1.0])|           0.0|            1.0|              1.0|          0.0|          0.0|\n",
            "|         31| 52|   technician|      0|      982|      0|      1|   0|telephone|    5|          1| 7.418780882750794|       1|    0|       0|nonexistent|1.100000023841858|93.99400329589844|-36.400001525878906|4.85699987411499|     5191.0|  0|0.5011489580136382|-0.8653610355694579|0.4997701026431024|0.3096228130570242|                1.0|                 0.0|(2,[1],[1.0])|(3,[0],[1.0])|           0.0|            1.0|              1.0|          0.0|          0.0|\n",
            "|         34| 58|   management|      3|     1507|      0|      1|   0|telephone|    5|          1| 5.905361848054571|       1|    0|       0|nonexistent|1.100000023841858|93.99400329589844|-36.400001525878906|4.85699987411499|     5191.0|  0|0.5011489580136382|-0.8653610355694579|0.4997701026431024|0.3096228130570242|                1.0|                 0.0|(2,[1],[1.0])|(3,[0],[1.0])|           0.0|            1.0|              1.0|          0.0|          0.0|\n",
            "|         35| 32|self-employed|      0|      945|      0|      1|   0|telephone|    5|          1| 5.752572638825633|       1|    0|       0|nonexistent|1.100000023841858|93.99400329589844|-36.400001525878906|4.85699987411499|     5191.0|  0|0.5011489580136382|-0.8653610355694579|0.4997701026431024|0.3096228130570242|                1.0|                 0.0|(2,[1],[1.0])|(3,[0],[1.0])|           0.0|            1.0|              1.0|          0.0|          0.0|\n",
            "|         37| 57|   management|      0|     1507|      0|      0|   1|telephone|    5|          1|5.3612921657094255|       1|    0|       0|nonexistent|1.100000023841858|93.99400329589844|-36.400001525878906|4.85699987411499|     5191.0|  0|0.5011489580136382|-0.8653610355694579|0.4997701026431024|0.3096228130570242|                1.0|                 0.0|(2,[1],[1.0])|(3,[0],[1.0])|           0.0|            1.0|              1.0|          0.0|          0.0|\n",
            "+-----------+---+-------------+-------+---------+-------+-------+----+---------+-----+-----------+------------------+--------+-----+--------+-----------+-----------------+-----------------+-------------------+----------------+-----------+---+------------------+-------------------+------------------+------------------+-------------------+--------------------+-------------+-------------+--------------+---------------+-----------------+-------------+-------------+\n",
            "only showing top 20 rows\n",
            "\n"
          ]
        }
      ]
    },
    {
      "cell_type": "code",
      "metadata": {
        "id": "1ghHw_NprFoF",
        "colab": {
          "base_uri": "https://localhost:8080/"
        },
        "outputId": "3756a89c-8810-4cc7-8c0d-02c4db0296b4"
      },
      "source": [
        "job_df = df15.groupBy('job').sum('y').toPandas()\n",
        "job_list = job_df['job'].tolist()\n",
        "count2_list = job_df['sum(y)'].tolist()\n",
        "job_dict = {job_list[i]: count2_list[i] for i in range(len(job_list))}\n",
        "print(job_dict)"
      ],
      "execution_count": null,
      "outputs": [
        {
          "output_type": "stream",
          "name": "stdout",
          "text": [
            "{'management': 1538, 'retired': 395, 'unknown': 35, 'self-employed': 242, 'student': 240, 'blue-collar': 669, 'technician': 657, 'services': 298, 'unemployed': 134}\n"
          ]
        }
      ]
    },
    {
      "cell_type": "code",
      "metadata": {
        "id": "aGkdSFJ48G4C",
        "colab": {
          "base_uri": "https://localhost:8080/"
        },
        "outputId": "23a5c391-e616-43f2-f7fd-1deb8ca491fb"
      },
      "source": [
        "mapping7 = create_map([lit(x) for x in chain(*job_dict.items())])\n",
        "\n",
        "df16 = df15.withColumn('job', mapping7[df15['job']])\n",
        "df16.show()"
      ],
      "execution_count": null,
      "outputs": [
        {
          "output_type": "stream",
          "name": "stdout",
          "text": [
            "+-----------+---+----+-------+---------+-------+-------+----+---------+-----+-----------+------------------+--------+-----+--------+-----------+-----------------+-----------------+-------------------+----------------+-----------+---+------------------+-------------------+------------------+------------------+-------------------+--------------------+-------------+-------------+--------------+---------------+-----------------+-------------+-------------+\n",
            "|Customer_id|age| job|marital|education|default|housing|loan|  contact|month|day_of_week|          duration|campaign|pdays|previous|   poutcome|     emp_var_rate|   cons_price_idx|      cons_conf_idx|       euribor3m|nr_employed|  y|         month_sin|          month_cos|   day_of_week_sin|   day_of_week_cos|dummy_contact_index|dummy_poutcome_index|  contact_vec| poutcome_vec|dummy_cellular|dummy_telephone|dummy_nonexistent|dummy_failure|dummy_success|\n",
            "+-----------+---+----+-------+---------+-------+-------+----+---------+-----+-----------+------------------+--------+-----+--------+-----------+-----------------+-----------------+-------------------+----------------+-----------+---+------------------+-------------------+------------------+------------------+-------------------+--------------------+-------------+-------------+--------------+---------------+-----------------+-------------+-------------+\n",
            "|          1| 56| 298|      0|      945|      0|      0|   1|telephone|    5|          1| 5.730099782973575|       1|    0|       0|nonexistent|1.100000023841858|93.99400329589844|-36.400001525878906|4.85699987411499|     5191.0|  0|0.5011489580136382|-0.8653610355694579|0.4997701026431024|0.3096228130570242|                1.0|                 0.0|(2,[1],[1.0])|(3,[0],[1.0])|           0.0|            1.0|              1.0|          0.0|          0.0|\n",
            "|          3| 59|1538|      0|      541|      0|      0|   0|telephone|    5|          1| 4.941642422609304|       1|    0|       0|nonexistent|1.100000023841858|93.99400329589844|-36.400001525878906|4.85699987411499|     5191.0|  0|0.5011489580136382|-0.8653610355694579|0.4997701026431024|0.3096228130570242|                1.0|                 0.0|(2,[1],[1.0])|(3,[0],[1.0])|           0.0|            1.0|              1.0|          0.0|          0.0|\n",
            "|          5| 24| 657|      2|      541|      0|      1|   0|telephone|    5|          1| 5.942799375126701|       1|    0|       0|nonexistent|1.100000023841858|93.99400329589844|-36.400001525878906|4.85699987411499|     5191.0|  0|0.5011489580136382|-0.8653610355694579|0.4997701026431024|0.3096228130570242|                1.0|                 0.0|(2,[1],[1.0])|(3,[0],[1.0])|           0.0|            1.0|              1.0|          0.0|          0.0|\n",
            "|          6| 25| 298|      2|      945|      0|      1|   0|telephone|    5|          1|3.9318256327243257|       1|    0|       0|nonexistent|1.100000023841858|93.99400329589844|-36.400001525878906|4.85699987411499|     5191.0|  0|0.5011489580136382|-0.8653610355694579|0.4997701026431024|0.3096228130570242|                1.0|                 0.0|(2,[1],[1.0])|(3,[0],[1.0])|           0.0|            1.0|              1.0|          0.0|          0.0|\n",
            "|          9| 29| 669|      2|      945|      0|      0|   1|telephone|    5|          1| 4.927253685157205|       1|    0|       0|nonexistent|1.100000023841858|93.99400329589844|-36.400001525878906|4.85699987411499|     5191.0|  0|0.5011489580136382|-0.8653610355694579|0.4997701026431024|0.3096228130570242|                1.0|                 0.0|(2,[1],[1.0])|(3,[0],[1.0])|           0.0|            1.0|              1.0|          0.0|          0.0|\n",
            "|         12| 54| 395|      0|      982|     -1|      1|   1|telephone|    5|          1|5.1647859739235145|       1|    0|       0|nonexistent|1.100000023841858|93.99400329589844|-36.400001525878906|4.85699987411499|     5191.0|  0|0.5011489580136382|-0.8653610355694579|0.4997701026431024|0.3096228130570242|                1.0|                 0.0|(2,[1],[1.0])|(3,[0],[1.0])|           0.0|            1.0|              1.0|          0.0|          0.0|\n",
            "|         13| 35| 669|      0|      982|      0|      1|   0|telephone|    5|          1| 5.746203190540153|       1|    0|       0|nonexistent|1.100000023841858|93.99400329589844|-36.400001525878906|4.85699987411499|     5191.0|  0|0.5011489580136382|-0.8653610355694579|0.4997701026431024|0.3096228130570242|                1.0|                 0.0|(2,[1],[1.0])|(3,[0],[1.0])|           0.0|            1.0|              1.0|          0.0|          0.0|\n",
            "|         15| 50| 669|      0|      982|      0|      1|   1|telephone|    5|          1| 5.869296913133774|       1|    0|       0|nonexistent|1.100000023841858|93.99400329589844|-36.400001525878906|4.85699987411499|     5191.0|  0|0.5011489580136382|-0.8653610355694579|0.4997701026431024|0.3096228130570242|                1.0|                 0.0|(2,[1],[1.0])|(3,[0],[1.0])|           0.0|            1.0|              1.0|          0.0|          0.0|\n",
            "|         16| 39|1538|      2|      982|     -1|      0|   0|telephone|    5|          1| 5.278114659230518|       1|    0|       0|nonexistent|1.100000023841858|93.99400329589844|-36.400001525878906|4.85699987411499|     5191.0|  0|0.5011489580136382|-0.8653610355694579|0.4997701026431024|0.3096228130570242|                1.0|                 0.0|(2,[1],[1.0])|(3,[0],[1.0])|           0.0|            1.0|              1.0|          0.0|          0.0|\n",
            "|         17| 55| 669|      0|      982|     -1|      1|   0|telephone|    5|          1| 5.572154032177765|       1|    0|       0|nonexistent|1.100000023841858|93.99400329589844|-36.400001525878906|4.85699987411499|     5191.0|  0|0.5011489580136382|-0.8653610355694579|0.4997701026431024|0.3096228130570242|                1.0|                 0.0|(2,[1],[1.0])|(3,[0],[1.0])|           0.0|            1.0|              1.0|          0.0|          0.0|\n",
            "|         19| 41| 657|      2|      945|      0|      1|   0|telephone|    5|          1| 5.204006687076795|       1|    0|       0|nonexistent|1.100000023841858|93.99400329589844|-36.400001525878906|4.85699987411499|     5191.0|  0|0.5011489580136382|-0.8653610355694579|0.4997701026431024|0.3096228130570242|                1.0|                 0.0|(2,[1],[1.0])|(3,[0],[1.0])|           0.0|            1.0|              1.0|          0.0|          0.0|\n",
            "|         20| 37|1538|      0|      945|      0|      1|   0|telephone|    5|          1| 5.153291594497779|       1|    0|       0|nonexistent|1.100000023841858|93.99400329589844|-36.400001525878906|4.85699987411499|     5191.0|  0|0.5011489580136382|-0.8653610355694579|0.4997701026431024|0.3096228130570242|                1.0|                 0.0|(2,[1],[1.0])|(3,[0],[1.0])|           0.0|            1.0|              1.0|          0.0|          0.0|\n",
            "|         22| 59| 657|      0|      231|      0|      1|   0|telephone|    5|          1| 4.543294782270004|       1|    0|       0|nonexistent|1.100000023841858|93.99400329589844|-36.400001525878906|4.85699987411499|     5191.0|  0|0.5011489580136382|-0.8653610355694579|0.4997701026431024|0.3096228130570242|                1.0|                 0.0|(2,[1],[1.0])|(3,[0],[1.0])|           0.0|            1.0|              1.0|          0.0|          0.0|\n",
            "|         26| 49| 669|      0|      231|      0|      0|   0|telephone|    5|          1| 4.304065093204169|       1|    0|       0|nonexistent|1.100000023841858|93.99400329589844|-36.400001525878906|4.85699987411499|     5191.0|  0|0.5011489580136382|-0.8653610355694579|0.4997701026431024|0.3096228130570242|                1.0|                 0.0|(2,[1],[1.0])|(3,[0],[1.0])|           0.0|            1.0|              1.0|          0.0|          0.0|\n",
            "|         27| 54|1538|      0|      982|     -1|      1|   0|telephone|    5|          1| 5.442417710521793|       1|    0|       0|nonexistent|1.100000023841858|93.99400329589844|-36.400001525878906|4.85699987411499|     5191.0|  0|0.5011489580136382|-0.8653610355694579|0.4997701026431024|0.3096228130570242|                1.0|                 0.0|(2,[1],[1.0])|(3,[0],[1.0])|           0.0|            1.0|              1.0|          0.0|          0.0|\n",
            "|         28| 54| 669|      1|      982|      0|      0|   0|telephone|    5|          1| 5.342334251964811|       1|    0|       0|nonexistent|1.100000023841858|93.99400329589844|-36.400001525878906|4.85699987411499|     5191.0|  0|0.5011489580136382|-0.8653610355694579|0.4997701026431024|0.3096228130570242|                1.0|                 0.0|(2,[1],[1.0])|(3,[0],[1.0])|           0.0|            1.0|              1.0|          0.0|          0.0|\n",
            "|         31| 52| 657|      0|      982|      0|      1|   0|telephone|    5|          1| 7.418780882750794|       1|    0|       0|nonexistent|1.100000023841858|93.99400329589844|-36.400001525878906|4.85699987411499|     5191.0|  0|0.5011489580136382|-0.8653610355694579|0.4997701026431024|0.3096228130570242|                1.0|                 0.0|(2,[1],[1.0])|(3,[0],[1.0])|           0.0|            1.0|              1.0|          0.0|          0.0|\n",
            "|         34| 58|1538|      3|     1507|      0|      1|   0|telephone|    5|          1| 5.905361848054571|       1|    0|       0|nonexistent|1.100000023841858|93.99400329589844|-36.400001525878906|4.85699987411499|     5191.0|  0|0.5011489580136382|-0.8653610355694579|0.4997701026431024|0.3096228130570242|                1.0|                 0.0|(2,[1],[1.0])|(3,[0],[1.0])|           0.0|            1.0|              1.0|          0.0|          0.0|\n",
            "|         35| 32| 242|      0|      945|      0|      1|   0|telephone|    5|          1| 5.752572638825633|       1|    0|       0|nonexistent|1.100000023841858|93.99400329589844|-36.400001525878906|4.85699987411499|     5191.0|  0|0.5011489580136382|-0.8653610355694579|0.4997701026431024|0.3096228130570242|                1.0|                 0.0|(2,[1],[1.0])|(3,[0],[1.0])|           0.0|            1.0|              1.0|          0.0|          0.0|\n",
            "|         37| 57|1538|      0|     1507|      0|      0|   1|telephone|    5|          1|5.3612921657094255|       1|    0|       0|nonexistent|1.100000023841858|93.99400329589844|-36.400001525878906|4.85699987411499|     5191.0|  0|0.5011489580136382|-0.8653610355694579|0.4997701026431024|0.3096228130570242|                1.0|                 0.0|(2,[1],[1.0])|(3,[0],[1.0])|           0.0|            1.0|              1.0|          0.0|          0.0|\n",
            "+-----------+---+----+-------+---------+-------+-------+----+---------+-----+-----------+------------------+--------+-----+--------+-----------+-----------------+-----------------+-------------------+----------------+-----------+---+------------------+-------------------+------------------+------------------+-------------------+--------------------+-------------+-------------+--------------+---------------+-----------------+-------------+-------------+\n",
            "only showing top 20 rows\n",
            "\n"
          ]
        }
      ]
    },
    {
      "cell_type": "code",
      "metadata": {
        "id": "tTGAKTrW8Wci",
        "colab": {
          "base_uri": "https://localhost:8080/"
        },
        "outputId": "354d3f52-2201-4bf5-93c6-d1e394ec287a"
      },
      "source": [
        "df16.printSchema()"
      ],
      "execution_count": null,
      "outputs": [
        {
          "output_type": "stream",
          "name": "stdout",
          "text": [
            "root\n",
            " |-- Customer_id: long (nullable = true)\n",
            " |-- age: long (nullable = true)\n",
            " |-- job: integer (nullable = true)\n",
            " |-- marital: long (nullable = true)\n",
            " |-- education: integer (nullable = true)\n",
            " |-- default: long (nullable = true)\n",
            " |-- housing: long (nullable = true)\n",
            " |-- loan: long (nullable = true)\n",
            " |-- contact: string (nullable = true)\n",
            " |-- month: long (nullable = true)\n",
            " |-- day_of_week: long (nullable = true)\n",
            " |-- duration: double (nullable = true)\n",
            " |-- campaign: long (nullable = true)\n",
            " |-- pdays: long (nullable = true)\n",
            " |-- previous: long (nullable = true)\n",
            " |-- poutcome: string (nullable = true)\n",
            " |-- emp_var_rate: double (nullable = true)\n",
            " |-- cons_price_idx: double (nullable = true)\n",
            " |-- cons_conf_idx: double (nullable = true)\n",
            " |-- euribor3m: double (nullable = true)\n",
            " |-- nr_employed: double (nullable = true)\n",
            " |-- y: long (nullable = true)\n",
            " |-- month_sin: double (nullable = true)\n",
            " |-- month_cos: double (nullable = true)\n",
            " |-- day_of_week_sin: double (nullable = true)\n",
            " |-- day_of_week_cos: double (nullable = true)\n",
            " |-- dummy_contact_index: double (nullable = true)\n",
            " |-- dummy_poutcome_index: double (nullable = true)\n",
            " |-- contact_vec: vector (nullable = true)\n",
            " |-- poutcome_vec: vector (nullable = true)\n",
            " |-- dummy_cellular: double (nullable = true)\n",
            " |-- dummy_telephone: double (nullable = true)\n",
            " |-- dummy_nonexistent: double (nullable = true)\n",
            " |-- dummy_failure: double (nullable = true)\n",
            " |-- dummy_success: double (nullable = true)\n",
            "\n"
          ]
        }
      ]
    },
    {
      "cell_type": "code",
      "metadata": {
        "id": "rJ-3jUhQZzhf",
        "colab": {
          "base_uri": "https://localhost:8080/"
        },
        "outputId": "6c022c34-00d7-4e2a-a528-3b1919efb37d"
      },
      "source": [
        "finaldf = df16.drop('contact','month','day_of_week','poutcome','dummy_contact_index','dummy_poutcome_index','contact_vec','poutcome_vec','dummy_telephone','dummy_nonexistent')\n",
        "finaldf.show()"
      ],
      "execution_count": null,
      "outputs": [
        {
          "output_type": "stream",
          "name": "stdout",
          "text": [
            "+-----------+---+----+-------+---------+-------+-------+----+------------------+--------+-----+--------+-----------------+-----------------+-------------------+----------------+-----------+---+------------------+-------------------+------------------+------------------+--------------+-------------+-------------+\n",
            "|Customer_id|age| job|marital|education|default|housing|loan|          duration|campaign|pdays|previous|     emp_var_rate|   cons_price_idx|      cons_conf_idx|       euribor3m|nr_employed|  y|         month_sin|          month_cos|   day_of_week_sin|   day_of_week_cos|dummy_cellular|dummy_failure|dummy_success|\n",
            "+-----------+---+----+-------+---------+-------+-------+----+------------------+--------+-----+--------+-----------------+-----------------+-------------------+----------------+-----------+---+------------------+-------------------+------------------+------------------+--------------+-------------+-------------+\n",
            "|          1| 56| 298|      0|      945|      0|      0|   1| 5.730099782973575|       1|    0|       0|1.100000023841858|93.99400329589844|-36.400001525878906|4.85699987411499|     5191.0|  0|0.5011489580136382|-0.8653610355694579|0.4997701026431024|0.3096228130570242|           0.0|          0.0|          0.0|\n",
            "|          3| 59|1538|      0|      541|      0|      0|   0| 4.941642422609304|       1|    0|       0|1.100000023841858|93.99400329589844|-36.400001525878906|4.85699987411499|     5191.0|  0|0.5011489580136382|-0.8653610355694579|0.4997701026431024|0.3096228130570242|           0.0|          0.0|          0.0|\n",
            "|          5| 24| 657|      2|      541|      0|      1|   0| 5.942799375126701|       1|    0|       0|1.100000023841858|93.99400329589844|-36.400001525878906|4.85699987411499|     5191.0|  0|0.5011489580136382|-0.8653610355694579|0.4997701026431024|0.3096228130570242|           0.0|          0.0|          0.0|\n",
            "|          6| 25| 298|      2|      945|      0|      1|   0|3.9318256327243257|       1|    0|       0|1.100000023841858|93.99400329589844|-36.400001525878906|4.85699987411499|     5191.0|  0|0.5011489580136382|-0.8653610355694579|0.4997701026431024|0.3096228130570242|           0.0|          0.0|          0.0|\n",
            "|          9| 29| 669|      2|      945|      0|      0|   1| 4.927253685157205|       1|    0|       0|1.100000023841858|93.99400329589844|-36.400001525878906|4.85699987411499|     5191.0|  0|0.5011489580136382|-0.8653610355694579|0.4997701026431024|0.3096228130570242|           0.0|          0.0|          0.0|\n",
            "|         12| 54| 395|      0|      982|     -1|      1|   1|5.1647859739235145|       1|    0|       0|1.100000023841858|93.99400329589844|-36.400001525878906|4.85699987411499|     5191.0|  0|0.5011489580136382|-0.8653610355694579|0.4997701026431024|0.3096228130570242|           0.0|          0.0|          0.0|\n",
            "|         13| 35| 669|      0|      982|      0|      1|   0| 5.746203190540153|       1|    0|       0|1.100000023841858|93.99400329589844|-36.400001525878906|4.85699987411499|     5191.0|  0|0.5011489580136382|-0.8653610355694579|0.4997701026431024|0.3096228130570242|           0.0|          0.0|          0.0|\n",
            "|         15| 50| 669|      0|      982|      0|      1|   1| 5.869296913133774|       1|    0|       0|1.100000023841858|93.99400329589844|-36.400001525878906|4.85699987411499|     5191.0|  0|0.5011489580136382|-0.8653610355694579|0.4997701026431024|0.3096228130570242|           0.0|          0.0|          0.0|\n",
            "|         16| 39|1538|      2|      982|     -1|      0|   0| 5.278114659230518|       1|    0|       0|1.100000023841858|93.99400329589844|-36.400001525878906|4.85699987411499|     5191.0|  0|0.5011489580136382|-0.8653610355694579|0.4997701026431024|0.3096228130570242|           0.0|          0.0|          0.0|\n",
            "|         17| 55| 669|      0|      982|     -1|      1|   0| 5.572154032177765|       1|    0|       0|1.100000023841858|93.99400329589844|-36.400001525878906|4.85699987411499|     5191.0|  0|0.5011489580136382|-0.8653610355694579|0.4997701026431024|0.3096228130570242|           0.0|          0.0|          0.0|\n",
            "|         19| 41| 657|      2|      945|      0|      1|   0| 5.204006687076795|       1|    0|       0|1.100000023841858|93.99400329589844|-36.400001525878906|4.85699987411499|     5191.0|  0|0.5011489580136382|-0.8653610355694579|0.4997701026431024|0.3096228130570242|           0.0|          0.0|          0.0|\n",
            "|         20| 37|1538|      0|      945|      0|      1|   0| 5.153291594497779|       1|    0|       0|1.100000023841858|93.99400329589844|-36.400001525878906|4.85699987411499|     5191.0|  0|0.5011489580136382|-0.8653610355694579|0.4997701026431024|0.3096228130570242|           0.0|          0.0|          0.0|\n",
            "|         22| 59| 657|      0|      231|      0|      1|   0| 4.543294782270004|       1|    0|       0|1.100000023841858|93.99400329589844|-36.400001525878906|4.85699987411499|     5191.0|  0|0.5011489580136382|-0.8653610355694579|0.4997701026431024|0.3096228130570242|           0.0|          0.0|          0.0|\n",
            "|         26| 49| 669|      0|      231|      0|      0|   0| 4.304065093204169|       1|    0|       0|1.100000023841858|93.99400329589844|-36.400001525878906|4.85699987411499|     5191.0|  0|0.5011489580136382|-0.8653610355694579|0.4997701026431024|0.3096228130570242|           0.0|          0.0|          0.0|\n",
            "|         27| 54|1538|      0|      982|     -1|      1|   0| 5.442417710521793|       1|    0|       0|1.100000023841858|93.99400329589844|-36.400001525878906|4.85699987411499|     5191.0|  0|0.5011489580136382|-0.8653610355694579|0.4997701026431024|0.3096228130570242|           0.0|          0.0|          0.0|\n",
            "|         28| 54| 669|      1|      982|      0|      0|   0| 5.342334251964811|       1|    0|       0|1.100000023841858|93.99400329589844|-36.400001525878906|4.85699987411499|     5191.0|  0|0.5011489580136382|-0.8653610355694579|0.4997701026431024|0.3096228130570242|           0.0|          0.0|          0.0|\n",
            "|         31| 52| 657|      0|      982|      0|      1|   0| 7.418780882750794|       1|    0|       0|1.100000023841858|93.99400329589844|-36.400001525878906|4.85699987411499|     5191.0|  0|0.5011489580136382|-0.8653610355694579|0.4997701026431024|0.3096228130570242|           0.0|          0.0|          0.0|\n",
            "|         34| 58|1538|      3|     1507|      0|      1|   0| 5.905361848054571|       1|    0|       0|1.100000023841858|93.99400329589844|-36.400001525878906|4.85699987411499|     5191.0|  0|0.5011489580136382|-0.8653610355694579|0.4997701026431024|0.3096228130570242|           0.0|          0.0|          0.0|\n",
            "|         35| 32| 242|      0|      945|      0|      1|   0| 5.752572638825633|       1|    0|       0|1.100000023841858|93.99400329589844|-36.400001525878906|4.85699987411499|     5191.0|  0|0.5011489580136382|-0.8653610355694579|0.4997701026431024|0.3096228130570242|           0.0|          0.0|          0.0|\n",
            "|         37| 57|1538|      0|     1507|      0|      0|   1|5.3612921657094255|       1|    0|       0|1.100000023841858|93.99400329589844|-36.400001525878906|4.85699987411499|     5191.0|  0|0.5011489580136382|-0.8653610355694579|0.4997701026431024|0.3096228130570242|           0.0|          0.0|          0.0|\n",
            "+-----------+---+----+-------+---------+-------+-------+----+------------------+--------+-----+--------+-----------------+-----------------+-------------------+----------------+-----------+---+------------------+-------------------+------------------+------------------+--------------+-------------+-------------+\n",
            "only showing top 20 rows\n",
            "\n"
          ]
        }
      ]
    },
    {
      "cell_type": "code",
      "metadata": {
        "id": "ZryONaa18Zpu",
        "colab": {
          "base_uri": "https://localhost:8080/"
        },
        "outputId": "dcfce33e-aa6e-44c3-ea3c-28c094b7e28b"
      },
      "source": [
        "finaldf.printSchema()"
      ],
      "execution_count": null,
      "outputs": [
        {
          "output_type": "stream",
          "name": "stdout",
          "text": [
            "root\n",
            " |-- Customer_id: long (nullable = true)\n",
            " |-- age: long (nullable = true)\n",
            " |-- job: integer (nullable = true)\n",
            " |-- marital: long (nullable = true)\n",
            " |-- education: integer (nullable = true)\n",
            " |-- default: long (nullable = true)\n",
            " |-- housing: long (nullable = true)\n",
            " |-- loan: long (nullable = true)\n",
            " |-- duration: double (nullable = true)\n",
            " |-- campaign: long (nullable = true)\n",
            " |-- pdays: long (nullable = true)\n",
            " |-- previous: long (nullable = true)\n",
            " |-- emp_var_rate: double (nullable = true)\n",
            " |-- cons_price_idx: double (nullable = true)\n",
            " |-- cons_conf_idx: double (nullable = true)\n",
            " |-- euribor3m: double (nullable = true)\n",
            " |-- nr_employed: double (nullable = true)\n",
            " |-- y: long (nullable = true)\n",
            " |-- month_sin: double (nullable = true)\n",
            " |-- month_cos: double (nullable = true)\n",
            " |-- day_of_week_sin: double (nullable = true)\n",
            " |-- day_of_week_cos: double (nullable = true)\n",
            " |-- dummy_cellular: double (nullable = true)\n",
            " |-- dummy_failure: double (nullable = true)\n",
            " |-- dummy_success: double (nullable = true)\n",
            "\n"
          ]
        }
      ]
    },
    {
      "cell_type": "markdown",
      "metadata": {
        "id": "d8rYsCE1OCB_"
      },
      "source": [
        "**Saving clean data as hive table and using hive query on that table**"
      ]
    },
    {
      "cell_type": "code",
      "metadata": {
        "colab": {
          "base_uri": "https://localhost:8080/"
        },
        "id": "NoKscH7wMtad",
        "outputId": "46925c01-bb61-4881-bd8a-ee2675bcefd9"
      },
      "source": [
        "finaldf.createOrReplaceTempView(\"final_table\")\n",
        "spark.sql(\"select * from final_table\").show()"
      ],
      "execution_count": null,
      "outputs": [
        {
          "output_type": "stream",
          "name": "stdout",
          "text": [
            "+-----------+---+----+-------+---------+-------+-------+----+------------------+--------+-----+--------+-----------------+-----------------+-------------------+----------------+-----------+---+------------------+-------------------+------------------+------------------+--------------+-------------+-------------+\n",
            "|Customer_id|age| job|marital|education|default|housing|loan|          duration|campaign|pdays|previous|     emp_var_rate|   cons_price_idx|      cons_conf_idx|       euribor3m|nr_employed|  y|         month_sin|          month_cos|   day_of_week_sin|   day_of_week_cos|dummy_cellular|dummy_failure|dummy_success|\n",
            "+-----------+---+----+-------+---------+-------+-------+----+------------------+--------+-----+--------+-----------------+-----------------+-------------------+----------------+-----------+---+------------------+-------------------+------------------+------------------+--------------+-------------+-------------+\n",
            "|          1| 56| 298|      0|      945|      0|      0|   1| 5.730099782973575|       1|    0|       0|1.100000023841858|93.99400329589844|-36.400001525878906|4.85699987411499|     5191.0|  0|0.5011489580136382|-0.8653610355694579|0.4997701026431024|0.3096228130570242|           0.0|          0.0|          0.0|\n",
            "|          3| 59|1538|      0|      541|      0|      0|   0| 4.941642422609304|       1|    0|       0|1.100000023841858|93.99400329589844|-36.400001525878906|4.85699987411499|     5191.0|  0|0.5011489580136382|-0.8653610355694579|0.4997701026431024|0.3096228130570242|           0.0|          0.0|          0.0|\n",
            "|          5| 24| 657|      2|      541|      0|      1|   0| 5.942799375126701|       1|    0|       0|1.100000023841858|93.99400329589844|-36.400001525878906|4.85699987411499|     5191.0|  0|0.5011489580136382|-0.8653610355694579|0.4997701026431024|0.3096228130570242|           0.0|          0.0|          0.0|\n",
            "|          6| 25| 298|      2|      945|      0|      1|   0|3.9318256327243257|       1|    0|       0|1.100000023841858|93.99400329589844|-36.400001525878906|4.85699987411499|     5191.0|  0|0.5011489580136382|-0.8653610355694579|0.4997701026431024|0.3096228130570242|           0.0|          0.0|          0.0|\n",
            "|          9| 29| 669|      2|      945|      0|      0|   1| 4.927253685157205|       1|    0|       0|1.100000023841858|93.99400329589844|-36.400001525878906|4.85699987411499|     5191.0|  0|0.5011489580136382|-0.8653610355694579|0.4997701026431024|0.3096228130570242|           0.0|          0.0|          0.0|\n",
            "|         12| 54| 395|      0|      982|     -1|      1|   1|5.1647859739235145|       1|    0|       0|1.100000023841858|93.99400329589844|-36.400001525878906|4.85699987411499|     5191.0|  0|0.5011489580136382|-0.8653610355694579|0.4997701026431024|0.3096228130570242|           0.0|          0.0|          0.0|\n",
            "|         13| 35| 669|      0|      982|      0|      1|   0| 5.746203190540153|       1|    0|       0|1.100000023841858|93.99400329589844|-36.400001525878906|4.85699987411499|     5191.0|  0|0.5011489580136382|-0.8653610355694579|0.4997701026431024|0.3096228130570242|           0.0|          0.0|          0.0|\n",
            "|         15| 50| 669|      0|      982|      0|      1|   1| 5.869296913133774|       1|    0|       0|1.100000023841858|93.99400329589844|-36.400001525878906|4.85699987411499|     5191.0|  0|0.5011489580136382|-0.8653610355694579|0.4997701026431024|0.3096228130570242|           0.0|          0.0|          0.0|\n",
            "|         16| 39|1538|      2|      982|     -1|      0|   0| 5.278114659230518|       1|    0|       0|1.100000023841858|93.99400329589844|-36.400001525878906|4.85699987411499|     5191.0|  0|0.5011489580136382|-0.8653610355694579|0.4997701026431024|0.3096228130570242|           0.0|          0.0|          0.0|\n",
            "|         17| 55| 669|      0|      982|     -1|      1|   0| 5.572154032177765|       1|    0|       0|1.100000023841858|93.99400329589844|-36.400001525878906|4.85699987411499|     5191.0|  0|0.5011489580136382|-0.8653610355694579|0.4997701026431024|0.3096228130570242|           0.0|          0.0|          0.0|\n",
            "|         19| 41| 657|      2|      945|      0|      1|   0| 5.204006687076795|       1|    0|       0|1.100000023841858|93.99400329589844|-36.400001525878906|4.85699987411499|     5191.0|  0|0.5011489580136382|-0.8653610355694579|0.4997701026431024|0.3096228130570242|           0.0|          0.0|          0.0|\n",
            "|         20| 37|1538|      0|      945|      0|      1|   0| 5.153291594497779|       1|    0|       0|1.100000023841858|93.99400329589844|-36.400001525878906|4.85699987411499|     5191.0|  0|0.5011489580136382|-0.8653610355694579|0.4997701026431024|0.3096228130570242|           0.0|          0.0|          0.0|\n",
            "|         22| 59| 657|      0|      231|      0|      1|   0| 4.543294782270004|       1|    0|       0|1.100000023841858|93.99400329589844|-36.400001525878906|4.85699987411499|     5191.0|  0|0.5011489580136382|-0.8653610355694579|0.4997701026431024|0.3096228130570242|           0.0|          0.0|          0.0|\n",
            "|         26| 49| 669|      0|      231|      0|      0|   0| 4.304065093204169|       1|    0|       0|1.100000023841858|93.99400329589844|-36.400001525878906|4.85699987411499|     5191.0|  0|0.5011489580136382|-0.8653610355694579|0.4997701026431024|0.3096228130570242|           0.0|          0.0|          0.0|\n",
            "|         27| 54|1538|      0|      982|     -1|      1|   0| 5.442417710521793|       1|    0|       0|1.100000023841858|93.99400329589844|-36.400001525878906|4.85699987411499|     5191.0|  0|0.5011489580136382|-0.8653610355694579|0.4997701026431024|0.3096228130570242|           0.0|          0.0|          0.0|\n",
            "|         28| 54| 669|      1|      982|      0|      0|   0| 5.342334251964811|       1|    0|       0|1.100000023841858|93.99400329589844|-36.400001525878906|4.85699987411499|     5191.0|  0|0.5011489580136382|-0.8653610355694579|0.4997701026431024|0.3096228130570242|           0.0|          0.0|          0.0|\n",
            "|         31| 52| 657|      0|      982|      0|      1|   0| 7.418780882750794|       1|    0|       0|1.100000023841858|93.99400329589844|-36.400001525878906|4.85699987411499|     5191.0|  0|0.5011489580136382|-0.8653610355694579|0.4997701026431024|0.3096228130570242|           0.0|          0.0|          0.0|\n",
            "|         34| 58|1538|      3|     1507|      0|      1|   0| 5.905361848054571|       1|    0|       0|1.100000023841858|93.99400329589844|-36.400001525878906|4.85699987411499|     5191.0|  0|0.5011489580136382|-0.8653610355694579|0.4997701026431024|0.3096228130570242|           0.0|          0.0|          0.0|\n",
            "|         35| 32| 242|      0|      945|      0|      1|   0| 5.752572638825633|       1|    0|       0|1.100000023841858|93.99400329589844|-36.400001525878906|4.85699987411499|     5191.0|  0|0.5011489580136382|-0.8653610355694579|0.4997701026431024|0.3096228130570242|           0.0|          0.0|          0.0|\n",
            "|         37| 57|1538|      0|     1507|      0|      0|   1|5.3612921657094255|       1|    0|       0|1.100000023841858|93.99400329589844|-36.400001525878906|4.85699987411499|     5191.0|  0|0.5011489580136382|-0.8653610355694579|0.4997701026431024|0.3096228130570242|           0.0|          0.0|          0.0|\n",
            "+-----------+---+----+-------+---------+-------+-------+----+------------------+--------+-----+--------+-----------------+-----------------+-------------------+----------------+-----------+---+------------------+-------------------+------------------+------------------+--------------+-------------+-------------+\n",
            "only showing top 20 rows\n",
            "\n"
          ]
        }
      ]
    },
    {
      "cell_type": "markdown",
      "metadata": {
        "id": "eL4K92aazjtE"
      },
      "source": [
        "**Creating Hive table**"
      ]
    },
    {
      "cell_type": "code",
      "metadata": {
        "colab": {
          "base_uri": "https://localhost:8080/"
        },
        "id": "FkHfUaHdNfYu",
        "outputId": "ccc68bc7-c6d8-41e0-8034-388181cc6f54"
      },
      "source": [
        "spark.sql(\"create table if not exists campaign as select * from final_table\")\n",
        "spark.sql(\"show tables;\").show()"
      ],
      "execution_count": null,
      "outputs": [
        {
          "output_type": "stream",
          "name": "stdout",
          "text": [
            "+---------+-----------+-----------+\n",
            "|namespace|  tableName|isTemporary|\n",
            "+---------+-----------+-----------+\n",
            "|  default|   campaign|      false|\n",
            "|         |final_table|       true|\n",
            "|         |  marketing|       true|\n",
            "+---------+-----------+-----------+\n",
            "\n"
          ]
        }
      ]
    },
    {
      "cell_type": "code",
      "metadata": {
        "colab": {
          "base_uri": "https://localhost:8080/"
        },
        "id": "Ikf0O6A8N0uO",
        "outputId": "cecae0c9-a3af-49b5-f28d-647ecf67dc20"
      },
      "source": [
        "spark.sql(\"select * from marketing;\").show()"
      ],
      "execution_count": null,
      "outputs": [
        {
          "output_type": "stream",
          "name": "stdout",
          "text": [
            "+-----------+---+------------+--------+-------------------+-------+-------+----+---------+-----+-----------+--------+--------+-----+--------+-----------+------------+--------------+-------------+---------+-----------+---+\n",
            "|Customer_id|age|         job| marital|          education|default|housing|loan|  contact|month|day_of_week|duration|campaign|pdays|previous|   poutcome|emp_var_rate|cons_price_idx|cons_conf_idx|euribor3m|nr_employed|  y|\n",
            "+-----------+---+------------+--------+-------------------+-------+-------+----+---------+-----+-----------+--------+--------+-----+--------+-----------+------------+--------------+-------------+---------+-----------+---+\n",
            "|        372| 47|      admin.| married|        high.school|unknown|     no|  no|telephone|  may|        tue|     505|       1|  999|       0|nonexistent|         1.1|        93.994|        -36.4|    4.857|     5191.0| no|\n",
            "|        395| 32| blue-collar|divorced|           basic.9y|unknown|     no|  no|telephone|  may|        tue|     309|       2|  999|       0|nonexistent|         1.1|        93.994|        -36.4|    4.857|     5191.0| no|\n",
            "|        489| 42|entrepreneur| married|           basic.6y|     no|     no|  no|telephone|  may|        tue|     179|       2|  999|       0|nonexistent|         1.1|        93.994|        -36.4|    4.857|     5191.0| no|\n",
            "|        665| 55|   housemaid| married|           basic.4y|     no|    yes| yes|telephone|  may|        tue|     211|       2|  999|       0|nonexistent|         1.1|        93.994|        -36.4|    4.857|     5191.0| no|\n",
            "|        741| 30|    services| married|  university.degree|     no|    yes|  no|telephone|  may|        wed|     425|       6|  999|       0|nonexistent|         1.1|        93.994|        -36.4|    4.856|     5191.0| no|\n",
            "|        794| 29|  technician| married|professional.course|     no|    yes|  no|telephone|  may|        wed|     192|       1|  999|       0|nonexistent|         1.1|        93.994|        -36.4|    4.856|     5191.0| no|\n",
            "|        882| 48|  management|divorced|  university.degree|     no|     no|  no|telephone|  may|        wed|     236|       2|  999|       0|nonexistent|         1.1|        93.994|        -36.4|    4.856|     5191.0| no|\n",
            "|        985| 34|  management| married|  university.degree|     no|    yes| yes|telephone|  may|        wed|     145|       1|  999|       0|nonexistent|         1.1|        93.994|        -36.4|    4.856|     5191.0| no|\n",
            "|       1160| 33|    services| married|  university.degree|     no|    yes|  no|telephone|  may|        thu|     102|       2|  999|       0|nonexistent|         1.1|        93.994|        -36.4|    4.855|     5191.0| no|\n",
            "|       1186| 31| blue-collar| married|           basic.9y|     no|    yes|  no|telephone|  may|        thu|     141|       1|  999|       0|nonexistent|         1.1|        93.994|        -36.4|    4.855|     5191.0| no|\n",
            "|       1531| 60|  management| married|  university.degree|unknown|     no|  no|telephone|  may|        fri|     490|       1|  999|       0|nonexistent|         1.1|        93.994|        -36.4|    4.855|     5191.0| no|\n",
            "|       1613| 41|  management| married|            unknown|     no|    yes|  no|telephone|  may|        fri|     129|       3|  999|       0|nonexistent|         1.1|        93.994|        -36.4|    4.855|     5191.0| no|\n",
            "|       1714| 29|      admin.| married|        high.school|     no|    yes|  no|telephone|  may|        fri|      44|       2|  999|       0|nonexistent|         1.1|        93.994|        -36.4|    4.855|     5191.0| no|\n",
            "|       1887| 28|     student|  single|  university.degree|unknown|    yes|  no|telephone|  may|        mon|     208|       1|  999|       0|nonexistent|         1.1|        93.994|        -36.4|    4.857|     5191.0| no|\n",
            "|       2083| 34|      admin.| married|professional.course|     no|    yes|  no|telephone|  may|        tue|     248|       2|  999|       0|nonexistent|         1.1|        93.994|        -36.4|    4.856|     5191.0| no|\n",
            "|       2184| 27|      admin.|  single|  university.degree|     no|    yes| yes|telephone|  may|        tue|     194|       2|  999|       0|nonexistent|         1.1|        93.994|        -36.4|    4.856|     5191.0| no|\n",
            "|       2208| 36|      admin.| married|        high.school|     no|     no|  no|telephone|  may|        tue|     753|       6|  999|       0|nonexistent|         1.1|        93.994|        -36.4|    4.856|     5191.0|yes|\n",
            "|       2225| 33|  management|  single|  university.degree|     no|    yes| yes|telephone|  may|        tue|     160|       3|  999|       0|nonexistent|         1.1|        93.994|        -36.4|    4.856|     5191.0| no|\n",
            "|       2926| 42|      admin.| married|  university.degree|     no|     no|  no|telephone|  may|        thu|     431|       1|  999|       0|nonexistent|         1.1|        93.994|        -36.4|     4.86|     5191.0| no|\n",
            "|       2987| 48|      admin.| married|professional.course|     no|    yes|  no|telephone|  may|        thu|     178|       1|  999|       0|nonexistent|         1.1|        93.994|        -36.4|     4.86|     5191.0| no|\n",
            "+-----------+---+------------+--------+-------------------+-------+-------+----+---------+-----+-----------+--------+--------+-----+--------+-----------+------------+--------------+-------------+---------+-----------+---+\n",
            "only showing top 20 rows\n",
            "\n"
          ]
        }
      ]
    },
    {
      "cell_type": "code",
      "metadata": {
        "colab": {
          "base_uri": "https://localhost:8080/"
        },
        "id": "DE0GZ9dhOnos",
        "outputId": "2f4d04a7-0b32-458c-b7b6-95c0595fe3e7"
      },
      "source": [
        "spark.sql(\"select * from final_table;\").show()"
      ],
      "execution_count": null,
      "outputs": [
        {
          "output_type": "stream",
          "name": "stdout",
          "text": [
            "+-----------+---+----+-------+---------+-------+-------+----+------------------+--------+-----+--------+-----------------+-----------------+-------------------+----------------+-----------+---+------------------+-------------------+------------------+------------------+--------------+-------------+-------------+\n",
            "|Customer_id|age| job|marital|education|default|housing|loan|          duration|campaign|pdays|previous|     emp_var_rate|   cons_price_idx|      cons_conf_idx|       euribor3m|nr_employed|  y|         month_sin|          month_cos|   day_of_week_sin|   day_of_week_cos|dummy_cellular|dummy_failure|dummy_success|\n",
            "+-----------+---+----+-------+---------+-------+-------+----+------------------+--------+-----+--------+-----------------+-----------------+-------------------+----------------+-----------+---+------------------+-------------------+------------------+------------------+--------------+-------------+-------------+\n",
            "|          1| 56| 298|      0|      945|      0|      0|   1| 5.730099782973575|       1|    0|       0|1.100000023841858|93.99400329589844|-36.400001525878906|4.85699987411499|     5191.0|  0|0.5011489580136382|-0.8653610355694579|0.4997701026431024|0.3096228130570242|           0.0|          0.0|          0.0|\n",
            "|          3| 59|1538|      0|      541|      0|      0|   0| 4.941642422609304|       1|    0|       0|1.100000023841858|93.99400329589844|-36.400001525878906|4.85699987411499|     5191.0|  0|0.5011489580136382|-0.8653610355694579|0.4997701026431024|0.3096228130570242|           0.0|          0.0|          0.0|\n",
            "|          5| 24| 657|      2|      541|      0|      1|   0| 5.942799375126701|       1|    0|       0|1.100000023841858|93.99400329589844|-36.400001525878906|4.85699987411499|     5191.0|  0|0.5011489580136382|-0.8653610355694579|0.4997701026431024|0.3096228130570242|           0.0|          0.0|          0.0|\n",
            "|          6| 25| 298|      2|      945|      0|      1|   0|3.9318256327243257|       1|    0|       0|1.100000023841858|93.99400329589844|-36.400001525878906|4.85699987411499|     5191.0|  0|0.5011489580136382|-0.8653610355694579|0.4997701026431024|0.3096228130570242|           0.0|          0.0|          0.0|\n",
            "|          9| 29| 669|      2|      945|      0|      0|   1| 4.927253685157205|       1|    0|       0|1.100000023841858|93.99400329589844|-36.400001525878906|4.85699987411499|     5191.0|  0|0.5011489580136382|-0.8653610355694579|0.4997701026431024|0.3096228130570242|           0.0|          0.0|          0.0|\n",
            "|         12| 54| 395|      0|      982|     -1|      1|   1|5.1647859739235145|       1|    0|       0|1.100000023841858|93.99400329589844|-36.400001525878906|4.85699987411499|     5191.0|  0|0.5011489580136382|-0.8653610355694579|0.4997701026431024|0.3096228130570242|           0.0|          0.0|          0.0|\n",
            "|         13| 35| 669|      0|      982|      0|      1|   0| 5.746203190540153|       1|    0|       0|1.100000023841858|93.99400329589844|-36.400001525878906|4.85699987411499|     5191.0|  0|0.5011489580136382|-0.8653610355694579|0.4997701026431024|0.3096228130570242|           0.0|          0.0|          0.0|\n",
            "|         15| 50| 669|      0|      982|      0|      1|   1| 5.869296913133774|       1|    0|       0|1.100000023841858|93.99400329589844|-36.400001525878906|4.85699987411499|     5191.0|  0|0.5011489580136382|-0.8653610355694579|0.4997701026431024|0.3096228130570242|           0.0|          0.0|          0.0|\n",
            "|         16| 39|1538|      2|      982|     -1|      0|   0| 5.278114659230518|       1|    0|       0|1.100000023841858|93.99400329589844|-36.400001525878906|4.85699987411499|     5191.0|  0|0.5011489580136382|-0.8653610355694579|0.4997701026431024|0.3096228130570242|           0.0|          0.0|          0.0|\n",
            "|         17| 55| 669|      0|      982|     -1|      1|   0| 5.572154032177765|       1|    0|       0|1.100000023841858|93.99400329589844|-36.400001525878906|4.85699987411499|     5191.0|  0|0.5011489580136382|-0.8653610355694579|0.4997701026431024|0.3096228130570242|           0.0|          0.0|          0.0|\n",
            "|         19| 41| 657|      2|      945|      0|      1|   0| 5.204006687076795|       1|    0|       0|1.100000023841858|93.99400329589844|-36.400001525878906|4.85699987411499|     5191.0|  0|0.5011489580136382|-0.8653610355694579|0.4997701026431024|0.3096228130570242|           0.0|          0.0|          0.0|\n",
            "|         20| 37|1538|      0|      945|      0|      1|   0| 5.153291594497779|       1|    0|       0|1.100000023841858|93.99400329589844|-36.400001525878906|4.85699987411499|     5191.0|  0|0.5011489580136382|-0.8653610355694579|0.4997701026431024|0.3096228130570242|           0.0|          0.0|          0.0|\n",
            "|         22| 59| 657|      0|      231|      0|      1|   0| 4.543294782270004|       1|    0|       0|1.100000023841858|93.99400329589844|-36.400001525878906|4.85699987411499|     5191.0|  0|0.5011489580136382|-0.8653610355694579|0.4997701026431024|0.3096228130570242|           0.0|          0.0|          0.0|\n",
            "|         26| 49| 669|      0|      231|      0|      0|   0| 4.304065093204169|       1|    0|       0|1.100000023841858|93.99400329589844|-36.400001525878906|4.85699987411499|     5191.0|  0|0.5011489580136382|-0.8653610355694579|0.4997701026431024|0.3096228130570242|           0.0|          0.0|          0.0|\n",
            "|         27| 54|1538|      0|      982|     -1|      1|   0| 5.442417710521793|       1|    0|       0|1.100000023841858|93.99400329589844|-36.400001525878906|4.85699987411499|     5191.0|  0|0.5011489580136382|-0.8653610355694579|0.4997701026431024|0.3096228130570242|           0.0|          0.0|          0.0|\n",
            "|         28| 54| 669|      1|      982|      0|      0|   0| 5.342334251964811|       1|    0|       0|1.100000023841858|93.99400329589844|-36.400001525878906|4.85699987411499|     5191.0|  0|0.5011489580136382|-0.8653610355694579|0.4997701026431024|0.3096228130570242|           0.0|          0.0|          0.0|\n",
            "|         31| 52| 657|      0|      982|      0|      1|   0| 7.418780882750794|       1|    0|       0|1.100000023841858|93.99400329589844|-36.400001525878906|4.85699987411499|     5191.0|  0|0.5011489580136382|-0.8653610355694579|0.4997701026431024|0.3096228130570242|           0.0|          0.0|          0.0|\n",
            "|         34| 58|1538|      3|     1507|      0|      1|   0| 5.905361848054571|       1|    0|       0|1.100000023841858|93.99400329589844|-36.400001525878906|4.85699987411499|     5191.0|  0|0.5011489580136382|-0.8653610355694579|0.4997701026431024|0.3096228130570242|           0.0|          0.0|          0.0|\n",
            "|         35| 32| 242|      0|      945|      0|      1|   0| 5.752572638825633|       1|    0|       0|1.100000023841858|93.99400329589844|-36.400001525878906|4.85699987411499|     5191.0|  0|0.5011489580136382|-0.8653610355694579|0.4997701026431024|0.3096228130570242|           0.0|          0.0|          0.0|\n",
            "|         37| 57|1538|      0|     1507|      0|      0|   1|5.3612921657094255|       1|    0|       0|1.100000023841858|93.99400329589844|-36.400001525878906|4.85699987411499|     5191.0|  0|0.5011489580136382|-0.8653610355694579|0.4997701026431024|0.3096228130570242|           0.0|          0.0|          0.0|\n",
            "+-----------+---+----+-------+---------+-------+-------+----+------------------+--------+-----+--------+-----------------+-----------------+-------------------+----------------+-----------+---+------------------+-------------------+------------------+------------------+--------------+-------------+-------------+\n",
            "only showing top 20 rows\n",
            "\n"
          ]
        }
      ]
    },
    {
      "cell_type": "code",
      "metadata": {
        "colab": {
          "base_uri": "https://localhost:8080/"
        },
        "id": "2MMbSCZCOxDL",
        "outputId": "7c61a514-1bde-4738-c121-491ff9d6b15c"
      },
      "source": [
        "spark.sql(\"select count(*) from final_table\").show()"
      ],
      "execution_count": null,
      "outputs": [
        {
          "output_type": "stream",
          "name": "stdout",
          "text": [
            "+--------+\n",
            "|count(1)|\n",
            "+--------+\n",
            "|   37084|\n",
            "+--------+\n",
            "\n"
          ]
        }
      ]
    },
    {
      "cell_type": "code",
      "metadata": {
        "colab": {
          "base_uri": "https://localhost:8080/"
        },
        "id": "JNa5LcmHO_2R",
        "outputId": "49fcbcf0-876f-48ac-ce84-0565a4de6569"
      },
      "source": [
        "spark.sql(\"describe final_table;\").show(30)"
      ],
      "execution_count": null,
      "outputs": [
        {
          "output_type": "stream",
          "name": "stdout",
          "text": [
            "+---------------+---------+-------+\n",
            "|       col_name|data_type|comment|\n",
            "+---------------+---------+-------+\n",
            "|    Customer_id|   bigint|   null|\n",
            "|            age|   bigint|   null|\n",
            "|            job|      int|   null|\n",
            "|        marital|   bigint|   null|\n",
            "|      education|      int|   null|\n",
            "|        default|   bigint|   null|\n",
            "|        housing|   bigint|   null|\n",
            "|           loan|   bigint|   null|\n",
            "|       duration|   double|   null|\n",
            "|       campaign|   bigint|   null|\n",
            "|          pdays|   bigint|   null|\n",
            "|       previous|   bigint|   null|\n",
            "|   emp_var_rate|   double|   null|\n",
            "| cons_price_idx|   double|   null|\n",
            "|  cons_conf_idx|   double|   null|\n",
            "|      euribor3m|   double|   null|\n",
            "|    nr_employed|   double|   null|\n",
            "|              y|   bigint|   null|\n",
            "|      month_sin|   double|   null|\n",
            "|      month_cos|   double|   null|\n",
            "|day_of_week_sin|   double|   null|\n",
            "|day_of_week_cos|   double|   null|\n",
            "| dummy_cellular|   double|   null|\n",
            "|  dummy_failure|   double|   null|\n",
            "|  dummy_success|   double|   null|\n",
            "+---------------+---------+-------+\n",
            "\n"
          ]
        }
      ]
    },
    {
      "cell_type": "markdown",
      "metadata": {
        "id": "R8jxRUZxzr5r"
      },
      "source": [
        "**Writing to paraquet format**"
      ]
    },
    {
      "cell_type": "code",
      "metadata": {
        "id": "zUNgyvDcRWes"
      },
      "source": [
        "finaldf.write.parquet(\"/content/drive/MyDrive/marketing_data/transformed_files/marketing_campaign.parquet\")"
      ],
      "execution_count": null,
      "outputs": []
    },
    {
      "cell_type": "code",
      "metadata": {
        "colab": {
          "base_uri": "https://localhost:8080/"
        },
        "id": "IOhSb0XQSeLA",
        "outputId": "cd2ad97d-506d-4592-fda7-1c13b4ee5edf"
      },
      "source": [
        "ls /content/drive/MyDrive/marketing_data/transformed_files/"
      ],
      "execution_count": null,
      "outputs": [
        {
          "output_type": "stream",
          "name": "stdout",
          "text": [
            "\u001b[0m\u001b[01;34mclean_marketing_campaign.csv\u001b[0m/  \u001b[01;34mmarketing_campaign.parquet\u001b[0m/  newdf.csv\n"
          ]
        }
      ]
    },
    {
      "cell_type": "markdown",
      "metadata": {
        "id": "Uk5HlZ-vz6lU"
      },
      "source": [
        "**Reading from paraquet format to a spark dataframe**"
      ]
    },
    {
      "cell_type": "code",
      "metadata": {
        "colab": {
          "base_uri": "https://localhost:8080/"
        },
        "id": "keQSJ_YMToDE",
        "outputId": "9919dc0b-cff0-4e44-e0d3-24faed32837c"
      },
      "source": [
        "ls /content/drive/MyDrive/marketing_data/transformed_files/marketing_campaign.parquet/"
      ],
      "execution_count": null,
      "outputs": [
        {
          "output_type": "stream",
          "name": "stdout",
          "text": [
            "part-00000-ad0169eb-bfec-4103-bb0c-d8514475faef-c000.snappy.parquet  _SUCCESS\n",
            "part-00001-ad0169eb-bfec-4103-bb0c-d8514475faef-c000.snappy.parquet\n"
          ]
        }
      ]
    },
    {
      "cell_type": "code",
      "metadata": {
        "id": "N62_QPPmSfQc"
      },
      "source": [
        "paraquet_marketing_df = spark.read.parquet(\"/content/drive/MyDrive/marketing_data/transformed_files/marketing_campaign.parquet\")"
      ],
      "execution_count": null,
      "outputs": []
    },
    {
      "cell_type": "code",
      "metadata": {
        "colab": {
          "base_uri": "https://localhost:8080/"
        },
        "id": "z_5SIpSpUOC3",
        "outputId": "b9a5206e-ccf2-45e5-8c25-9cd2d59d5b09"
      },
      "source": [
        "paraquet_marketing_df.show()"
      ],
      "execution_count": null,
      "outputs": [
        {
          "output_type": "stream",
          "name": "stdout",
          "text": [
            "+-----------+---+----+-------+---------+-------+-------+----+------------------+--------+-----+--------+-----------------+-----------------+-------------------+----------------+-----------+---+------------------+-------------------+------------------+------------------+--------------+-------------+-------------+\n",
            "|Customer_id|age| job|marital|education|default|housing|loan|          duration|campaign|pdays|previous|     emp_var_rate|   cons_price_idx|      cons_conf_idx|       euribor3m|nr_employed|  y|         month_sin|          month_cos|   day_of_week_sin|   day_of_week_cos|dummy_cellular|dummy_failure|dummy_success|\n",
            "+-----------+---+----+-------+---------+-------+-------+----+------------------+--------+-----+--------+-----------------+-----------------+-------------------+----------------+-----------+---+------------------+-------------------+------------------+------------------+--------------+-------------+-------------+\n",
            "|          2| 45| 298|      0|      982|     -1|      0|   0| 5.293304824724492|       1|    0|       0|1.100000023841858|93.99400329589844|-36.400001525878906|4.85699987411499|     5191.0|  0|0.5011489580136382|-0.8653610355694579|0.4997701026431024|0.3096228130570242|           0.0|          0.0|          0.0|\n",
            "|          4| 41| 669|      0|      231|     -1|      0|   0| 5.384495062789089|       1|    0|       0|1.100000023841858|93.99400329589844|-36.400001525878906|4.85699987411499|     5191.0|  0|0.5011489580136382|-0.8653610355694579|0.4997701026431024|0.3096228130570242|           0.0|          0.0|          0.0|\n",
            "|          7| 41| 669|      0|      231|     -1|      0|   0|  4.02535169073515|       1|    0|       0|1.100000023841858|93.99400329589844|-36.400001525878906|4.85699987411499|     5191.0|  0|0.5011489580136382|-0.8653610355694579|0.4997701026431024|0.3096228130570242|           0.0|          0.0|          0.0|\n",
            "|          8| 25| 298|      2|      945|      0|      1|   0| 5.407171771460119|       1|    0|       0|1.100000023841858|93.99400329589844|-36.400001525878906|4.85699987411499|     5191.0|  0|0.5011489580136382|-0.8653610355694579|0.4997701026431024|0.3096228130570242|           0.0|          0.0|          0.0|\n",
            "|         10| 57| 669|      1|      982|      0|      1|   0| 5.683579767338681|       1|    0|       0|1.100000023841858|93.99400329589844|-36.400001525878906|4.85699987411499|     5191.0|  0|0.5011489580136382|-0.8653610355694579|0.4997701026431024|0.3096228130570242|           0.0|          0.0|          0.0|\n",
            "|         11| 35| 669|      0|      982|      0|      1|   0| 4.990432586778736|       1|    0|       0|1.100000023841858|93.99400329589844|-36.400001525878906|4.85699987411499|     5191.0|  0|0.5011489580136382|-0.8653610355694579|0.4997701026431024|0.3096228130570242|           0.0|          0.0|          0.0|\n",
            "|         14| 46| 669|      0|      982|     -1|      1|   1| 6.089044875446846|       1|    0|       0|1.100000023841858|93.99400329589844|-36.400001525878906|4.85699987411499|     5191.0|  0|0.5011489580136382|-0.8653610355694579|0.4997701026431024|0.3096228130570242|           0.0|          0.0|          0.0|\n",
            "|         18| 55| 395|      2|      945|      0|      1|   0|  5.83773044716594|       1|    0|       0|1.100000023841858|93.99400329589844|-36.400001525878906|4.85699987411499|     5191.0|  0|0.5011489580136382|-0.8653610355694579|0.4997701026431024|0.3096228130570242|           0.0|          0.0|          0.0|\n",
            "|         21| 35| 657|      0|     1507|      0|      0|   1| 4.605170185988092|       1|    0|       0|1.100000023841858|93.99400329589844|-36.400001525878906|4.85699987411499|     5191.0|  0|0.5011489580136382|-0.8653610355694579|0.4997701026431024|0.3096228130570242|           0.0|          0.0|          0.0|\n",
            "|         23| 54| 657|      2|     1507|     -1|      0|   0| 5.545177444479562|       2|    0|       0|1.100000023841858|93.99400329589844|-36.400001525878906|4.85699987411499|     5191.0|  0|0.5011489580136382|-0.8653610355694579|0.4997701026431024|0.3096228130570242|           0.0|          0.0|          0.0|\n",
            "|         24| 55|  35|      0|     1507|     -1|     -1|  -1|5.8944028342648505|       1|    0|       0|1.100000023841858|93.99400329589844|-36.400001525878906|4.85699987411499|     5191.0|  0|0.5011489580136382|-0.8653610355694579|0.4997701026431024|0.3096228130570242|           0.0|          0.0|          0.0|\n",
            "|         25| 46|1538|      0|      231|      0|      0|   0| 5.855071922202427|       1|    0|       0|1.100000023841858|93.99400329589844|-36.400001525878906|4.85699987411499|     5191.0|  0|0.5011489580136382|-0.8653610355694579|0.4997701026431024|0.3096228130570242|           0.0|          0.0|          0.0|\n",
            "|         29| 55|  35|      0|      982|     -1|      1|   0| 5.820082930352362|       1|    0|       0|1.100000023841858|93.99400329589844|-36.400001525878906|4.85699987411499|     5191.0|  0|0.5011489580136382|-0.8653610355694579|0.4997701026431024|0.3096228130570242|           0.0|          0.0|          0.0|\n",
            "|         30| 34| 298|      0|      945|      0|      0|   0| 5.902633333401366|       1|    0|       0|1.100000023841858|93.99400329589844|-36.400001525878906|4.85699987411499|     5191.0|  0|0.5011489580136382|-0.8653610355694579|0.4997701026431024|0.3096228130570242|           0.0|          0.0|          0.0|\n",
            "|         32| 41|1538|      0|     1507|      0|      1|   0| 6.359573868672378|       1|    0|       0|1.100000023841858|93.99400329589844|-36.400001525878906|4.85699987411499|     5191.0|  0|0.5011489580136382|-0.8653610355694579|0.4997701026431024|0.3096228130570242|           0.0|          0.0|          0.0|\n",
            "|         33| 56| 657|      0|      982|      0|      1|   0| 4.927253685157205|       1|    0|       0|1.100000023841858|93.99400329589844|-36.400001525878906|4.85699987411499|     5191.0|  0|0.5011489580136382|-0.8653610355694579|0.4997701026431024|0.3096228130570242|           0.0|          0.0|          0.0|\n",
            "|         36| 38|1538|      2|      541|      0|      0|   0| 5.081404364984463|       1|    0|       0|1.100000023841858|93.99400329589844|-36.400001525878906|4.85699987411499|     5191.0|  0|0.5011489580136382|-0.8653610355694579|0.4997701026431024|0.3096228130570242|           0.0|          0.0|          0.0|\n",
            "|         38| 44|1538|      0|     1507|     -1|      1|   0| 5.241747015059643|       1|    0|       0|1.100000023841858|93.99400329589844|-36.400001525878906|4.85699987411499|     5191.0|  0|0.5011489580136382|-0.8653610355694579|0.4997701026431024|0.3096228130570242|           0.0|          0.0|          0.0|\n",
            "|         39| 42| 657|      2|      541|     -1|      0|   0|3.1354942159291497|       1|    0|       0|1.100000023841858|93.99400329589844|-36.400001525878906|4.85699987411499|     5191.0|  0|0.5011489580136382|-0.8653610355694579|0.4997701026431024|0.3096228130570242|           0.0|          0.0|          0.0|\n",
            "|         42| 35|1538|      0|     1507|      0|      1|   0|  5.87493073085203|       1|    0|       0|1.100000023841858|93.99400329589844|-36.400001525878906|4.85699987411499|     5191.0|  0|0.5011489580136382|-0.8653610355694579|0.4997701026431024|0.3096228130570242|           0.0|          0.0|          0.0|\n",
            "+-----------+---+----+-------+---------+-------+-------+----+------------------+--------+-----+--------+-----------------+-----------------+-------------------+----------------+-----------+---+------------------+-------------------+------------------+------------------+--------------+-------------+-------------+\n",
            "only showing top 20 rows\n",
            "\n"
          ]
        }
      ]
    },
    {
      "cell_type": "markdown",
      "metadata": {
        "id": "wRgM4InX0PHS"
      },
      "source": [
        "**Standardization using Standard Scaler**"
      ]
    },
    {
      "cell_type": "code",
      "metadata": {
        "colab": {
          "base_uri": "https://localhost:8080/"
        },
        "id": "gE5ZEif00Psa",
        "outputId": "8ed1f548-0cda-4328-c4f8-d8335c6813c0"
      },
      "source": [
        "categorical_val=['job','marital', 'education', 'default', 'housing', 'loan',\n",
        "       'day_of_week_cos','y', 'day_of_week_sin', 'month_sin','month_cos','dummy_telephone','dummy_nonexistent','dummy_success']\n",
        "scale=[feature for feature in paraquet_marketing_df.columns if feature not in categorical_val]\n",
        "\n",
        "from pyspark.ml.feature import VectorAssembler,StandardScaler\n",
        "vector_assembler=VectorAssembler(inputCols=scale,outputCol=\"SS_features\")\n",
        "temp_data=vector_assembler.transform(paraquet_marketing_df)\n",
        "temp_data.select(\"SS_features\").show()"
      ],
      "execution_count": null,
      "outputs": [
        {
          "output_type": "stream",
          "name": "stdout",
          "text": [
            "+--------------------+\n",
            "|         SS_features|\n",
            "+--------------------+\n",
            "|[2.0,45.0,5.29330...|\n",
            "|[4.0,41.0,5.38449...|\n",
            "|[7.0,41.0,4.02535...|\n",
            "|[8.0,25.0,5.40717...|\n",
            "|[10.0,57.0,5.6835...|\n",
            "|[11.0,35.0,4.9904...|\n",
            "|[14.0,46.0,6.0890...|\n",
            "|[18.0,55.0,5.8377...|\n",
            "|[21.0,35.0,4.6051...|\n",
            "|[23.0,54.0,5.5451...|\n",
            "|[24.0,55.0,5.8944...|\n",
            "|[25.0,46.0,5.8550...|\n",
            "|[29.0,55.0,5.8200...|\n",
            "|[30.0,34.0,5.9026...|\n",
            "|[32.0,41.0,6.3595...|\n",
            "|[33.0,56.0,4.9272...|\n",
            "|[36.0,38.0,5.0814...|\n",
            "|[38.0,44.0,5.2417...|\n",
            "|[39.0,42.0,3.1354...|\n",
            "|[42.0,35.0,5.8749...|\n",
            "+--------------------+\n",
            "only showing top 20 rows\n",
            "\n"
          ]
        }
      ]
    },
    {
      "cell_type": "code",
      "metadata": {
        "colab": {
          "base_uri": "https://localhost:8080/"
        },
        "id": "eEqHr47u0ru_",
        "outputId": "774575a1-2f38-4466-9c22-383bd4b1b50d"
      },
      "source": [
        "temp_data.show(10)"
      ],
      "execution_count": null,
      "outputs": [
        {
          "output_type": "stream",
          "name": "stdout",
          "text": [
            "+-----------+---+---+-------+---------+-------+-------+----+-----------------+--------+-----+--------+-----------------+-----------------+-------------------+----------------+-----------+---+------------------+-------------------+------------------+------------------+--------------+-------------+-------------+--------------------+\n",
            "|Customer_id|age|job|marital|education|default|housing|loan|         duration|campaign|pdays|previous|     emp_var_rate|   cons_price_idx|      cons_conf_idx|       euribor3m|nr_employed|  y|         month_sin|          month_cos|   day_of_week_sin|   day_of_week_cos|dummy_cellular|dummy_failure|dummy_success|         SS_features|\n",
            "+-----------+---+---+-------+---------+-------+-------+----+-----------------+--------+-----+--------+-----------------+-----------------+-------------------+----------------+-----------+---+------------------+-------------------+------------------+------------------+--------------+-------------+-------------+--------------------+\n",
            "|          2| 45|298|      0|      982|     -1|      0|   0|5.293304824724492|       1|    0|       0|1.100000023841858|93.99400329589844|-36.400001525878906|4.85699987411499|     5191.0|  0|0.5011489580136382|-0.8653610355694579|0.4997701026431024|0.3096228130570242|           0.0|          0.0|          0.0|[2.0,45.0,5.29330...|\n",
            "|          4| 41|669|      0|      231|     -1|      0|   0|5.384495062789089|       1|    0|       0|1.100000023841858|93.99400329589844|-36.400001525878906|4.85699987411499|     5191.0|  0|0.5011489580136382|-0.8653610355694579|0.4997701026431024|0.3096228130570242|           0.0|          0.0|          0.0|[4.0,41.0,5.38449...|\n",
            "|          7| 41|669|      0|      231|     -1|      0|   0| 4.02535169073515|       1|    0|       0|1.100000023841858|93.99400329589844|-36.400001525878906|4.85699987411499|     5191.0|  0|0.5011489580136382|-0.8653610355694579|0.4997701026431024|0.3096228130570242|           0.0|          0.0|          0.0|[7.0,41.0,4.02535...|\n",
            "|          8| 25|298|      2|      945|      0|      1|   0|5.407171771460119|       1|    0|       0|1.100000023841858|93.99400329589844|-36.400001525878906|4.85699987411499|     5191.0|  0|0.5011489580136382|-0.8653610355694579|0.4997701026431024|0.3096228130570242|           0.0|          0.0|          0.0|[8.0,25.0,5.40717...|\n",
            "|         10| 57|669|      1|      982|      0|      1|   0|5.683579767338681|       1|    0|       0|1.100000023841858|93.99400329589844|-36.400001525878906|4.85699987411499|     5191.0|  0|0.5011489580136382|-0.8653610355694579|0.4997701026431024|0.3096228130570242|           0.0|          0.0|          0.0|[10.0,57.0,5.6835...|\n",
            "|         11| 35|669|      0|      982|      0|      1|   0|4.990432586778736|       1|    0|       0|1.100000023841858|93.99400329589844|-36.400001525878906|4.85699987411499|     5191.0|  0|0.5011489580136382|-0.8653610355694579|0.4997701026431024|0.3096228130570242|           0.0|          0.0|          0.0|[11.0,35.0,4.9904...|\n",
            "|         14| 46|669|      0|      982|     -1|      1|   1|6.089044875446846|       1|    0|       0|1.100000023841858|93.99400329589844|-36.400001525878906|4.85699987411499|     5191.0|  0|0.5011489580136382|-0.8653610355694579|0.4997701026431024|0.3096228130570242|           0.0|          0.0|          0.0|[14.0,46.0,6.0890...|\n",
            "|         18| 55|395|      2|      945|      0|      1|   0| 5.83773044716594|       1|    0|       0|1.100000023841858|93.99400329589844|-36.400001525878906|4.85699987411499|     5191.0|  0|0.5011489580136382|-0.8653610355694579|0.4997701026431024|0.3096228130570242|           0.0|          0.0|          0.0|[18.0,55.0,5.8377...|\n",
            "|         21| 35|657|      0|     1507|      0|      0|   1|4.605170185988092|       1|    0|       0|1.100000023841858|93.99400329589844|-36.400001525878906|4.85699987411499|     5191.0|  0|0.5011489580136382|-0.8653610355694579|0.4997701026431024|0.3096228130570242|           0.0|          0.0|          0.0|[21.0,35.0,4.6051...|\n",
            "|         23| 54|657|      2|     1507|     -1|      0|   0|5.545177444479562|       2|    0|       0|1.100000023841858|93.99400329589844|-36.400001525878906|4.85699987411499|     5191.0|  0|0.5011489580136382|-0.8653610355694579|0.4997701026431024|0.3096228130570242|           0.0|          0.0|          0.0|[23.0,54.0,5.5451...|\n",
            "+-----------+---+---+-------+---------+-------+-------+----+-----------------+--------+-----+--------+-----------------+-----------------+-------------------+----------------+-----------+---+------------------+-------------------+------------------+------------------+--------------+-------------+-------------+--------------------+\n",
            "only showing top 10 rows\n",
            "\n"
          ]
        }
      ]
    },
    {
      "cell_type": "code",
      "metadata": {
        "colab": {
          "base_uri": "https://localhost:8080/"
        },
        "id": "94YsxZvO0ylD",
        "outputId": "2d9abfc5-15fa-4f49-8e79-ec895824b4d4"
      },
      "source": [
        "standard_scaler=StandardScaler(inputCol=\"SS_features\",outputCol=\"scaled\")\n",
        "ss_df=standard_scaler.fit(temp_data).transform(temp_data)\n",
        "ss_df.show(5)"
      ],
      "execution_count": null,
      "outputs": [
        {
          "output_type": "stream",
          "name": "stdout",
          "text": [
            "+-----------+---+---+-------+---------+-------+-------+----+-----------------+--------+-----+--------+-----------------+-----------------+-------------------+----------------+-----------+---+------------------+-------------------+------------------+------------------+--------------+-------------+-------------+--------------------+--------------------+\n",
            "|Customer_id|age|job|marital|education|default|housing|loan|         duration|campaign|pdays|previous|     emp_var_rate|   cons_price_idx|      cons_conf_idx|       euribor3m|nr_employed|  y|         month_sin|          month_cos|   day_of_week_sin|   day_of_week_cos|dummy_cellular|dummy_failure|dummy_success|         SS_features|              scaled|\n",
            "+-----------+---+---+-------+---------+-------+-------+----+-----------------+--------+-----+--------+-----------------+-----------------+-------------------+----------------+-----------+---+------------------+-------------------+------------------+------------------+--------------+-------------+-------------+--------------------+--------------------+\n",
            "|          2| 45|298|      0|      982|     -1|      0|   0|5.293304824724492|       1|    0|       0|1.100000023841858|93.99400329589844|-36.400001525878906|4.85699987411499|     5191.0|  0|0.5011489580136382|-0.8653610355694579|0.4997701026431024|0.3096228130570242|           0.0|          0.0|          0.0|[2.0,45.0,5.29330...|[1.86822074745654...|\n",
            "|          4| 41|669|      0|      231|     -1|      0|   0|5.384495062789089|       1|    0|       0|1.100000023841858|93.99400329589844|-36.400001525878906|4.85699987411499|     5191.0|  0|0.5011489580136382|-0.8653610355694579|0.4997701026431024|0.3096228130570242|           0.0|          0.0|          0.0|[4.0,41.0,5.38449...|[3.73644149491309...|\n",
            "|          7| 41|669|      0|      231|     -1|      0|   0| 4.02535169073515|       1|    0|       0|1.100000023841858|93.99400329589844|-36.400001525878906|4.85699987411499|     5191.0|  0|0.5011489580136382|-0.8653610355694579|0.4997701026431024|0.3096228130570242|           0.0|          0.0|          0.0|[7.0,41.0,4.02535...|[6.53877261609791...|\n",
            "|          8| 25|298|      2|      945|      0|      1|   0|5.407171771460119|       1|    0|       0|1.100000023841858|93.99400329589844|-36.400001525878906|4.85699987411499|     5191.0|  0|0.5011489580136382|-0.8653610355694579|0.4997701026431024|0.3096228130570242|           0.0|          0.0|          0.0|[8.0,25.0,5.40717...|[7.47288298982618...|\n",
            "|         10| 57|669|      1|      982|      0|      1|   0|5.683579767338681|       1|    0|       0|1.100000023841858|93.99400329589844|-36.400001525878906|4.85699987411499|     5191.0|  0|0.5011489580136382|-0.8653610355694579|0.4997701026431024|0.3096228130570242|           0.0|          0.0|          0.0|[10.0,57.0,5.6835...|[9.34110373728273...|\n",
            "+-----------+---+---+-------+---------+-------+-------+----+-----------------+--------+-----+--------+-----------------+-----------------+-------------------+----------------+-----------+---+------------------+-------------------+------------------+------------------+--------------+-------------+-------------+--------------------+--------------------+\n",
            "only showing top 5 rows\n",
            "\n"
          ]
        }
      ]
    },
    {
      "cell_type": "code",
      "metadata": {
        "colab": {
          "base_uri": "https://localhost:8080/"
        },
        "id": "dDVLQssA1AUr",
        "outputId": "ea822266-e6b0-41d5-e6aa-b0bf90b2cb11"
      },
      "source": [
        "ss_df.select(\"scaled\").show(5,truncate=False)"
      ],
      "execution_count": null,
      "outputs": [
        {
          "output_type": "stream",
          "name": "stdout",
          "text": [
            "+----------------------------------------------------------------------------------------------------------------------------------------------------------------------------------------------+\n",
            "|scaled                                                                                                                                                                                        |\n",
            "+----------------------------------------------------------------------------------------------------------------------------------------------------------------------------------------------+\n",
            "|[1.8682207474565471E-4,4.313251320483523,5.75877647315365,0.36093124509827934,0.0,0.0,0.7010848602364751,162.48075722958168,-7.8753020013240675,2.8010832902241463,71.90090712237155,0.0,0.0] |\n",
            "|[3.7364414949130943E-4,3.9298512031072104,5.85798560902181,0.36093124509827934,0.0,0.0,0.7010848602364751,162.48075722958168,-7.8753020013240675,2.8010832902241463,71.90090712237155,0.0,0.0]|\n",
            "|[6.538772616097915E-4,3.9298512031072104,4.379324709300373,0.36093124509827934,0.0,0.0,0.7010848602364751,162.48075722958168,-7.8753020013240675,2.8010832902241463,71.90090712237155,0.0,0.0]|\n",
            "|[7.472882989826189E-4,2.3962507336019576,5.882656415013053,0.36093124509827934,0.0,0.0,0.7010848602364751,162.48075722958168,-7.8753020013240675,2.8010832902241463,71.90090712237155,0.0,0.0]|\n",
            "|[9.341103737282735E-4,5.463451672612463,6.1833706032876465,0.36093124509827934,0.0,0.0,0.7010848602364751,162.48075722958168,-7.8753020013240675,2.8010832902241463,71.90090712237155,0.0,0.0]|\n",
            "+----------------------------------------------------------------------------------------------------------------------------------------------------------------------------------------------+\n",
            "only showing top 5 rows\n",
            "\n"
          ]
        }
      ]
    },
    {
      "cell_type": "markdown",
      "metadata": {
        "id": "4TuLgTnf1TLc"
      },
      "source": [
        "**Splitting Train/Test Data**"
      ]
    },
    {
      "cell_type": "code",
      "metadata": {
        "colab": {
          "base_uri": "https://localhost:8080/"
        },
        "id": "DRNmDrXH1Sv4",
        "outputId": "7bf6724b-1480-4312-c751-1489804fc69f"
      },
      "source": [
        "train,test=ss_df.randomSplit([0.7,0.3],seed=7)\n",
        "print(f\"Train set length:{train.count()} records\")\n",
        "print(f\"Test set length:{test.count()} records\")"
      ],
      "execution_count": null,
      "outputs": [
        {
          "output_type": "stream",
          "name": "stdout",
          "text": [
            "Train set length:25951 records\n",
            "Test set length:11133 records\n"
          ]
        }
      ]
    },
    {
      "cell_type": "code",
      "metadata": {
        "colab": {
          "base_uri": "https://localhost:8080/"
        },
        "id": "rAhWVJc21CNq",
        "outputId": "8ad0ec3b-85b8-43be-ce21-36e9c6a08c01"
      },
      "source": [
        "train.show(2)"
      ],
      "execution_count": null,
      "outputs": [
        {
          "output_type": "stream",
          "name": "stdout",
          "text": [
            "+-----------+---+---+-------+---------+-------+-------+----+-----------------+--------+-----+--------+-----------------+-----------------+-------------------+----------------+-----------+---+------------------+-------------------+------------------+------------------+--------------+-------------+-------------+--------------------+--------------------+\n",
            "|Customer_id|age|job|marital|education|default|housing|loan|         duration|campaign|pdays|previous|     emp_var_rate|   cons_price_idx|      cons_conf_idx|       euribor3m|nr_employed|  y|         month_sin|          month_cos|   day_of_week_sin|   day_of_week_cos|dummy_cellular|dummy_failure|dummy_success|         SS_features|              scaled|\n",
            "+-----------+---+---+-------+---------+-------+-------+----+-----------------+--------+-----+--------+-----------------+-----------------+-------------------+----------------+-----------+---+------------------+-------------------+------------------+------------------+--------------+-------------+-------------+--------------------+--------------------+\n",
            "|          2| 45|298|      0|      982|     -1|      0|   0|5.293304824724492|       1|    0|       0|1.100000023841858|93.99400329589844|-36.400001525878906|4.85699987411499|     5191.0|  0|0.5011489580136382|-0.8653610355694579|0.4997701026431024|0.3096228130570242|           0.0|          0.0|          0.0|[2.0,45.0,5.29330...|[1.86822074745654...|\n",
            "|          4| 41|669|      0|      231|     -1|      0|   0|5.384495062789089|       1|    0|       0|1.100000023841858|93.99400329589844|-36.400001525878906|4.85699987411499|     5191.0|  0|0.5011489580136382|-0.8653610355694579|0.4997701026431024|0.3096228130570242|           0.0|          0.0|          0.0|[4.0,41.0,5.38449...|[3.73644149491309...|\n",
            "+-----------+---+---+-------+---------+-------+-------+----+-----------------+--------+-----+--------+-----------------+-----------------+-------------------+----------------+-----------+---+------------------+-------------------+------------------+------------------+--------------+-------------+-------------+--------------------+--------------------+\n",
            "only showing top 2 rows\n",
            "\n"
          ]
        }
      ]
    },
    {
      "cell_type": "code",
      "metadata": {
        "colab": {
          "base_uri": "https://localhost:8080/"
        },
        "id": "YEDr1Y-81leS",
        "outputId": "dd3368a1-a055-4955-8f82-38caa788aaf7"
      },
      "source": [
        "train.printSchema()"
      ],
      "execution_count": null,
      "outputs": [
        {
          "output_type": "stream",
          "name": "stdout",
          "text": [
            "root\n",
            " |-- Customer_id: long (nullable = true)\n",
            " |-- age: long (nullable = true)\n",
            " |-- job: integer (nullable = true)\n",
            " |-- marital: long (nullable = true)\n",
            " |-- education: integer (nullable = true)\n",
            " |-- default: long (nullable = true)\n",
            " |-- housing: long (nullable = true)\n",
            " |-- loan: long (nullable = true)\n",
            " |-- duration: double (nullable = true)\n",
            " |-- campaign: long (nullable = true)\n",
            " |-- pdays: long (nullable = true)\n",
            " |-- previous: long (nullable = true)\n",
            " |-- emp_var_rate: double (nullable = true)\n",
            " |-- cons_price_idx: double (nullable = true)\n",
            " |-- cons_conf_idx: double (nullable = true)\n",
            " |-- euribor3m: double (nullable = true)\n",
            " |-- nr_employed: double (nullable = true)\n",
            " |-- y: long (nullable = true)\n",
            " |-- month_sin: double (nullable = true)\n",
            " |-- month_cos: double (nullable = true)\n",
            " |-- day_of_week_sin: double (nullable = true)\n",
            " |-- day_of_week_cos: double (nullable = true)\n",
            " |-- dummy_cellular: double (nullable = true)\n",
            " |-- dummy_failure: double (nullable = true)\n",
            " |-- dummy_success: double (nullable = true)\n",
            " |-- SS_features: vector (nullable = true)\n",
            " |-- scaled: vector (nullable = true)\n",
            "\n"
          ]
        }
      ]
    },
    {
      "cell_type": "markdown",
      "metadata": {
        "id": "s5n3z3wY1tRy"
      },
      "source": [
        "**ML LIB Modelling:**"
      ]
    },
    {
      "cell_type": "markdown",
      "metadata": {
        "id": "I1QhpYB01z55"
      },
      "source": [
        "***Using Logistic Regression Modelling***"
      ]
    },
    {
      "cell_type": "code",
      "metadata": {
        "id": "Lnpr_jwr1si1"
      },
      "source": [
        "from pyspark.ml.classification import LogisticRegression\n",
        "lr=LogisticRegression(featuresCol='scaled',labelCol='y')\n",
        "lrModel=lr.fit(train)"
      ],
      "execution_count": null,
      "outputs": []
    },
    {
      "cell_type": "code",
      "metadata": {
        "colab": {
          "base_uri": "https://localhost:8080/",
          "height": 265
        },
        "id": "-SrKQZDt2Q3V",
        "outputId": "866ee30e-9b67-49b8-c425-49e010b6ddfe"
      },
      "source": [
        "import matplotlib.pyplot as plt\n",
        "import numpy as np\n",
        "\n",
        "beta=np.sort(lrModel.coefficients)\n",
        "\n",
        "plt.plot(beta)\n",
        "plt.ylabel('Beta Coefficients')\n",
        "plt.show()"
      ],
      "execution_count": null,
      "outputs": [
        {
          "output_type": "display_data",
          "data": {
            "image/png": "[encoded data removed]",
            "text/plain": [
              "<Figure size 432x288 with 1 Axes>"
            ]
          },
          "metadata": {
            "needs_background": "light"
          }
        }
      ]
    },
    {
      "cell_type": "markdown",
      "metadata": {
        "id": "0IxTlhEG2qm8"
      },
      "source": [
        "**Receiver-operating characteristic and areaUnderROC**"
      ]
    },
    {
      "cell_type": "code",
      "metadata": {
        "colab": {
          "base_uri": "https://localhost:8080/",
          "height": 347
        },
        "id": "qKOMoKZc2RZS",
        "outputId": "e26c1ea4-654c-4fd7-baa5-396ec4474750"
      },
      "source": [
        "trainingSummary=lrModel.summary\n",
        "\n",
        "\n",
        "roc=trainingSummary.roc.toPandas()\n",
        "plt.plot(roc['FPR'],roc['TPR'])\n",
        "plt.ylabel('False Positive Rate')\n",
        "plt.xlabel('True Positive Rate')\n",
        "plt.title('ROC Curve')\n",
        "plt.show()\n",
        "\n",
        "print('Training set areaUnderROC:'+ str(trainingSummary.areaUnderROC))"
      ],
      "execution_count": null,
      "outputs": [
        {
          "output_type": "stream",
          "name": "stderr",
          "text": [
            "/usr/local/lib/python3.7/dist-packages/pyspark/sql/context.py:127: FutureWarning: Deprecated in 3.0.0. Use SparkSession.builder.getOrCreate() instead.\n",
            "  FutureWarning\n"
          ]
        },
        {
          "output_type": "display_data",
          "data": {
            "image/png": "[encoded data removed]",
            "text/plain": [
              "<Figure size 432x288 with 1 Axes>"
            ]
          },
          "metadata": {
            "needs_background": "light"
          }
        },
        {
          "output_type": "stream",
          "name": "stdout",
          "text": [
            "Training set areaUnderROC:0.9294813171035279\n"
          ]
        }
      ]
    },
    {
      "cell_type": "markdown",
      "metadata": {
        "id": "2M-Xhc932vVS"
      },
      "source": [
        "**Precision and recall**"
      ]
    },
    {
      "cell_type": "code",
      "metadata": {
        "colab": {
          "base_uri": "https://localhost:8080/",
          "height": 314
        },
        "id": "fXsf24so2iQQ",
        "outputId": "619c5500-7fe9-4d06-ee01-20cb904b46b8"
      },
      "source": [
        "pr=trainingSummary.pr.toPandas()\n",
        "plt.plot(pr['recall'],pr['precision'])\n",
        "plt.ylabel('Precision')\n",
        "plt.xlabel('Recall')\n",
        "plt.show()"
      ],
      "execution_count": null,
      "outputs": [
        {
          "output_type": "stream",
          "name": "stderr",
          "text": [
            "/usr/local/lib/python3.7/dist-packages/pyspark/sql/context.py:127: FutureWarning: Deprecated in 3.0.0. Use SparkSession.builder.getOrCreate() instead.\n",
            "  FutureWarning\n"
          ]
        },
        {
          "output_type": "display_data",
          "data": {
            "image/png": "[encoded data removed]",
            "text/plain": [
              "<Figure size 432x288 with 1 Axes>"
            ]
          },
          "metadata": {
            "needs_background": "light"
          }
        }
      ]
    },
    {
      "cell_type": "markdown",
      "metadata": {
        "id": "DCPWO_0121ph"
      },
      "source": [
        "**Making predictions on the test set**"
      ]
    },
    {
      "cell_type": "code",
      "metadata": {
        "colab": {
          "base_uri": "https://localhost:8080/"
        },
        "id": "nZUepQF82lhF",
        "outputId": "cfa76e76-820c-4447-d07a-7be48b4eda03"
      },
      "source": [
        "predictions=lrModel.transform(test)\n",
        "predictions.select('job',\n",
        " 'marital',\n",
        " 'education',\n",
        " 'default',\n",
        " 'housing',\n",
        " 'loan','y','rawPrediction','prediction','probability').show(30)"
      ],
      "execution_count": null,
      "outputs": [
        {
          "output_type": "stream",
          "name": "stdout",
          "text": [
            "+----+-------+---------+-------+-------+----+---+--------------------+----------+--------------------+\n",
            "| job|marital|education|default|housing|loan|  y|       rawPrediction|prediction|         probability|\n",
            "+----+-------+---------+-------+-------+----+---+--------------------+----------+--------------------+\n",
            "| 669|      0|      231|     -1|      0|   0|  0|[7.34854810780571...|       0.0|[0.99935688784659...|\n",
            "| 669|      0|      982|      0|      1|   0|  0|[5.24631510796942...|       0.0|[0.99476070418965...|\n",
            "| 395|      2|      945|      0|      1|   0|  0|[3.38275246987198...|       0.0|[0.96716113744104...|\n",
            "| 657|      2|     1507|     -1|      0|   0|  0|[4.04785131457518...|       0.0|[0.98283976504087...|\n",
            "|  35|      0|     1507|     -1|     -1|  -1|  0|[3.25866154659760...|       0.0|[0.96298310889019...|\n",
            "|  35|      0|      982|     -1|      1|   0|  0|[3.42051120047193...|       0.0|[0.96833944784040...|\n",
            "|1538|      0|     1507|      0|      1|   0|  0|[2.25272648687619...|       0.0|[0.90488545692562...|\n",
            "|1538|      2|      541|      0|      0|   0|  0|[5.04397113083480...|       0.0|[0.99359322030539...|\n",
            "| 657|      2|      541|     -1|      0|   0|  0|[9.28764153921129...|       0.0|[0.99990744746197...|\n",
            "|1538|      0|      945|      0|      0|   0|  0|[4.03290989419193...|       0.0|[0.98258594016152...|\n",
            "| 657|      0|      541|     -1|      1|   0|  0|[5.39947172924421...|       0.0|[0.99550136165015...|\n",
            "|1538|      0|     1507|     -1|      0|   1|  0|[5.02111233493784...|       0.0|[0.99344605324708...|\n",
            "| 298|      0|      945|     -1|      1|   0|  0|[1.57226276666905...|       0.0|[0.82810594433108...|\n",
            "|1538|      0|     1507|      0|      0|   0|  0|[4.23641874620994...|       0.0|[0.98574680930990...|\n",
            "| 669|      2|      982|      0|      1|   0|  0|[6.25941393124368...|       0.0|[0.99809128391783...|\n",
            "|1538|      0|     1507|     -1|      1|   0|  0|[4.41126392276933...|       0.0|[0.98800578286682...|\n",
            "| 669|      1|      982|     -1|      1|   0|  1|[0.06112851202945...|       0.0|[0.51527737106395...|\n",
            "| 298|      0|      945|     -1|      1|   0|  0|[3.45282547694019...|       0.0|[0.96931529077988...|\n",
            "| 657|      0|      982|      0|      0|   0|  1|[0.20970723102330...|       0.0|[0.55223551727233...|\n",
            "|  35|      0|      231|     -1|      1|   0|  0|[7.62356806195990...|       0.0|[0.99951144413718...|\n",
            "|1538|      0|      231|     -1|      0|   1|  0|[4.43055631986823...|       0.0|[0.98823226532640...|\n",
            "| 657|      2|      541|      0|      0|   0|  0|[4.58951795995439...|       0.0|[0.98994438878396...|\n",
            "| 242|      0|      231|     -1|      1|   0|  0|[3.72262447778447...|       0.0|[0.97639997353038...|\n",
            "| 669|      0|      982|     -1|      1|   0|  0|[4.44283177702955...|       0.0|[0.98837416750853...|\n",
            "|1538|      0|      982|      0|      0|   0|  0|[7.11251961928118...|       0.0|[0.99918582410395...|\n",
            "| 669|      0|      231|      0|      1|   0|  0|[3.92794047128229...|       0.0|[0.98069581590939...|\n",
            "| 669|      0|      982|      0|      1|   0|  0|[3.36898719995936...|       0.0|[0.96672112336980...|\n",
            "| 669|      0|      982|     -1|      0|   0|  0|[6.06890008540548...|       0.0|[0.99769162422528...|\n",
            "| 134|      2|     1507|      0|      1|   0|  0|[4.15361466879150...|       0.0|[0.98453537495360...|\n",
            "|  35|      1|      945|     -1|      1|   0|  0|[6.73361309199546...|       0.0|[0.99881119016267...|\n",
            "+----+-------+---------+-------+-------+----+---+--------------------+----------+--------------------+\n",
            "only showing top 30 rows\n",
            "\n"
          ]
        }
      ]
    },
    {
      "cell_type": "markdown",
      "metadata": {
        "id": "1nnKa1I22-hm"
      },
      "source": [
        "**Evaluating Logistic Regression model**"
      ]
    },
    {
      "cell_type": "code",
      "metadata": {
        "colab": {
          "base_uri": "https://localhost:8080/"
        },
        "id": "Y4HWOsxi2_Ds",
        "outputId": "505fc2e6-85be-4279-ec13-32d2616f49b7"
      },
      "source": [
        "from pyspark.ml.evaluation import BinaryClassificationEvaluator\n",
        "\n",
        "evaluator=BinaryClassificationEvaluator(labelCol='y')\n",
        "print('Test Area Under ROC',evaluator.evaluate(predictions))"
      ],
      "execution_count": null,
      "outputs": [
        {
          "output_type": "stream",
          "name": "stdout",
          "text": [
            "Test Area Under ROC 0.9245813630415245\n"
          ]
        }
      ]
    },
    {
      "cell_type": "markdown",
      "metadata": {
        "id": "QmMltSse3G1T"
      },
      "source": [
        "***Using Random Forest Classifier***"
      ]
    },
    {
      "cell_type": "code",
      "metadata": {
        "colab": {
          "base_uri": "https://localhost:8080/"
        },
        "id": "RsDT4Rtb3KGb",
        "outputId": "0b62e38a-e887-421f-f1d9-6d4c6782cbec"
      },
      "source": [
        "from pyspark.ml.classification import RandomForestClassifier\n",
        "rf=RandomForestClassifier(featuresCol='scaled',labelCol='y')\n",
        "rfModel=rf.fit(train)\n",
        "predictions=rfModel.transform(test)\n",
        "predictions.select('job',\n",
        " 'marital',\n",
        " 'education',\n",
        " 'default',\n",
        " 'housing',\n",
        " 'loan','y','rawPrediction','prediction','probability').show(10)"
      ],
      "execution_count": null,
      "outputs": [
        {
          "output_type": "stream",
          "name": "stdout",
          "text": [
            "+----+-------+---------+-------+-------+----+---+--------------------+----------+--------------------+\n",
            "| job|marital|education|default|housing|loan|  y|       rawPrediction|prediction|         probability|\n",
            "+----+-------+---------+-------+-------+----+---+--------------------+----------+--------------------+\n",
            "| 669|      0|      231|     -1|      0|   0|  0|[19.4467499791760...|       0.0|[0.97233749895880...|\n",
            "| 669|      0|      982|      0|      1|   0|  0|[19.4467499791760...|       0.0|[0.97233749895880...|\n",
            "| 395|      2|      945|      0|      1|   0|  0|[19.4467499791760...|       0.0|[0.97233749895880...|\n",
            "| 657|      2|     1507|     -1|      0|   0|  0|[19.4467499791760...|       0.0|[0.97233749895880...|\n",
            "|  35|      0|     1507|     -1|     -1|  -1|  0|[19.4467499791760...|       0.0|[0.97233749895880...|\n",
            "|  35|      0|      982|     -1|      1|   0|  0|[19.4467499791760...|       0.0|[0.97233749895880...|\n",
            "|1538|      0|     1507|      0|      1|   0|  0|[15.1418177572220...|       0.0|[0.75709088786110...|\n",
            "|1538|      2|      541|      0|      0|   0|  0|[19.4467499791760...|       0.0|[0.97233749895880...|\n",
            "| 657|      2|      541|     -1|      0|   0|  0|[19.4467499791760...|       0.0|[0.97233749895880...|\n",
            "|1538|      0|      945|      0|      0|   0|  0|[19.4467499791760...|       0.0|[0.97233749895880...|\n",
            "+----+-------+---------+-------+-------+----+---+--------------------+----------+--------------------+\n",
            "only showing top 10 rows\n",
            "\n"
          ]
        }
      ]
    },
    {
      "cell_type": "markdown",
      "metadata": {
        "id": "5-oyAlrB3NCK"
      },
      "source": [
        "**Evaluating Random Forest Classifier**"
      ]
    },
    {
      "cell_type": "code",
      "metadata": {
        "colab": {
          "base_uri": "https://localhost:8080/"
        },
        "id": "Brw8DmDV3LCc",
        "outputId": "e63acdbf-b16a-47c0-9145-6a005570439f"
      },
      "source": [
        "evaluator=BinaryClassificationEvaluator(labelCol='y')\n",
        "print('Test Area Under ROC:'+str(evaluator.evaluate(predictions,{evaluator.metricName:\"areaUnderROC\"})))"
      ],
      "execution_count": null,
      "outputs": [
        {
          "output_type": "stream",
          "name": "stdout",
          "text": [
            "Test Area Under ROC:0.9296147781228569\n"
          ]
        }
      ]
    }
  ]
}